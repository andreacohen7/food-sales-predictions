{
  "nbformat": 4,
  "nbformat_minor": 0,
  "metadata": {
    "colab": {
      "provenance": [],
      "authorship_tag": "ABX9TyM9r3ozxbuEG2DCXE9Z3+Yi",
      "include_colab_link": true
    },
    "kernelspec": {
      "name": "python3",
      "display_name": "Python 3"
    },
    "language_info": {
      "name": "python"
    }
  },
  "cells": [
    {
      "cell_type": "markdown",
      "metadata": {
        "id": "view-in-github",
        "colab_type": "text"
      },
      "source": [
        "<a href=\"https://colab.research.google.com/github/andreacohen7/food-sales-predictions/blob/main/Food_Sales_Predictions_Final.ipynb\" target=\"_parent\"><img src=\"https://colab.research.google.com/assets/colab-badge.svg\" alt=\"Open In Colab\"/></a>"
      ]
    },
    {
      "cell_type": "markdown",
      "source": [
        "# Food Sales Predictions\n",
        "- Andrea Cohen\n",
        "- 12.22.22"
      ],
      "metadata": {
        "id": "Hht1v5lTZ5x3"
      }
    },
    {
      "cell_type": "markdown",
      "source": [
        "## Task 1:\n",
        "To help the retailer understand the properties of products and outlets that play crucial roles in increasing sales."
      ],
      "metadata": {
        "id": "dV2BqU30ac2q"
      }
    },
    {
      "cell_type": "markdown",
      "source": [
        "## Task 2:\n",
        "To help the retailer by using machine learning to make predictions about future sales based on the data provided."
      ],
      "metadata": {
        "id": "UQA1GS-_vAgN"
      }
    },
    {
      "cell_type": "markdown",
      "source": [
        "## Data Dictionary:\n",
        "\n",
        "Variable Name\t| Description\n",
        "---| ---\n",
        "Item_Identifier |\tUnique product ID\n",
        "Item_Weight |\tWeight of product\n",
        "Item_Fat_Content |\tWhether the product is low fat or regular\n",
        "Item_Visibility |\tThe percentage of total display area of all products in a store allocated to the particular product\n",
        "Item_Type |\tThe category to which the product belongs\n",
        "Item_MRP |\tMaximum Retail Price (list price) of the product\n",
        "Outlet_Identifier |\tUnique store ID\n",
        "Outlet_Establishment_Year |\tThe year in which store was established\n",
        "Outlet_Size |\tThe size of the store in terms of ground area covered\n",
        "Outlet_Location_Type |\tThe type of area in which the store is located\n",
        "Outlet_Type |\tWhether the outlet is a grocery store or some sort of supermarket\n",
        "Item_Outlet_Sales |\tSales of the product in the particular store. This is the target variable to be predicted.\n"
      ],
      "metadata": {
        "id": "Mi58TgnbeTX9"
      }
    },
    {
      "cell_type": "markdown",
      "source": [
        "### Preliminary Steps"
      ],
      "metadata": {
        "id": "tL4_P2ZyfbA3"
      }
    },
    {
      "cell_type": "code",
      "execution_count": 1,
      "metadata": {
        "colab": {
          "base_uri": "https://localhost:8080/"
        },
        "id": "8UKJo7QtZzIl",
        "outputId": "fe48406a-ddb6-46f2-cfca-09d2058bea17"
      },
      "outputs": [
        {
          "output_type": "stream",
          "name": "stdout",
          "text": [
            "Mounted at /content/drive\n"
          ]
        }
      ],
      "source": [
        "#mount the drive\n",
        "from google.colab import drive\n",
        "drive.mount('/content/drive')"
      ]
    },
    {
      "cell_type": "code",
      "source": [
        "#import libraries\n",
        "import pandas as pd\n",
        "import numpy as np\n",
        "import matplotlib.pyplot as plt\n",
        "import seaborn as sns\n",
        "from sklearn.preprocessing import StandardScaler, OneHotEncoder\n",
        "from sklearn.impute import SimpleImputer\n",
        "from sklearn.compose import make_column_transformer, make_column_selector\n",
        "from sklearn.pipeline import make_pipeline\n",
        "from sklearn.model_selection import train_test_split\n",
        "from sklearn.linear_model import LinearRegression\n",
        "from sklearn.tree import DecisionTreeRegressor\n",
        "from sklearn.metrics import r2_score, mean_absolute_error, mean_squared_error\n",
        "from sklearn import set_config\n",
        "set_config(display='diagram')"
      ],
      "metadata": {
        "id": "Tkjc96wwfz5G"
      },
      "execution_count": 2,
      "outputs": []
    },
    {
      "cell_type": "markdown",
      "source": [
        "### Load and inspect the data."
      ],
      "metadata": {
        "id": "6Xc7-s-vgonR"
      }
    },
    {
      "cell_type": "code",
      "source": [
        "#load the dataset\n",
        "filename = '/content/sales_predictions.csv'\n",
        "df = pd.read_csv(filename)\n",
        "display(df.head())\n",
        "display(df.info())"
      ],
      "metadata": {
        "colab": {
          "base_uri": "https://localhost:8080/",
          "height": 714
        },
        "id": "3UFg4ugTge-H",
        "outputId": "536cb18e-b216-434a-ec69-333b4c511c76"
      },
      "execution_count": 3,
      "outputs": [
        {
          "output_type": "display_data",
          "data": {
            "text/plain": [
              "  Item_Identifier  Item_Weight Item_Fat_Content  Item_Visibility  \\\n",
              "0           FDA15         9.30          Low Fat         0.016047   \n",
              "1           DRC01         5.92          Regular         0.019278   \n",
              "2           FDN15        17.50          Low Fat         0.016760   \n",
              "3           FDX07        19.20          Regular         0.000000   \n",
              "4           NCD19         8.93          Low Fat         0.000000   \n",
              "\n",
              "               Item_Type  Item_MRP Outlet_Identifier  \\\n",
              "0                  Dairy  249.8092            OUT049   \n",
              "1            Soft Drinks   48.2692            OUT018   \n",
              "2                   Meat  141.6180            OUT049   \n",
              "3  Fruits and Vegetables  182.0950            OUT010   \n",
              "4              Household   53.8614            OUT013   \n",
              "\n",
              "   Outlet_Establishment_Year Outlet_Size Outlet_Location_Type  \\\n",
              "0                       1999      Medium               Tier 1   \n",
              "1                       2009      Medium               Tier 3   \n",
              "2                       1999      Medium               Tier 1   \n",
              "3                       1998         NaN               Tier 3   \n",
              "4                       1987        High               Tier 3   \n",
              "\n",
              "         Outlet_Type  Item_Outlet_Sales  \n",
              "0  Supermarket Type1          3735.1380  \n",
              "1  Supermarket Type2           443.4228  \n",
              "2  Supermarket Type1          2097.2700  \n",
              "3      Grocery Store           732.3800  \n",
              "4  Supermarket Type1           994.7052  "
            ],
            "text/html": [
              "\n",
              "  <div id=\"df-b4d9805f-14d8-4ad6-9b8c-072b28a4d70a\">\n",
              "    <div class=\"colab-df-container\">\n",
              "      <div>\n",
              "<style scoped>\n",
              "    .dataframe tbody tr th:only-of-type {\n",
              "        vertical-align: middle;\n",
              "    }\n",
              "\n",
              "    .dataframe tbody tr th {\n",
              "        vertical-align: top;\n",
              "    }\n",
              "\n",
              "    .dataframe thead th {\n",
              "        text-align: right;\n",
              "    }\n",
              "</style>\n",
              "<table border=\"1\" class=\"dataframe\">\n",
              "  <thead>\n",
              "    <tr style=\"text-align: right;\">\n",
              "      <th></th>\n",
              "      <th>Item_Identifier</th>\n",
              "      <th>Item_Weight</th>\n",
              "      <th>Item_Fat_Content</th>\n",
              "      <th>Item_Visibility</th>\n",
              "      <th>Item_Type</th>\n",
              "      <th>Item_MRP</th>\n",
              "      <th>Outlet_Identifier</th>\n",
              "      <th>Outlet_Establishment_Year</th>\n",
              "      <th>Outlet_Size</th>\n",
              "      <th>Outlet_Location_Type</th>\n",
              "      <th>Outlet_Type</th>\n",
              "      <th>Item_Outlet_Sales</th>\n",
              "    </tr>\n",
              "  </thead>\n",
              "  <tbody>\n",
              "    <tr>\n",
              "      <th>0</th>\n",
              "      <td>FDA15</td>\n",
              "      <td>9.30</td>\n",
              "      <td>Low Fat</td>\n",
              "      <td>0.016047</td>\n",
              "      <td>Dairy</td>\n",
              "      <td>249.8092</td>\n",
              "      <td>OUT049</td>\n",
              "      <td>1999</td>\n",
              "      <td>Medium</td>\n",
              "      <td>Tier 1</td>\n",
              "      <td>Supermarket Type1</td>\n",
              "      <td>3735.1380</td>\n",
              "    </tr>\n",
              "    <tr>\n",
              "      <th>1</th>\n",
              "      <td>DRC01</td>\n",
              "      <td>5.92</td>\n",
              "      <td>Regular</td>\n",
              "      <td>0.019278</td>\n",
              "      <td>Soft Drinks</td>\n",
              "      <td>48.2692</td>\n",
              "      <td>OUT018</td>\n",
              "      <td>2009</td>\n",
              "      <td>Medium</td>\n",
              "      <td>Tier 3</td>\n",
              "      <td>Supermarket Type2</td>\n",
              "      <td>443.4228</td>\n",
              "    </tr>\n",
              "    <tr>\n",
              "      <th>2</th>\n",
              "      <td>FDN15</td>\n",
              "      <td>17.50</td>\n",
              "      <td>Low Fat</td>\n",
              "      <td>0.016760</td>\n",
              "      <td>Meat</td>\n",
              "      <td>141.6180</td>\n",
              "      <td>OUT049</td>\n",
              "      <td>1999</td>\n",
              "      <td>Medium</td>\n",
              "      <td>Tier 1</td>\n",
              "      <td>Supermarket Type1</td>\n",
              "      <td>2097.2700</td>\n",
              "    </tr>\n",
              "    <tr>\n",
              "      <th>3</th>\n",
              "      <td>FDX07</td>\n",
              "      <td>19.20</td>\n",
              "      <td>Regular</td>\n",
              "      <td>0.000000</td>\n",
              "      <td>Fruits and Vegetables</td>\n",
              "      <td>182.0950</td>\n",
              "      <td>OUT010</td>\n",
              "      <td>1998</td>\n",
              "      <td>NaN</td>\n",
              "      <td>Tier 3</td>\n",
              "      <td>Grocery Store</td>\n",
              "      <td>732.3800</td>\n",
              "    </tr>\n",
              "    <tr>\n",
              "      <th>4</th>\n",
              "      <td>NCD19</td>\n",
              "      <td>8.93</td>\n",
              "      <td>Low Fat</td>\n",
              "      <td>0.000000</td>\n",
              "      <td>Household</td>\n",
              "      <td>53.8614</td>\n",
              "      <td>OUT013</td>\n",
              "      <td>1987</td>\n",
              "      <td>High</td>\n",
              "      <td>Tier 3</td>\n",
              "      <td>Supermarket Type1</td>\n",
              "      <td>994.7052</td>\n",
              "    </tr>\n",
              "  </tbody>\n",
              "</table>\n",
              "</div>\n",
              "      <button class=\"colab-df-convert\" onclick=\"convertToInteractive('df-b4d9805f-14d8-4ad6-9b8c-072b28a4d70a')\"\n",
              "              title=\"Convert this dataframe to an interactive table.\"\n",
              "              style=\"display:none;\">\n",
              "        \n",
              "  <svg xmlns=\"http://www.w3.org/2000/svg\" height=\"24px\"viewBox=\"0 0 24 24\"\n",
              "       width=\"24px\">\n",
              "    <path d=\"M0 0h24v24H0V0z\" fill=\"none\"/>\n",
              "    <path d=\"M18.56 5.44l.94 2.06.94-2.06 2.06-.94-2.06-.94-.94-2.06-.94 2.06-2.06.94zm-11 1L8.5 8.5l.94-2.06 2.06-.94-2.06-.94L8.5 2.5l-.94 2.06-2.06.94zm10 10l.94 2.06.94-2.06 2.06-.94-2.06-.94-.94-2.06-.94 2.06-2.06.94z\"/><path d=\"M17.41 7.96l-1.37-1.37c-.4-.4-.92-.59-1.43-.59-.52 0-1.04.2-1.43.59L10.3 9.45l-7.72 7.72c-.78.78-.78 2.05 0 2.83L4 21.41c.39.39.9.59 1.41.59.51 0 1.02-.2 1.41-.59l7.78-7.78 2.81-2.81c.8-.78.8-2.07 0-2.86zM5.41 20L4 18.59l7.72-7.72 1.47 1.35L5.41 20z\"/>\n",
              "  </svg>\n",
              "      </button>\n",
              "      \n",
              "  <style>\n",
              "    .colab-df-container {\n",
              "      display:flex;\n",
              "      flex-wrap:wrap;\n",
              "      gap: 12px;\n",
              "    }\n",
              "\n",
              "    .colab-df-convert {\n",
              "      background-color: #E8F0FE;\n",
              "      border: none;\n",
              "      border-radius: 50%;\n",
              "      cursor: pointer;\n",
              "      display: none;\n",
              "      fill: #1967D2;\n",
              "      height: 32px;\n",
              "      padding: 0 0 0 0;\n",
              "      width: 32px;\n",
              "    }\n",
              "\n",
              "    .colab-df-convert:hover {\n",
              "      background-color: #E2EBFA;\n",
              "      box-shadow: 0px 1px 2px rgba(60, 64, 67, 0.3), 0px 1px 3px 1px rgba(60, 64, 67, 0.15);\n",
              "      fill: #174EA6;\n",
              "    }\n",
              "\n",
              "    [theme=dark] .colab-df-convert {\n",
              "      background-color: #3B4455;\n",
              "      fill: #D2E3FC;\n",
              "    }\n",
              "\n",
              "    [theme=dark] .colab-df-convert:hover {\n",
              "      background-color: #434B5C;\n",
              "      box-shadow: 0px 1px 3px 1px rgba(0, 0, 0, 0.15);\n",
              "      filter: drop-shadow(0px 1px 2px rgba(0, 0, 0, 0.3));\n",
              "      fill: #FFFFFF;\n",
              "    }\n",
              "  </style>\n",
              "\n",
              "      <script>\n",
              "        const buttonEl =\n",
              "          document.querySelector('#df-b4d9805f-14d8-4ad6-9b8c-072b28a4d70a button.colab-df-convert');\n",
              "        buttonEl.style.display =\n",
              "          google.colab.kernel.accessAllowed ? 'block' : 'none';\n",
              "\n",
              "        async function convertToInteractive(key) {\n",
              "          const element = document.querySelector('#df-b4d9805f-14d8-4ad6-9b8c-072b28a4d70a');\n",
              "          const dataTable =\n",
              "            await google.colab.kernel.invokeFunction('convertToInteractive',\n",
              "                                                     [key], {});\n",
              "          if (!dataTable) return;\n",
              "\n",
              "          const docLinkHtml = 'Like what you see? Visit the ' +\n",
              "            '<a target=\"_blank\" href=https://colab.research.google.com/notebooks/data_table.ipynb>data table notebook</a>'\n",
              "            + ' to learn more about interactive tables.';\n",
              "          element.innerHTML = '';\n",
              "          dataTable['output_type'] = 'display_data';\n",
              "          await google.colab.output.renderOutput(dataTable, element);\n",
              "          const docLink = document.createElement('div');\n",
              "          docLink.innerHTML = docLinkHtml;\n",
              "          element.appendChild(docLink);\n",
              "        }\n",
              "      </script>\n",
              "    </div>\n",
              "  </div>\n",
              "  "
            ]
          },
          "metadata": {}
        },
        {
          "output_type": "stream",
          "name": "stdout",
          "text": [
            "<class 'pandas.core.frame.DataFrame'>\n",
            "RangeIndex: 8523 entries, 0 to 8522\n",
            "Data columns (total 12 columns):\n",
            " #   Column                     Non-Null Count  Dtype  \n",
            "---  ------                     --------------  -----  \n",
            " 0   Item_Identifier            8523 non-null   object \n",
            " 1   Item_Weight                7060 non-null   float64\n",
            " 2   Item_Fat_Content           8523 non-null   object \n",
            " 3   Item_Visibility            8523 non-null   float64\n",
            " 4   Item_Type                  8523 non-null   object \n",
            " 5   Item_MRP                   8523 non-null   float64\n",
            " 6   Outlet_Identifier          8523 non-null   object \n",
            " 7   Outlet_Establishment_Year  8523 non-null   int64  \n",
            " 8   Outlet_Size                6113 non-null   object \n",
            " 9   Outlet_Location_Type       8523 non-null   object \n",
            " 10  Outlet_Type                8523 non-null   object \n",
            " 11  Item_Outlet_Sales          8523 non-null   float64\n",
            "dtypes: float64(4), int64(1), object(7)\n",
            "memory usage: 799.2+ KB\n"
          ]
        },
        {
          "output_type": "display_data",
          "data": {
            "text/plain": [
              "None"
            ]
          },
          "metadata": {}
        }
      ]
    },
    {
      "cell_type": "code",
      "source": [
        "#how many rows and columns?\n",
        "df.shape"
      ],
      "metadata": {
        "colab": {
          "base_uri": "https://localhost:8080/"
        },
        "id": "00JV8hCXg6YT",
        "outputId": "1565e45e-faf3-4e86-b7c6-0fa072ef639d"
      },
      "execution_count": 4,
      "outputs": [
        {
          "output_type": "execute_result",
          "data": {
            "text/plain": [
              "(8523, 12)"
            ]
          },
          "metadata": {},
          "execution_count": 4
        }
      ]
    },
    {
      "cell_type": "markdown",
      "source": [
        "  - There are 8523 rows and 12 columns."
      ],
      "metadata": {
        "id": "1SYfLWF7iaFC"
      }
    },
    {
      "cell_type": "code",
      "source": [
        "#what are the datatypes of each variable?\n",
        "df.dtypes"
      ],
      "metadata": {
        "colab": {
          "base_uri": "https://localhost:8080/"
        },
        "id": "dhlXx-o-hS-E",
        "outputId": "36d6ac9d-c0d8-41cc-e51e-d738596b045b"
      },
      "execution_count": 5,
      "outputs": [
        {
          "output_type": "execute_result",
          "data": {
            "text/plain": [
              "Item_Identifier               object\n",
              "Item_Weight                  float64\n",
              "Item_Fat_Content              object\n",
              "Item_Visibility              float64\n",
              "Item_Type                     object\n",
              "Item_MRP                     float64\n",
              "Outlet_Identifier             object\n",
              "Outlet_Establishment_Year      int64\n",
              "Outlet_Size                   object\n",
              "Outlet_Location_Type          object\n",
              "Outlet_Type                   object\n",
              "Item_Outlet_Sales            float64\n",
              "dtype: object"
            ]
          },
          "metadata": {},
          "execution_count": 5
        }
      ]
    },
    {
      "cell_type": "markdown",
      "source": [
        "  - Item_Identifier, Item_Fat_Content, Item_Type, Outlet_Identifier, Outlet_Size, Outlet_Location_Type, and Outlet_Type are all datatype object. \n",
        "  - Item_Weight, Item_Visibility, Item_MRP, and Item_Outlet Sales are all datatype float64. \n",
        "  - Item_Establishment_Year is datatype int64."
      ],
      "metadata": {
        "id": "qfAwDeNIimsV"
      }
    },
    {
      "cell_type": "code",
      "source": [
        "display(df.describe(include='number'))\n",
        "display(df.describe(exclude='number'))"
      ],
      "metadata": {
        "colab": {
          "base_uri": "https://localhost:8080/",
          "height": 458
        },
        "id": "23A4VbUgkngQ",
        "outputId": "b6bc46fd-8c6f-41b6-96ce-9c2fcb784000"
      },
      "execution_count": 6,
      "outputs": [
        {
          "output_type": "display_data",
          "data": {
            "text/plain": [
              "       Item_Weight  Item_Visibility     Item_MRP  Outlet_Establishment_Year  \\\n",
              "count  7060.000000      8523.000000  8523.000000                8523.000000   \n",
              "mean     12.857645         0.066132   140.992782                1997.831867   \n",
              "std       4.643456         0.051598    62.275067                   8.371760   \n",
              "min       4.555000         0.000000    31.290000                1985.000000   \n",
              "25%       8.773750         0.026989    93.826500                1987.000000   \n",
              "50%      12.600000         0.053931   143.012800                1999.000000   \n",
              "75%      16.850000         0.094585   185.643700                2004.000000   \n",
              "max      21.350000         0.328391   266.888400                2009.000000   \n",
              "\n",
              "       Item_Outlet_Sales  \n",
              "count        8523.000000  \n",
              "mean         2181.288914  \n",
              "std          1706.499616  \n",
              "min            33.290000  \n",
              "25%           834.247400  \n",
              "50%          1794.331000  \n",
              "75%          3101.296400  \n",
              "max         13086.964800  "
            ],
            "text/html": [
              "\n",
              "  <div id=\"df-665a9704-4afe-4729-809e-cfbac348c212\">\n",
              "    <div class=\"colab-df-container\">\n",
              "      <div>\n",
              "<style scoped>\n",
              "    .dataframe tbody tr th:only-of-type {\n",
              "        vertical-align: middle;\n",
              "    }\n",
              "\n",
              "    .dataframe tbody tr th {\n",
              "        vertical-align: top;\n",
              "    }\n",
              "\n",
              "    .dataframe thead th {\n",
              "        text-align: right;\n",
              "    }\n",
              "</style>\n",
              "<table border=\"1\" class=\"dataframe\">\n",
              "  <thead>\n",
              "    <tr style=\"text-align: right;\">\n",
              "      <th></th>\n",
              "      <th>Item_Weight</th>\n",
              "      <th>Item_Visibility</th>\n",
              "      <th>Item_MRP</th>\n",
              "      <th>Outlet_Establishment_Year</th>\n",
              "      <th>Item_Outlet_Sales</th>\n",
              "    </tr>\n",
              "  </thead>\n",
              "  <tbody>\n",
              "    <tr>\n",
              "      <th>count</th>\n",
              "      <td>7060.000000</td>\n",
              "      <td>8523.000000</td>\n",
              "      <td>8523.000000</td>\n",
              "      <td>8523.000000</td>\n",
              "      <td>8523.000000</td>\n",
              "    </tr>\n",
              "    <tr>\n",
              "      <th>mean</th>\n",
              "      <td>12.857645</td>\n",
              "      <td>0.066132</td>\n",
              "      <td>140.992782</td>\n",
              "      <td>1997.831867</td>\n",
              "      <td>2181.288914</td>\n",
              "    </tr>\n",
              "    <tr>\n",
              "      <th>std</th>\n",
              "      <td>4.643456</td>\n",
              "      <td>0.051598</td>\n",
              "      <td>62.275067</td>\n",
              "      <td>8.371760</td>\n",
              "      <td>1706.499616</td>\n",
              "    </tr>\n",
              "    <tr>\n",
              "      <th>min</th>\n",
              "      <td>4.555000</td>\n",
              "      <td>0.000000</td>\n",
              "      <td>31.290000</td>\n",
              "      <td>1985.000000</td>\n",
              "      <td>33.290000</td>\n",
              "    </tr>\n",
              "    <tr>\n",
              "      <th>25%</th>\n",
              "      <td>8.773750</td>\n",
              "      <td>0.026989</td>\n",
              "      <td>93.826500</td>\n",
              "      <td>1987.000000</td>\n",
              "      <td>834.247400</td>\n",
              "    </tr>\n",
              "    <tr>\n",
              "      <th>50%</th>\n",
              "      <td>12.600000</td>\n",
              "      <td>0.053931</td>\n",
              "      <td>143.012800</td>\n",
              "      <td>1999.000000</td>\n",
              "      <td>1794.331000</td>\n",
              "    </tr>\n",
              "    <tr>\n",
              "      <th>75%</th>\n",
              "      <td>16.850000</td>\n",
              "      <td>0.094585</td>\n",
              "      <td>185.643700</td>\n",
              "      <td>2004.000000</td>\n",
              "      <td>3101.296400</td>\n",
              "    </tr>\n",
              "    <tr>\n",
              "      <th>max</th>\n",
              "      <td>21.350000</td>\n",
              "      <td>0.328391</td>\n",
              "      <td>266.888400</td>\n",
              "      <td>2009.000000</td>\n",
              "      <td>13086.964800</td>\n",
              "    </tr>\n",
              "  </tbody>\n",
              "</table>\n",
              "</div>\n",
              "      <button class=\"colab-df-convert\" onclick=\"convertToInteractive('df-665a9704-4afe-4729-809e-cfbac348c212')\"\n",
              "              title=\"Convert this dataframe to an interactive table.\"\n",
              "              style=\"display:none;\">\n",
              "        \n",
              "  <svg xmlns=\"http://www.w3.org/2000/svg\" height=\"24px\"viewBox=\"0 0 24 24\"\n",
              "       width=\"24px\">\n",
              "    <path d=\"M0 0h24v24H0V0z\" fill=\"none\"/>\n",
              "    <path d=\"M18.56 5.44l.94 2.06.94-2.06 2.06-.94-2.06-.94-.94-2.06-.94 2.06-2.06.94zm-11 1L8.5 8.5l.94-2.06 2.06-.94-2.06-.94L8.5 2.5l-.94 2.06-2.06.94zm10 10l.94 2.06.94-2.06 2.06-.94-2.06-.94-.94-2.06-.94 2.06-2.06.94z\"/><path d=\"M17.41 7.96l-1.37-1.37c-.4-.4-.92-.59-1.43-.59-.52 0-1.04.2-1.43.59L10.3 9.45l-7.72 7.72c-.78.78-.78 2.05 0 2.83L4 21.41c.39.39.9.59 1.41.59.51 0 1.02-.2 1.41-.59l7.78-7.78 2.81-2.81c.8-.78.8-2.07 0-2.86zM5.41 20L4 18.59l7.72-7.72 1.47 1.35L5.41 20z\"/>\n",
              "  </svg>\n",
              "      </button>\n",
              "      \n",
              "  <style>\n",
              "    .colab-df-container {\n",
              "      display:flex;\n",
              "      flex-wrap:wrap;\n",
              "      gap: 12px;\n",
              "    }\n",
              "\n",
              "    .colab-df-convert {\n",
              "      background-color: #E8F0FE;\n",
              "      border: none;\n",
              "      border-radius: 50%;\n",
              "      cursor: pointer;\n",
              "      display: none;\n",
              "      fill: #1967D2;\n",
              "      height: 32px;\n",
              "      padding: 0 0 0 0;\n",
              "      width: 32px;\n",
              "    }\n",
              "\n",
              "    .colab-df-convert:hover {\n",
              "      background-color: #E2EBFA;\n",
              "      box-shadow: 0px 1px 2px rgba(60, 64, 67, 0.3), 0px 1px 3px 1px rgba(60, 64, 67, 0.15);\n",
              "      fill: #174EA6;\n",
              "    }\n",
              "\n",
              "    [theme=dark] .colab-df-convert {\n",
              "      background-color: #3B4455;\n",
              "      fill: #D2E3FC;\n",
              "    }\n",
              "\n",
              "    [theme=dark] .colab-df-convert:hover {\n",
              "      background-color: #434B5C;\n",
              "      box-shadow: 0px 1px 3px 1px rgba(0, 0, 0, 0.15);\n",
              "      filter: drop-shadow(0px 1px 2px rgba(0, 0, 0, 0.3));\n",
              "      fill: #FFFFFF;\n",
              "    }\n",
              "  </style>\n",
              "\n",
              "      <script>\n",
              "        const buttonEl =\n",
              "          document.querySelector('#df-665a9704-4afe-4729-809e-cfbac348c212 button.colab-df-convert');\n",
              "        buttonEl.style.display =\n",
              "          google.colab.kernel.accessAllowed ? 'block' : 'none';\n",
              "\n",
              "        async function convertToInteractive(key) {\n",
              "          const element = document.querySelector('#df-665a9704-4afe-4729-809e-cfbac348c212');\n",
              "          const dataTable =\n",
              "            await google.colab.kernel.invokeFunction('convertToInteractive',\n",
              "                                                     [key], {});\n",
              "          if (!dataTable) return;\n",
              "\n",
              "          const docLinkHtml = 'Like what you see? Visit the ' +\n",
              "            '<a target=\"_blank\" href=https://colab.research.google.com/notebooks/data_table.ipynb>data table notebook</a>'\n",
              "            + ' to learn more about interactive tables.';\n",
              "          element.innerHTML = '';\n",
              "          dataTable['output_type'] = 'display_data';\n",
              "          await google.colab.output.renderOutput(dataTable, element);\n",
              "          const docLink = document.createElement('div');\n",
              "          docLink.innerHTML = docLinkHtml;\n",
              "          element.appendChild(docLink);\n",
              "        }\n",
              "      </script>\n",
              "    </div>\n",
              "  </div>\n",
              "  "
            ]
          },
          "metadata": {}
        },
        {
          "output_type": "display_data",
          "data": {
            "text/plain": [
              "       Item_Identifier Item_Fat_Content              Item_Type  \\\n",
              "count             8523             8523                   8523   \n",
              "unique            1559                5                     16   \n",
              "top              FDW13          Low Fat  Fruits and Vegetables   \n",
              "freq                10             5089                   1232   \n",
              "\n",
              "       Outlet_Identifier Outlet_Size Outlet_Location_Type        Outlet_Type  \n",
              "count               8523        6113                 8523               8523  \n",
              "unique                10           3                    3                  4  \n",
              "top               OUT027      Medium               Tier 3  Supermarket Type1  \n",
              "freq                 935        2793                 3350               5577  "
            ],
            "text/html": [
              "\n",
              "  <div id=\"df-ddb1153d-3f79-453e-91a8-952f2daa2164\">\n",
              "    <div class=\"colab-df-container\">\n",
              "      <div>\n",
              "<style scoped>\n",
              "    .dataframe tbody tr th:only-of-type {\n",
              "        vertical-align: middle;\n",
              "    }\n",
              "\n",
              "    .dataframe tbody tr th {\n",
              "        vertical-align: top;\n",
              "    }\n",
              "\n",
              "    .dataframe thead th {\n",
              "        text-align: right;\n",
              "    }\n",
              "</style>\n",
              "<table border=\"1\" class=\"dataframe\">\n",
              "  <thead>\n",
              "    <tr style=\"text-align: right;\">\n",
              "      <th></th>\n",
              "      <th>Item_Identifier</th>\n",
              "      <th>Item_Fat_Content</th>\n",
              "      <th>Item_Type</th>\n",
              "      <th>Outlet_Identifier</th>\n",
              "      <th>Outlet_Size</th>\n",
              "      <th>Outlet_Location_Type</th>\n",
              "      <th>Outlet_Type</th>\n",
              "    </tr>\n",
              "  </thead>\n",
              "  <tbody>\n",
              "    <tr>\n",
              "      <th>count</th>\n",
              "      <td>8523</td>\n",
              "      <td>8523</td>\n",
              "      <td>8523</td>\n",
              "      <td>8523</td>\n",
              "      <td>6113</td>\n",
              "      <td>8523</td>\n",
              "      <td>8523</td>\n",
              "    </tr>\n",
              "    <tr>\n",
              "      <th>unique</th>\n",
              "      <td>1559</td>\n",
              "      <td>5</td>\n",
              "      <td>16</td>\n",
              "      <td>10</td>\n",
              "      <td>3</td>\n",
              "      <td>3</td>\n",
              "      <td>4</td>\n",
              "    </tr>\n",
              "    <tr>\n",
              "      <th>top</th>\n",
              "      <td>FDW13</td>\n",
              "      <td>Low Fat</td>\n",
              "      <td>Fruits and Vegetables</td>\n",
              "      <td>OUT027</td>\n",
              "      <td>Medium</td>\n",
              "      <td>Tier 3</td>\n",
              "      <td>Supermarket Type1</td>\n",
              "    </tr>\n",
              "    <tr>\n",
              "      <th>freq</th>\n",
              "      <td>10</td>\n",
              "      <td>5089</td>\n",
              "      <td>1232</td>\n",
              "      <td>935</td>\n",
              "      <td>2793</td>\n",
              "      <td>3350</td>\n",
              "      <td>5577</td>\n",
              "    </tr>\n",
              "  </tbody>\n",
              "</table>\n",
              "</div>\n",
              "      <button class=\"colab-df-convert\" onclick=\"convertToInteractive('df-ddb1153d-3f79-453e-91a8-952f2daa2164')\"\n",
              "              title=\"Convert this dataframe to an interactive table.\"\n",
              "              style=\"display:none;\">\n",
              "        \n",
              "  <svg xmlns=\"http://www.w3.org/2000/svg\" height=\"24px\"viewBox=\"0 0 24 24\"\n",
              "       width=\"24px\">\n",
              "    <path d=\"M0 0h24v24H0V0z\" fill=\"none\"/>\n",
              "    <path d=\"M18.56 5.44l.94 2.06.94-2.06 2.06-.94-2.06-.94-.94-2.06-.94 2.06-2.06.94zm-11 1L8.5 8.5l.94-2.06 2.06-.94-2.06-.94L8.5 2.5l-.94 2.06-2.06.94zm10 10l.94 2.06.94-2.06 2.06-.94-2.06-.94-.94-2.06-.94 2.06-2.06.94z\"/><path d=\"M17.41 7.96l-1.37-1.37c-.4-.4-.92-.59-1.43-.59-.52 0-1.04.2-1.43.59L10.3 9.45l-7.72 7.72c-.78.78-.78 2.05 0 2.83L4 21.41c.39.39.9.59 1.41.59.51 0 1.02-.2 1.41-.59l7.78-7.78 2.81-2.81c.8-.78.8-2.07 0-2.86zM5.41 20L4 18.59l7.72-7.72 1.47 1.35L5.41 20z\"/>\n",
              "  </svg>\n",
              "      </button>\n",
              "      \n",
              "  <style>\n",
              "    .colab-df-container {\n",
              "      display:flex;\n",
              "      flex-wrap:wrap;\n",
              "      gap: 12px;\n",
              "    }\n",
              "\n",
              "    .colab-df-convert {\n",
              "      background-color: #E8F0FE;\n",
              "      border: none;\n",
              "      border-radius: 50%;\n",
              "      cursor: pointer;\n",
              "      display: none;\n",
              "      fill: #1967D2;\n",
              "      height: 32px;\n",
              "      padding: 0 0 0 0;\n",
              "      width: 32px;\n",
              "    }\n",
              "\n",
              "    .colab-df-convert:hover {\n",
              "      background-color: #E2EBFA;\n",
              "      box-shadow: 0px 1px 2px rgba(60, 64, 67, 0.3), 0px 1px 3px 1px rgba(60, 64, 67, 0.15);\n",
              "      fill: #174EA6;\n",
              "    }\n",
              "\n",
              "    [theme=dark] .colab-df-convert {\n",
              "      background-color: #3B4455;\n",
              "      fill: #D2E3FC;\n",
              "    }\n",
              "\n",
              "    [theme=dark] .colab-df-convert:hover {\n",
              "      background-color: #434B5C;\n",
              "      box-shadow: 0px 1px 3px 1px rgba(0, 0, 0, 0.15);\n",
              "      filter: drop-shadow(0px 1px 2px rgba(0, 0, 0, 0.3));\n",
              "      fill: #FFFFFF;\n",
              "    }\n",
              "  </style>\n",
              "\n",
              "      <script>\n",
              "        const buttonEl =\n",
              "          document.querySelector('#df-ddb1153d-3f79-453e-91a8-952f2daa2164 button.colab-df-convert');\n",
              "        buttonEl.style.display =\n",
              "          google.colab.kernel.accessAllowed ? 'block' : 'none';\n",
              "\n",
              "        async function convertToInteractive(key) {\n",
              "          const element = document.querySelector('#df-ddb1153d-3f79-453e-91a8-952f2daa2164');\n",
              "          const dataTable =\n",
              "            await google.colab.kernel.invokeFunction('convertToInteractive',\n",
              "                                                     [key], {});\n",
              "          if (!dataTable) return;\n",
              "\n",
              "          const docLinkHtml = 'Like what you see? Visit the ' +\n",
              "            '<a target=\"_blank\" href=https://colab.research.google.com/notebooks/data_table.ipynb>data table notebook</a>'\n",
              "            + ' to learn more about interactive tables.';\n",
              "          element.innerHTML = '';\n",
              "          dataTable['output_type'] = 'display_data';\n",
              "          await google.colab.output.renderOutput(dataTable, element);\n",
              "          const docLink = document.createElement('div');\n",
              "          docLink.innerHTML = docLinkHtml;\n",
              "          element.appendChild(docLink);\n",
              "        }\n",
              "      </script>\n",
              "    </div>\n",
              "  </div>\n",
              "  "
            ]
          },
          "metadata": {}
        }
      ]
    },
    {
      "cell_type": "markdown",
      "source": [
        "### Clean the data"
      ],
      "metadata": {
        "id": "YhbE4EiVjgfO"
      }
    },
    {
      "cell_type": "code",
      "source": [
        "# make a copy of original df\n",
        "clean_df = df.copy()"
      ],
      "metadata": {
        "id": "JgIwgwinoEpc"
      },
      "execution_count": 7,
      "outputs": []
    },
    {
      "cell_type": "code",
      "source": [
        "#are there any duplicates? if so drop any duplicates\n",
        "display(clean_df.duplicated())\n",
        "clean_df.duplicated().sum()"
      ],
      "metadata": {
        "colab": {
          "base_uri": "https://localhost:8080/",
          "height": 249
        },
        "id": "hS3a1LIwhybZ",
        "outputId": "3a77f88a-8b85-4259-f745-cacef7864514"
      },
      "execution_count": 8,
      "outputs": [
        {
          "output_type": "display_data",
          "data": {
            "text/plain": [
              "0       False\n",
              "1       False\n",
              "2       False\n",
              "3       False\n",
              "4       False\n",
              "        ...  \n",
              "8518    False\n",
              "8519    False\n",
              "8520    False\n",
              "8521    False\n",
              "8522    False\n",
              "Length: 8523, dtype: bool"
            ]
          },
          "metadata": {}
        },
        {
          "output_type": "execute_result",
          "data": {
            "text/plain": [
              "0"
            ]
          },
          "metadata": {},
          "execution_count": 8
        }
      ]
    },
    {
      "cell_type": "markdown",
      "source": [
        "  - There are 0 duplicates."
      ],
      "metadata": {
        "id": "luo5jb3Hl4ga"
      }
    },
    {
      "cell_type": "code",
      "source": [
        "#identify missing values\n",
        "clean_df.isna().sum()"
      ],
      "metadata": {
        "colab": {
          "base_uri": "https://localhost:8080/"
        },
        "id": "pq4kGYJzl0Pw",
        "outputId": "7c661a28-4645-4aae-c618-4ccf5fd9a87f"
      },
      "execution_count": 9,
      "outputs": [
        {
          "output_type": "execute_result",
          "data": {
            "text/plain": [
              "Item_Identifier                 0\n",
              "Item_Weight                  1463\n",
              "Item_Fat_Content                0\n",
              "Item_Visibility                 0\n",
              "Item_Type                       0\n",
              "Item_MRP                        0\n",
              "Outlet_Identifier               0\n",
              "Outlet_Establishment_Year       0\n",
              "Outlet_Size                  2410\n",
              "Outlet_Location_Type            0\n",
              "Outlet_Type                     0\n",
              "Item_Outlet_Sales               0\n",
              "dtype: int64"
            ]
          },
          "metadata": {},
          "execution_count": 9
        }
      ]
    },
    {
      "cell_type": "markdown",
      "source": [
        "  - There are 1463 missing values in Item_Weight, and there are 2410 missing values in Outlet_Size."
      ],
      "metadata": {
        "id": "ISYOjwvwmJvQ"
      }
    },
    {
      "cell_type": "code",
      "source": [
        "#decide on how to address the missing values and do it\n",
        "display(clean_df['Item_Weight'].nunique())\n",
        "mean_weight = clean_df['Item_Weight'].mean().round(2)\n",
        "clean_df['Item_Weight'].fillna(mean_weight, inplace=True)\n",
        "display(clean_df.isna().sum())"
      ],
      "metadata": {
        "colab": {
          "base_uri": "https://localhost:8080/",
          "height": 267
        },
        "id": "KjFEx00HmDPf",
        "outputId": "32c58617-55d7-4eef-ac95-25b333cf2db2"
      },
      "execution_count": 10,
      "outputs": [
        {
          "output_type": "display_data",
          "data": {
            "text/plain": [
              "415"
            ]
          },
          "metadata": {}
        },
        {
          "output_type": "display_data",
          "data": {
            "text/plain": [
              "Item_Identifier                 0\n",
              "Item_Weight                     0\n",
              "Item_Fat_Content                0\n",
              "Item_Visibility                 0\n",
              "Item_Type                       0\n",
              "Item_MRP                        0\n",
              "Outlet_Identifier               0\n",
              "Outlet_Establishment_Year       0\n",
              "Outlet_Size                  2410\n",
              "Outlet_Location_Type            0\n",
              "Outlet_Type                     0\n",
              "Item_Outlet_Sales               0\n",
              "dtype: int64"
            ]
          },
          "metadata": {}
        }
      ]
    },
    {
      "cell_type": "markdown",
      "source": [
        "- For the Column 'Item_Weight':\n",
        "  - Dropping rows was not a good option because 17% of rows are missing data--too many (>2%) to just eliminate.\n",
        "  - Dropping columns was not a good option because the weight of the item might be an important property for predicting the sales of that item. Also, <50% of the data are missing, too little to just eliminate.\n",
        "  - Creating a new category was not a good option because the data are type float instead of type object.\n",
        "  - Imputing missing values is a great option because the average (mean) value would likely be closest to the correct value that is missing."
      ],
      "metadata": {
        "id": "tuFnbmtno1c4"
      }
    },
    {
      "cell_type": "code",
      "source": [
        "display(clean_df['Outlet_Size'].nunique())\n",
        "display(clean_df['Outlet_Size'].value_counts())\n",
        "clean_df['Outlet_Size'].fillna('Missing', inplace=True)\n",
        "display(clean_df['Outlet_Size'].value_counts())\n",
        "display(clean_df.isna().sum())"
      ],
      "metadata": {
        "colab": {
          "base_uri": "https://localhost:8080/",
          "height": 428
        },
        "id": "f9atnXvHpMeB",
        "outputId": "58dc7459-d927-45e5-e454-c5e1bfa25366"
      },
      "execution_count": 11,
      "outputs": [
        {
          "output_type": "display_data",
          "data": {
            "text/plain": [
              "3"
            ]
          },
          "metadata": {}
        },
        {
          "output_type": "display_data",
          "data": {
            "text/plain": [
              "Medium    2793\n",
              "Small     2388\n",
              "High       932\n",
              "Name: Outlet_Size, dtype: int64"
            ]
          },
          "metadata": {}
        },
        {
          "output_type": "display_data",
          "data": {
            "text/plain": [
              "Medium     2793\n",
              "Missing    2410\n",
              "Small      2388\n",
              "High        932\n",
              "Name: Outlet_Size, dtype: int64"
            ]
          },
          "metadata": {}
        },
        {
          "output_type": "display_data",
          "data": {
            "text/plain": [
              "Item_Identifier              0\n",
              "Item_Weight                  0\n",
              "Item_Fat_Content             0\n",
              "Item_Visibility              0\n",
              "Item_Type                    0\n",
              "Item_MRP                     0\n",
              "Outlet_Identifier            0\n",
              "Outlet_Establishment_Year    0\n",
              "Outlet_Size                  0\n",
              "Outlet_Location_Type         0\n",
              "Outlet_Type                  0\n",
              "Item_Outlet_Sales            0\n",
              "dtype: int64"
            ]
          },
          "metadata": {}
        }
      ]
    },
    {
      "cell_type": "markdown",
      "source": [
        "- For the column 'Outlet_Size':\n",
        "  - Dropping rows was not a good option because 28% of rows are missing data--too many (>2%) to just eliminate.\n",
        "  - Dropping columns was not a good option because the size of the outlet might be an important property for predicting sales. Also, <50% of the data are missing, too little to just eliminate.\n",
        "  - Imputing missing values was not a good option because the data are type object instead of type float or int.\n",
        "  - Creating a new category is a good option because the information is categorical, and there might be a pattern to the missing data."
      ],
      "metadata": {
        "id": "xRy2CUGfpbLb"
      }
    },
    {
      "cell_type": "code",
      "source": [
        "#confirm that there are no missing values\n",
        "display(clean_df.isna().sum())"
      ],
      "metadata": {
        "colab": {
          "base_uri": "https://localhost:8080/",
          "height": 249
        },
        "id": "M539_4pKpV-W",
        "outputId": "d6cff06c-0802-496f-cd56-105b3f92cd31"
      },
      "execution_count": 12,
      "outputs": [
        {
          "output_type": "display_data",
          "data": {
            "text/plain": [
              "Item_Identifier              0\n",
              "Item_Weight                  0\n",
              "Item_Fat_Content             0\n",
              "Item_Visibility              0\n",
              "Item_Type                    0\n",
              "Item_MRP                     0\n",
              "Outlet_Identifier            0\n",
              "Outlet_Establishment_Year    0\n",
              "Outlet_Size                  0\n",
              "Outlet_Location_Type         0\n",
              "Outlet_Type                  0\n",
              "Item_Outlet_Sales            0\n",
              "dtype: int64"
            ]
          },
          "metadata": {}
        }
      ]
    },
    {
      "cell_type": "markdown",
      "source": [
        "  - There are no more missing values."
      ],
      "metadata": {
        "id": "sgctULg7p1o9"
      }
    },
    {
      "cell_type": "code",
      "source": [
        "#find and fix any inconsistent categories of data\n",
        "dtypes = clean_df.dtypes\n",
        "str_cols = dtypes[dtypes=='object'].index\n",
        "for col in str_cols:\n",
        "  print(f'Column= {col}')\n",
        "  print(clean_df[col].value_counts())\n",
        "  print(' ')"
      ],
      "metadata": {
        "colab": {
          "base_uri": "https://localhost:8080/"
        },
        "id": "2jId9oE0pstL",
        "outputId": "b7e7bc7d-b982-4891-e6f0-d19ead861d2a"
      },
      "execution_count": 13,
      "outputs": [
        {
          "output_type": "stream",
          "name": "stdout",
          "text": [
            "Column= Item_Identifier\n",
            "FDW13    10\n",
            "FDG33    10\n",
            "NCY18     9\n",
            "FDD38     9\n",
            "DRE49     9\n",
            "         ..\n",
            "FDY43     1\n",
            "FDQ60     1\n",
            "FDO33     1\n",
            "DRF48     1\n",
            "FDC23     1\n",
            "Name: Item_Identifier, Length: 1559, dtype: int64\n",
            " \n",
            "Column= Item_Fat_Content\n",
            "Low Fat    5089\n",
            "Regular    2889\n",
            "LF          316\n",
            "reg         117\n",
            "low fat     112\n",
            "Name: Item_Fat_Content, dtype: int64\n",
            " \n",
            "Column= Item_Type\n",
            "Fruits and Vegetables    1232\n",
            "Snack Foods              1200\n",
            "Household                 910\n",
            "Frozen Foods              856\n",
            "Dairy                     682\n",
            "Canned                    649\n",
            "Baking Goods              648\n",
            "Health and Hygiene        520\n",
            "Soft Drinks               445\n",
            "Meat                      425\n",
            "Breads                    251\n",
            "Hard Drinks               214\n",
            "Others                    169\n",
            "Starchy Foods             148\n",
            "Breakfast                 110\n",
            "Seafood                    64\n",
            "Name: Item_Type, dtype: int64\n",
            " \n",
            "Column= Outlet_Identifier\n",
            "OUT027    935\n",
            "OUT013    932\n",
            "OUT049    930\n",
            "OUT046    930\n",
            "OUT035    930\n",
            "OUT045    929\n",
            "OUT018    928\n",
            "OUT017    926\n",
            "OUT010    555\n",
            "OUT019    528\n",
            "Name: Outlet_Identifier, dtype: int64\n",
            " \n",
            "Column= Outlet_Size\n",
            "Medium     2793\n",
            "Missing    2410\n",
            "Small      2388\n",
            "High        932\n",
            "Name: Outlet_Size, dtype: int64\n",
            " \n",
            "Column= Outlet_Location_Type\n",
            "Tier 3    3350\n",
            "Tier 2    2785\n",
            "Tier 1    2388\n",
            "Name: Outlet_Location_Type, dtype: int64\n",
            " \n",
            "Column= Outlet_Type\n",
            "Supermarket Type1    5577\n",
            "Grocery Store        1083\n",
            "Supermarket Type3     935\n",
            "Supermarket Type2     928\n",
            "Name: Outlet_Type, dtype: int64\n",
            " \n"
          ]
        }
      ]
    },
    {
      "cell_type": "markdown",
      "source": [
        "  - From the data dictionary, we know that Item_Fat_Content, Item_Type, Outlet_Size, Outlet_Location Type, and Outlet_Type should be categorical data types.\n",
        "  - For Item_Fat_Content, Low Fat, LF, and low fat are all probably the same category.\n",
        "  - Also Regular and reg are probably the same category.\n",
        "  - For the rest of the categorical columns, all data categories appear distinct."
      ],
      "metadata": {
        "id": "eTVyn5FsqWb5"
      }
    },
    {
      "cell_type": "code",
      "source": [
        "clean_df['Item_Fat_Content'].replace({'LF': 'Low Fat', 'low fat': 'Low Fat', 'reg': 'Regular'}, inplace=True)\n",
        "print('Column = Item_Fat_Content')\n",
        "display(clean_df['Item_Fat_Content'].value_counts())"
      ],
      "metadata": {
        "colab": {
          "base_uri": "https://localhost:8080/",
          "height": 88
        },
        "id": "Oxt33zYnqS8_",
        "outputId": "d013d804-738d-49b1-ccb6-365de37a7f3a"
      },
      "execution_count": 14,
      "outputs": [
        {
          "output_type": "stream",
          "name": "stdout",
          "text": [
            "Column = Item_Fat_Content\n"
          ]
        },
        {
          "output_type": "display_data",
          "data": {
            "text/plain": [
              "Low Fat    5517\n",
              "Regular    3006\n",
              "Name: Item_Fat_Content, dtype: int64"
            ]
          },
          "metadata": {}
        }
      ]
    },
    {
      "cell_type": "markdown",
      "source": [
        "  - There are no more inconsistent categories of data."
      ],
      "metadata": {
        "id": "cSc5g2OHq5w2"
      }
    },
    {
      "cell_type": "code",
      "source": [
        "#for any numerical columns obtain the summary statistics of each (min, max, mean)\n",
        "clean_df.describe()"
      ],
      "metadata": {
        "colab": {
          "base_uri": "https://localhost:8080/",
          "height": 300
        },
        "id": "PvegZcayqxxy",
        "outputId": "d504fba9-0018-4d64-f64f-87b95e3fa735"
      },
      "execution_count": 15,
      "outputs": [
        {
          "output_type": "execute_result",
          "data": {
            "text/plain": [
              "       Item_Weight  Item_Visibility     Item_MRP  Outlet_Establishment_Year  \\\n",
              "count  8523.000000      8523.000000  8523.000000                8523.000000   \n",
              "mean     12.858049         0.066132   140.992782                1997.831867   \n",
              "std       4.226124         0.051598    62.275067                   8.371760   \n",
              "min       4.555000         0.000000    31.290000                1985.000000   \n",
              "25%       9.310000         0.026989    93.826500                1987.000000   \n",
              "50%      12.860000         0.053931   143.012800                1999.000000   \n",
              "75%      16.000000         0.094585   185.643700                2004.000000   \n",
              "max      21.350000         0.328391   266.888400                2009.000000   \n",
              "\n",
              "       Item_Outlet_Sales  \n",
              "count        8523.000000  \n",
              "mean         2181.288914  \n",
              "std          1706.499616  \n",
              "min            33.290000  \n",
              "25%           834.247400  \n",
              "50%          1794.331000  \n",
              "75%          3101.296400  \n",
              "max         13086.964800  "
            ],
            "text/html": [
              "\n",
              "  <div id=\"df-7854d8ef-7279-45e3-b835-5452deb24d1c\">\n",
              "    <div class=\"colab-df-container\">\n",
              "      <div>\n",
              "<style scoped>\n",
              "    .dataframe tbody tr th:only-of-type {\n",
              "        vertical-align: middle;\n",
              "    }\n",
              "\n",
              "    .dataframe tbody tr th {\n",
              "        vertical-align: top;\n",
              "    }\n",
              "\n",
              "    .dataframe thead th {\n",
              "        text-align: right;\n",
              "    }\n",
              "</style>\n",
              "<table border=\"1\" class=\"dataframe\">\n",
              "  <thead>\n",
              "    <tr style=\"text-align: right;\">\n",
              "      <th></th>\n",
              "      <th>Item_Weight</th>\n",
              "      <th>Item_Visibility</th>\n",
              "      <th>Item_MRP</th>\n",
              "      <th>Outlet_Establishment_Year</th>\n",
              "      <th>Item_Outlet_Sales</th>\n",
              "    </tr>\n",
              "  </thead>\n",
              "  <tbody>\n",
              "    <tr>\n",
              "      <th>count</th>\n",
              "      <td>8523.000000</td>\n",
              "      <td>8523.000000</td>\n",
              "      <td>8523.000000</td>\n",
              "      <td>8523.000000</td>\n",
              "      <td>8523.000000</td>\n",
              "    </tr>\n",
              "    <tr>\n",
              "      <th>mean</th>\n",
              "      <td>12.858049</td>\n",
              "      <td>0.066132</td>\n",
              "      <td>140.992782</td>\n",
              "      <td>1997.831867</td>\n",
              "      <td>2181.288914</td>\n",
              "    </tr>\n",
              "    <tr>\n",
              "      <th>std</th>\n",
              "      <td>4.226124</td>\n",
              "      <td>0.051598</td>\n",
              "      <td>62.275067</td>\n",
              "      <td>8.371760</td>\n",
              "      <td>1706.499616</td>\n",
              "    </tr>\n",
              "    <tr>\n",
              "      <th>min</th>\n",
              "      <td>4.555000</td>\n",
              "      <td>0.000000</td>\n",
              "      <td>31.290000</td>\n",
              "      <td>1985.000000</td>\n",
              "      <td>33.290000</td>\n",
              "    </tr>\n",
              "    <tr>\n",
              "      <th>25%</th>\n",
              "      <td>9.310000</td>\n",
              "      <td>0.026989</td>\n",
              "      <td>93.826500</td>\n",
              "      <td>1987.000000</td>\n",
              "      <td>834.247400</td>\n",
              "    </tr>\n",
              "    <tr>\n",
              "      <th>50%</th>\n",
              "      <td>12.860000</td>\n",
              "      <td>0.053931</td>\n",
              "      <td>143.012800</td>\n",
              "      <td>1999.000000</td>\n",
              "      <td>1794.331000</td>\n",
              "    </tr>\n",
              "    <tr>\n",
              "      <th>75%</th>\n",
              "      <td>16.000000</td>\n",
              "      <td>0.094585</td>\n",
              "      <td>185.643700</td>\n",
              "      <td>2004.000000</td>\n",
              "      <td>3101.296400</td>\n",
              "    </tr>\n",
              "    <tr>\n",
              "      <th>max</th>\n",
              "      <td>21.350000</td>\n",
              "      <td>0.328391</td>\n",
              "      <td>266.888400</td>\n",
              "      <td>2009.000000</td>\n",
              "      <td>13086.964800</td>\n",
              "    </tr>\n",
              "  </tbody>\n",
              "</table>\n",
              "</div>\n",
              "      <button class=\"colab-df-convert\" onclick=\"convertToInteractive('df-7854d8ef-7279-45e3-b835-5452deb24d1c')\"\n",
              "              title=\"Convert this dataframe to an interactive table.\"\n",
              "              style=\"display:none;\">\n",
              "        \n",
              "  <svg xmlns=\"http://www.w3.org/2000/svg\" height=\"24px\"viewBox=\"0 0 24 24\"\n",
              "       width=\"24px\">\n",
              "    <path d=\"M0 0h24v24H0V0z\" fill=\"none\"/>\n",
              "    <path d=\"M18.56 5.44l.94 2.06.94-2.06 2.06-.94-2.06-.94-.94-2.06-.94 2.06-2.06.94zm-11 1L8.5 8.5l.94-2.06 2.06-.94-2.06-.94L8.5 2.5l-.94 2.06-2.06.94zm10 10l.94 2.06.94-2.06 2.06-.94-2.06-.94-.94-2.06-.94 2.06-2.06.94z\"/><path d=\"M17.41 7.96l-1.37-1.37c-.4-.4-.92-.59-1.43-.59-.52 0-1.04.2-1.43.59L10.3 9.45l-7.72 7.72c-.78.78-.78 2.05 0 2.83L4 21.41c.39.39.9.59 1.41.59.51 0 1.02-.2 1.41-.59l7.78-7.78 2.81-2.81c.8-.78.8-2.07 0-2.86zM5.41 20L4 18.59l7.72-7.72 1.47 1.35L5.41 20z\"/>\n",
              "  </svg>\n",
              "      </button>\n",
              "      \n",
              "  <style>\n",
              "    .colab-df-container {\n",
              "      display:flex;\n",
              "      flex-wrap:wrap;\n",
              "      gap: 12px;\n",
              "    }\n",
              "\n",
              "    .colab-df-convert {\n",
              "      background-color: #E8F0FE;\n",
              "      border: none;\n",
              "      border-radius: 50%;\n",
              "      cursor: pointer;\n",
              "      display: none;\n",
              "      fill: #1967D2;\n",
              "      height: 32px;\n",
              "      padding: 0 0 0 0;\n",
              "      width: 32px;\n",
              "    }\n",
              "\n",
              "    .colab-df-convert:hover {\n",
              "      background-color: #E2EBFA;\n",
              "      box-shadow: 0px 1px 2px rgba(60, 64, 67, 0.3), 0px 1px 3px 1px rgba(60, 64, 67, 0.15);\n",
              "      fill: #174EA6;\n",
              "    }\n",
              "\n",
              "    [theme=dark] .colab-df-convert {\n",
              "      background-color: #3B4455;\n",
              "      fill: #D2E3FC;\n",
              "    }\n",
              "\n",
              "    [theme=dark] .colab-df-convert:hover {\n",
              "      background-color: #434B5C;\n",
              "      box-shadow: 0px 1px 3px 1px rgba(0, 0, 0, 0.15);\n",
              "      filter: drop-shadow(0px 1px 2px rgba(0, 0, 0, 0.3));\n",
              "      fill: #FFFFFF;\n",
              "    }\n",
              "  </style>\n",
              "\n",
              "      <script>\n",
              "        const buttonEl =\n",
              "          document.querySelector('#df-7854d8ef-7279-45e3-b835-5452deb24d1c button.colab-df-convert');\n",
              "        buttonEl.style.display =\n",
              "          google.colab.kernel.accessAllowed ? 'block' : 'none';\n",
              "\n",
              "        async function convertToInteractive(key) {\n",
              "          const element = document.querySelector('#df-7854d8ef-7279-45e3-b835-5452deb24d1c');\n",
              "          const dataTable =\n",
              "            await google.colab.kernel.invokeFunction('convertToInteractive',\n",
              "                                                     [key], {});\n",
              "          if (!dataTable) return;\n",
              "\n",
              "          const docLinkHtml = 'Like what you see? Visit the ' +\n",
              "            '<a target=\"_blank\" href=https://colab.research.google.com/notebooks/data_table.ipynb>data table notebook</a>'\n",
              "            + ' to learn more about interactive tables.';\n",
              "          element.innerHTML = '';\n",
              "          dataTable['output_type'] = 'display_data';\n",
              "          await google.colab.output.renderOutput(dataTable, element);\n",
              "          const docLink = document.createElement('div');\n",
              "          docLink.innerHTML = docLinkHtml;\n",
              "          element.appendChild(docLink);\n",
              "        }\n",
              "      </script>\n",
              "    </div>\n",
              "  </div>\n",
              "  "
            ]
          },
          "metadata": {},
          "execution_count": 15
        }
      ]
    },
    {
      "cell_type": "markdown",
      "source": [
        "  - The min item weight is 4.56, the max item weight is 21.35, and the mean item weight is 12.86.\n",
        "  - The min item visibility is 0.00, the max item visibility is .33, and the mean item visibility is .07.\n",
        "  - The min item MRP is 31.29, the max item MRP is 266.89, and the mean item MRP is 140.99.\n",
        "  - The min outlet establishment year is 1985, the max outlet establishment year is 2009, and the mean outlet establishment year is 1997.83.\n",
        "  - The min item outlet sales is 33.29, the max item outlet sales is 13086.96, and the mean item outlet sales is 2181.29."
      ],
      "metadata": {
        "id": "FYVSvdDJrM6H"
      }
    },
    {
      "cell_type": "markdown",
      "source": [
        "### Exploratory Visuals"
      ],
      "metadata": {
        "id": "tYqlu3NPrYHD"
      }
    },
    {
      "cell_type": "markdown",
      "source": [
        "#### Histogram to view the distributions of various features\n"
      ],
      "metadata": {
        "id": "OaG5-SQnrgTg"
      }
    },
    {
      "cell_type": "code",
      "source": [
        "clean_df['Item_Visibility'].hist();"
      ],
      "metadata": {
        "colab": {
          "base_uri": "https://localhost:8080/",
          "height": 265
        },
        "id": "JMgvJH3_rH-K",
        "outputId": "9de50d2a-8192-4942-9c21-9b9c0d775c39"
      },
      "execution_count": 16,
      "outputs": [
        {
          "output_type": "display_data",
          "data": {
            "text/plain": [
              "<Figure size 432x288 with 1 Axes>"
            ],
            "image/png": "[encoded data removed]"
          },
          "metadata": {
            "needs_background": "light"
          }
        }
      ]
    },
    {
      "cell_type": "markdown",
      "source": [
        "  - The item visibility has a right-skewed distribution, with the most frequent observations at lower values--most of the items in the store have a low visibility."
      ],
      "metadata": {
        "id": "_vfs1wJsruVq"
      }
    },
    {
      "cell_type": "code",
      "source": [
        "clean_df['Item_MRP'].hist();"
      ],
      "metadata": {
        "colab": {
          "base_uri": "https://localhost:8080/",
          "height": 265
        },
        "id": "tN23BxVdrsBk",
        "outputId": "7ccfe875-d7c4-42d4-d750-2f0e14eee57e"
      },
      "execution_count": 17,
      "outputs": [
        {
          "output_type": "display_data",
          "data": {
            "text/plain": [
              "<Figure size 432x288 with 1 Axes>"
            ],
            "image/png": "[encoded data removed]"
          },
          "metadata": {
            "needs_background": "light"
          }
        }
      ]
    },
    {
      "cell_type": "markdown",
      "source": [
        "  - There is no particular pattern of frequency distribution for the maximum price of an item."
      ],
      "metadata": {
        "id": "kJ5qupXsr2eO"
      }
    },
    {
      "cell_type": "code",
      "source": [
        "clean_df['Item_Outlet_Sales'].hist();"
      ],
      "metadata": {
        "colab": {
          "base_uri": "https://localhost:8080/",
          "height": 265
        },
        "id": "43GAXg4krzvD",
        "outputId": "e044e28c-1cdb-493f-ae79-2a5c4184c649"
      },
      "execution_count": 18,
      "outputs": [
        {
          "output_type": "display_data",
          "data": {
            "text/plain": [
              "<Figure size 432x288 with 1 Axes>"
            ],
            "image/png": "[encoded data removed]"
          },
          "metadata": {
            "needs_background": "light"
          }
        }
      ]
    },
    {
      "cell_type": "markdown",
      "source": [
        "  - The sales data is right-skewed, with more frequent observations at lower values--most of the stores have low sales."
      ],
      "metadata": {
        "id": "PLobmWxFr_Am"
      }
    },
    {
      "cell_type": "code",
      "source": [
        "clean_df['Item_Type'].hist();\n",
        "plt.xticks(rotation = 90);"
      ],
      "metadata": {
        "colab": {
          "base_uri": "https://localhost:8080/",
          "height": 363
        },
        "id": "Cb_xrWVEr-KY",
        "outputId": "16f2ae66-ab38-4ecf-fb95-7e08518acd61"
      },
      "execution_count": 19,
      "outputs": [
        {
          "output_type": "display_data",
          "data": {
            "text/plain": [
              "<Figure size 432x288 with 1 Axes>"
            ],
            "image/png": "[encoded data removed]"
          },
          "metadata": {
            "needs_background": "light"
          }
        }
      ]
    },
    {
      "cell_type": "markdown",
      "source": [
        "  - Most of the data points correspond to household and frozen foods."
      ],
      "metadata": {
        "id": "UkyBbS1hsIwB"
      }
    },
    {
      "cell_type": "markdown",
      "source": [
        "#### Boxplot to view statistical summaries of various features in the dataset."
      ],
      "metadata": {
        "id": "S2Qkr38nsRtd"
      }
    },
    {
      "cell_type": "code",
      "source": [
        "visibility = clean_df['Item_Visibility'].values\n",
        "weight = clean_df['Item_Weight'].values\n",
        "price = clean_df['Item_MRP'].values\n",
        "sales = clean_df['Item_Outlet_Sales'].values\n",
        "fig, axes = plt.subplots(nrows = 1, ncols = 1)\n",
        "axes.boxplot([visibility, weight, price], notch = True, labels = ['Visibility', 'Weight', 'Price']);"
      ],
      "metadata": {
        "colab": {
          "base_uri": "https://localhost:8080/",
          "height": 265
        },
        "id": "Wc3lGlV8sHo1",
        "outputId": "61a90bbc-a42a-47e9-f327-36a59d3ef380"
      },
      "execution_count": 20,
      "outputs": [
        {
          "output_type": "display_data",
          "data": {
            "text/plain": [
              "<Figure size 432x288 with 1 Axes>"
            ],
            "image/png": "[encoded data removed]"
          },
          "metadata": {
            "needs_background": "light"
          }
        }
      ]
    },
    {
      "cell_type": "markdown",
      "source": [
        "  - The range of values for price is significantly larger than the range of values for visibility and for weight."
      ],
      "metadata": {
        "id": "C8Ufud7TsvX7"
      }
    },
    {
      "cell_type": "code",
      "source": [
        "fig, axes = plt.subplots(nrows = 1, ncols = 1)\n",
        "axes.boxplot([price, sales], notch = True, labels = ['Price', 'Sales']);"
      ],
      "metadata": {
        "colab": {
          "base_uri": "https://localhost:8080/",
          "height": 265
        },
        "id": "ADJHQya8ssBL",
        "outputId": "a7baac92-02fe-4510-a851-6aefb4b448bc"
      },
      "execution_count": 21,
      "outputs": [
        {
          "output_type": "display_data",
          "data": {
            "text/plain": [
              "<Figure size 432x288 with 1 Axes>"
            ],
            "image/png": "[encoded data removed]"
          },
          "metadata": {
            "needs_background": "light"
          }
        }
      ]
    },
    {
      "cell_type": "markdown",
      "source": [
        "  - The range of values for sales is significantly larger than the range of values for price."
      ],
      "metadata": {
        "id": "rbAmQA_Ks5f1"
      }
    },
    {
      "cell_type": "markdown",
      "source": [
        "#### Heatmap of the correlation between features."
      ],
      "metadata": {
        "id": "1wvdqsXEs9Qc"
      }
    },
    {
      "cell_type": "code",
      "source": [
        "corr = clean_df.corr()\n",
        "sns.heatmap(corr, cmap = 'Greens', annot = True);"
      ],
      "metadata": {
        "colab": {
          "base_uri": "https://localhost:8080/",
          "height": 392
        },
        "id": "t2KTop2As1t8",
        "outputId": "21f46cca-6e24-48d9-c710-531c6ea2c9d9"
      },
      "execution_count": 22,
      "outputs": [
        {
          "output_type": "display_data",
          "data": {
            "text/plain": [
              "<Figure size 432x288 with 2 Axes>"
            ],
            "image/png": "[encoded data removed]"
          },
          "metadata": {
            "needs_background": "light"
          }
        }
      ]
    },
    {
      "cell_type": "markdown",
      "source": [
        "  - Most of the correlation coefficients show no correlation, except that there is a moderate correlation between the maximum price of an item and the sales of that item."
      ],
      "metadata": {
        "id": "PMVq8rMXtIYb"
      }
    },
    {
      "cell_type": "markdown",
      "source": [
        "### Explanatory Visuals"
      ],
      "metadata": {
        "id": "KE5y_jx6tOoK"
      }
    },
    {
      "cell_type": "markdown",
      "source": [
        "Do higher prices increase the overall sales at the outlet?"
      ],
      "metadata": {
        "id": "XS8XxeMUtU3Y"
      }
    },
    {
      "cell_type": "code",
      "source": [
        "ax = sns.scatterplot(data = clean_df, x = 'Item_MRP', y = 'Item_Outlet_Sales')\n",
        "plt.xlabel('Price', fontsize=16)\n",
        "plt.ylabel('Sales', fontsize=16)\n",
        "plt.title('Maximum Item Price vs. Sales', fontsize=16);"
      ],
      "metadata": {
        "colab": {
          "base_uri": "https://localhost:8080/",
          "height": 302
        },
        "id": "Lu6RtOsEtDl7",
        "outputId": "44c10375-0a43-466a-f68a-20dc3bacfa61"
      },
      "execution_count": 23,
      "outputs": [
        {
          "output_type": "display_data",
          "data": {
            "text/plain": [
              "<Figure size 432x288 with 1 Axes>"
            ],
            "image/png": "[encoded data removed]"
          },
          "metadata": {
            "needs_background": "light"
          }
        }
      ]
    },
    {
      "cell_type": "markdown",
      "source": [
        "  - Interpretation:  \n",
        "  This scatterplot shows a positive correlation between the maximum price of an item and the overall outlet sales. Outlets with higher maximum prices tend to have higher overall sales. However, we can't assume that higher prices cause higher sales, just because they are correlated."
      ],
      "metadata": {
        "id": "NhqrLl1ZthMu"
      }
    },
    {
      "cell_type": "markdown",
      "source": [
        "Does the outlet size, the outlet location, or the the outlet type affect the sales?"
      ],
      "metadata": {
        "id": "0USlV6tZtoDh"
      }
    },
    {
      "cell_type": "code",
      "source": [
        "clean_df2 = clean_df.rename(columns={'Outlet_Size':'Outlet Size',\n",
        "                                'Outlet_Location_Type':'Outlet Location',\n",
        "                                'Outlet_Type':'Outlet Type',\n",
        "                                'Item_Outlet_Sales':'Outlet Sales'})\n",
        "label_order_list = ['Missing', 'Small', 'Medium', 'High']\n",
        "label_order_list2 = ['Tier 1', 'Tier 2', 'Tier 3']\n",
        "label_order_list3 = ['Grocery Store', 'Supermarket Type1', 'Supermarket Type2', 'Supermarket Type3']\n",
        "fig, axes = plt.subplots(nrows = 3, figsize = (12, 8));\n",
        "sns.barplot(data = clean_df2, x = 'Outlet Size', y = 'Outlet Sales', order = label_order_list, ax = axes[0]);\n",
        "axes[0].set_title('Sales vs. Outlet Size', fontsize = 16);\n",
        "sns.barplot(data = clean_df2, x = 'Outlet Location', y = 'Outlet Sales', order = label_order_list2, ax = axes[1]);\n",
        "axes[1].set_title('Sales vs. Outlet Location', fontsize = 16);\n",
        "sns.barplot(data = clean_df2, x = 'Outlet Type', y = 'Outlet Sales', order = label_order_list3, ax = axes[2]);\n",
        "axes[2].set_title('Sales vs. Outlet Type', fontsize = 16);\n",
        "fig.suptitle('The Effect of Outlet Properties On Sales', fontsize = 20, y = 1.05);\n",
        "fig.tight_layout();"
      ],
      "metadata": {
        "colab": {
          "base_uri": "https://localhost:8080/",
          "height": 625
        },
        "id": "4TYxM2fUtcG-",
        "outputId": "b83d20c2-fd53-4f9b-fa2a-6070f2082a3e"
      },
      "execution_count": 24,
      "outputs": [
        {
          "output_type": "display_data",
          "data": {
            "text/plain": [
              "<Figure size 864x576 with 3 Axes>"
            ],
            "image/png": "[encoded data removed]"
          },
          "metadata": {
            "needs_background": "light"
          }
        }
      ]
    },
    {
      "cell_type": "markdown",
      "source": [
        "  - Interpretation:  \n",
        "  The outlet properties make a difference in overall sales. First, medium-sized stores have the highest sales, and small-sized stores have the lowest sales. Second, tier 2 and 3 locations also have the highest sales. Finally, supermarkets have higher sales than grocery stores. This might indicate that medium and large stores, tier 2 and 3 stores, and supermarkets use more effective sales strategies."
      ],
      "metadata": {
        "id": "1J0cbN40uEII"
      }
    },
    {
      "cell_type": "markdown",
      "source": [
        "Does the display of the item (item visibility) affect the sales?"
      ],
      "metadata": {
        "id": "L0RU7Hk0uJZG"
      }
    },
    {
      "cell_type": "code",
      "source": [
        "clean_df3 = clean_df.rename(columns={'Item_Visibility':'Visibility',\n",
        "                         'Item_Outlet_Sales':'Outlet Sales'})\n",
        "fig, axes = plt.subplots(figsize = (12, 4));\n",
        "sns.scatterplot(data = clean_df3, x = 'Visibility', y = 'Outlet Sales');\n",
        "plt.title('Sales vs. Visibility', fontsize = 16);\n",
        "fig.tight_layout();"
      ],
      "metadata": {
        "colab": {
          "base_uri": "https://localhost:8080/",
          "height": 297
        },
        "id": "QGtMqJxFt-TL",
        "outputId": "da96decd-c757-4d66-9d90-5871403025c3"
      },
      "execution_count": 25,
      "outputs": [
        {
          "output_type": "display_data",
          "data": {
            "text/plain": [
              "<Figure size 864x288 with 1 Axes>"
            ],
            "image/png": "[encoded data removed]"
          },
          "metadata": {
            "needs_background": "light"
          }
        }
      ]
    },
    {
      "cell_type": "markdown",
      "source": [
        "  - Interpretation:  \n",
        "  The visibility of an item makes a difference in overall sales. Items with lower visibility scores have higher sales--this might indicate that lower visibility scores increase sales."
      ],
      "metadata": {
        "id": "LupLisAaufZc"
      }
    },
    {
      "cell_type": "markdown",
      "source": [
        "Recommendations:   \n",
        "The retailer should increase use of the effective sales strategies (including item visibility and maximum item price) used by medium and large stores, tier 2 and 3 stores, and supermarkets. The retailer should also recognize the room for further growth in small stores, tier 1 locations, and grocery stores--they might need to use different sales strategies in these outlets than in medium and large stores/tier 2 and 3 stores/supermarkets."
      ],
      "metadata": {
        "id": "74s91QbaunBu"
      }
    },
    {
      "cell_type": "markdown",
      "source": [
        "### Inspect and prepare the data for machine learning"
      ],
      "metadata": {
        "id": "Ze9jbLrswdp7"
      }
    },
    {
      "cell_type": "code",
      "source": [
        "# make a copy of original df\n",
        "ml_df = df.copy()"
      ],
      "metadata": {
        "id": "6yMNFQ7-uSR4"
      },
      "execution_count": 26,
      "outputs": []
    },
    {
      "cell_type": "code",
      "source": [
        "display(ml_df.head())\n",
        "display(ml_df.info())"
      ],
      "metadata": {
        "colab": {
          "base_uri": "https://localhost:8080/",
          "height": 714
        },
        "id": "XoXAu4Y-wu1I",
        "outputId": "51bf02a5-042f-4593-f762-50acce5e44ff"
      },
      "execution_count": 27,
      "outputs": [
        {
          "output_type": "display_data",
          "data": {
            "text/plain": [
              "  Item_Identifier  Item_Weight Item_Fat_Content  Item_Visibility  \\\n",
              "0           FDA15         9.30          Low Fat         0.016047   \n",
              "1           DRC01         5.92          Regular         0.019278   \n",
              "2           FDN15        17.50          Low Fat         0.016760   \n",
              "3           FDX07        19.20          Regular         0.000000   \n",
              "4           NCD19         8.93          Low Fat         0.000000   \n",
              "\n",
              "               Item_Type  Item_MRP Outlet_Identifier  \\\n",
              "0                  Dairy  249.8092            OUT049   \n",
              "1            Soft Drinks   48.2692            OUT018   \n",
              "2                   Meat  141.6180            OUT049   \n",
              "3  Fruits and Vegetables  182.0950            OUT010   \n",
              "4              Household   53.8614            OUT013   \n",
              "\n",
              "   Outlet_Establishment_Year Outlet_Size Outlet_Location_Type  \\\n",
              "0                       1999      Medium               Tier 1   \n",
              "1                       2009      Medium               Tier 3   \n",
              "2                       1999      Medium               Tier 1   \n",
              "3                       1998         NaN               Tier 3   \n",
              "4                       1987        High               Tier 3   \n",
              "\n",
              "         Outlet_Type  Item_Outlet_Sales  \n",
              "0  Supermarket Type1          3735.1380  \n",
              "1  Supermarket Type2           443.4228  \n",
              "2  Supermarket Type1          2097.2700  \n",
              "3      Grocery Store           732.3800  \n",
              "4  Supermarket Type1           994.7052  "
            ],
            "text/html": [
              "\n",
              "  <div id=\"df-84ae0667-9975-407b-b695-a20b972d3c51\">\n",
              "    <div class=\"colab-df-container\">\n",
              "      <div>\n",
              "<style scoped>\n",
              "    .dataframe tbody tr th:only-of-type {\n",
              "        vertical-align: middle;\n",
              "    }\n",
              "\n",
              "    .dataframe tbody tr th {\n",
              "        vertical-align: top;\n",
              "    }\n",
              "\n",
              "    .dataframe thead th {\n",
              "        text-align: right;\n",
              "    }\n",
              "</style>\n",
              "<table border=\"1\" class=\"dataframe\">\n",
              "  <thead>\n",
              "    <tr style=\"text-align: right;\">\n",
              "      <th></th>\n",
              "      <th>Item_Identifier</th>\n",
              "      <th>Item_Weight</th>\n",
              "      <th>Item_Fat_Content</th>\n",
              "      <th>Item_Visibility</th>\n",
              "      <th>Item_Type</th>\n",
              "      <th>Item_MRP</th>\n",
              "      <th>Outlet_Identifier</th>\n",
              "      <th>Outlet_Establishment_Year</th>\n",
              "      <th>Outlet_Size</th>\n",
              "      <th>Outlet_Location_Type</th>\n",
              "      <th>Outlet_Type</th>\n",
              "      <th>Item_Outlet_Sales</th>\n",
              "    </tr>\n",
              "  </thead>\n",
              "  <tbody>\n",
              "    <tr>\n",
              "      <th>0</th>\n",
              "      <td>FDA15</td>\n",
              "      <td>9.30</td>\n",
              "      <td>Low Fat</td>\n",
              "      <td>0.016047</td>\n",
              "      <td>Dairy</td>\n",
              "      <td>249.8092</td>\n",
              "      <td>OUT049</td>\n",
              "      <td>1999</td>\n",
              "      <td>Medium</td>\n",
              "      <td>Tier 1</td>\n",
              "      <td>Supermarket Type1</td>\n",
              "      <td>3735.1380</td>\n",
              "    </tr>\n",
              "    <tr>\n",
              "      <th>1</th>\n",
              "      <td>DRC01</td>\n",
              "      <td>5.92</td>\n",
              "      <td>Regular</td>\n",
              "      <td>0.019278</td>\n",
              "      <td>Soft Drinks</td>\n",
              "      <td>48.2692</td>\n",
              "      <td>OUT018</td>\n",
              "      <td>2009</td>\n",
              "      <td>Medium</td>\n",
              "      <td>Tier 3</td>\n",
              "      <td>Supermarket Type2</td>\n",
              "      <td>443.4228</td>\n",
              "    </tr>\n",
              "    <tr>\n",
              "      <th>2</th>\n",
              "      <td>FDN15</td>\n",
              "      <td>17.50</td>\n",
              "      <td>Low Fat</td>\n",
              "      <td>0.016760</td>\n",
              "      <td>Meat</td>\n",
              "      <td>141.6180</td>\n",
              "      <td>OUT049</td>\n",
              "      <td>1999</td>\n",
              "      <td>Medium</td>\n",
              "      <td>Tier 1</td>\n",
              "      <td>Supermarket Type1</td>\n",
              "      <td>2097.2700</td>\n",
              "    </tr>\n",
              "    <tr>\n",
              "      <th>3</th>\n",
              "      <td>FDX07</td>\n",
              "      <td>19.20</td>\n",
              "      <td>Regular</td>\n",
              "      <td>0.000000</td>\n",
              "      <td>Fruits and Vegetables</td>\n",
              "      <td>182.0950</td>\n",
              "      <td>OUT010</td>\n",
              "      <td>1998</td>\n",
              "      <td>NaN</td>\n",
              "      <td>Tier 3</td>\n",
              "      <td>Grocery Store</td>\n",
              "      <td>732.3800</td>\n",
              "    </tr>\n",
              "    <tr>\n",
              "      <th>4</th>\n",
              "      <td>NCD19</td>\n",
              "      <td>8.93</td>\n",
              "      <td>Low Fat</td>\n",
              "      <td>0.000000</td>\n",
              "      <td>Household</td>\n",
              "      <td>53.8614</td>\n",
              "      <td>OUT013</td>\n",
              "      <td>1987</td>\n",
              "      <td>High</td>\n",
              "      <td>Tier 3</td>\n",
              "      <td>Supermarket Type1</td>\n",
              "      <td>994.7052</td>\n",
              "    </tr>\n",
              "  </tbody>\n",
              "</table>\n",
              "</div>\n",
              "      <button class=\"colab-df-convert\" onclick=\"convertToInteractive('df-84ae0667-9975-407b-b695-a20b972d3c51')\"\n",
              "              title=\"Convert this dataframe to an interactive table.\"\n",
              "              style=\"display:none;\">\n",
              "        \n",
              "  <svg xmlns=\"http://www.w3.org/2000/svg\" height=\"24px\"viewBox=\"0 0 24 24\"\n",
              "       width=\"24px\">\n",
              "    <path d=\"M0 0h24v24H0V0z\" fill=\"none\"/>\n",
              "    <path d=\"M18.56 5.44l.94 2.06.94-2.06 2.06-.94-2.06-.94-.94-2.06-.94 2.06-2.06.94zm-11 1L8.5 8.5l.94-2.06 2.06-.94-2.06-.94L8.5 2.5l-.94 2.06-2.06.94zm10 10l.94 2.06.94-2.06 2.06-.94-2.06-.94-.94-2.06-.94 2.06-2.06.94z\"/><path d=\"M17.41 7.96l-1.37-1.37c-.4-.4-.92-.59-1.43-.59-.52 0-1.04.2-1.43.59L10.3 9.45l-7.72 7.72c-.78.78-.78 2.05 0 2.83L4 21.41c.39.39.9.59 1.41.59.51 0 1.02-.2 1.41-.59l7.78-7.78 2.81-2.81c.8-.78.8-2.07 0-2.86zM5.41 20L4 18.59l7.72-7.72 1.47 1.35L5.41 20z\"/>\n",
              "  </svg>\n",
              "      </button>\n",
              "      \n",
              "  <style>\n",
              "    .colab-df-container {\n",
              "      display:flex;\n",
              "      flex-wrap:wrap;\n",
              "      gap: 12px;\n",
              "    }\n",
              "\n",
              "    .colab-df-convert {\n",
              "      background-color: #E8F0FE;\n",
              "      border: none;\n",
              "      border-radius: 50%;\n",
              "      cursor: pointer;\n",
              "      display: none;\n",
              "      fill: #1967D2;\n",
              "      height: 32px;\n",
              "      padding: 0 0 0 0;\n",
              "      width: 32px;\n",
              "    }\n",
              "\n",
              "    .colab-df-convert:hover {\n",
              "      background-color: #E2EBFA;\n",
              "      box-shadow: 0px 1px 2px rgba(60, 64, 67, 0.3), 0px 1px 3px 1px rgba(60, 64, 67, 0.15);\n",
              "      fill: #174EA6;\n",
              "    }\n",
              "\n",
              "    [theme=dark] .colab-df-convert {\n",
              "      background-color: #3B4455;\n",
              "      fill: #D2E3FC;\n",
              "    }\n",
              "\n",
              "    [theme=dark] .colab-df-convert:hover {\n",
              "      background-color: #434B5C;\n",
              "      box-shadow: 0px 1px 3px 1px rgba(0, 0, 0, 0.15);\n",
              "      filter: drop-shadow(0px 1px 2px rgba(0, 0, 0, 0.3));\n",
              "      fill: #FFFFFF;\n",
              "    }\n",
              "  </style>\n",
              "\n",
              "      <script>\n",
              "        const buttonEl =\n",
              "          document.querySelector('#df-84ae0667-9975-407b-b695-a20b972d3c51 button.colab-df-convert');\n",
              "        buttonEl.style.display =\n",
              "          google.colab.kernel.accessAllowed ? 'block' : 'none';\n",
              "\n",
              "        async function convertToInteractive(key) {\n",
              "          const element = document.querySelector('#df-84ae0667-9975-407b-b695-a20b972d3c51');\n",
              "          const dataTable =\n",
              "            await google.colab.kernel.invokeFunction('convertToInteractive',\n",
              "                                                     [key], {});\n",
              "          if (!dataTable) return;\n",
              "\n",
              "          const docLinkHtml = 'Like what you see? Visit the ' +\n",
              "            '<a target=\"_blank\" href=https://colab.research.google.com/notebooks/data_table.ipynb>data table notebook</a>'\n",
              "            + ' to learn more about interactive tables.';\n",
              "          element.innerHTML = '';\n",
              "          dataTable['output_type'] = 'display_data';\n",
              "          await google.colab.output.renderOutput(dataTable, element);\n",
              "          const docLink = document.createElement('div');\n",
              "          docLink.innerHTML = docLinkHtml;\n",
              "          element.appendChild(docLink);\n",
              "        }\n",
              "      </script>\n",
              "    </div>\n",
              "  </div>\n",
              "  "
            ]
          },
          "metadata": {}
        },
        {
          "output_type": "stream",
          "name": "stdout",
          "text": [
            "<class 'pandas.core.frame.DataFrame'>\n",
            "RangeIndex: 8523 entries, 0 to 8522\n",
            "Data columns (total 12 columns):\n",
            " #   Column                     Non-Null Count  Dtype  \n",
            "---  ------                     --------------  -----  \n",
            " 0   Item_Identifier            8523 non-null   object \n",
            " 1   Item_Weight                7060 non-null   float64\n",
            " 2   Item_Fat_Content           8523 non-null   object \n",
            " 3   Item_Visibility            8523 non-null   float64\n",
            " 4   Item_Type                  8523 non-null   object \n",
            " 5   Item_MRP                   8523 non-null   float64\n",
            " 6   Outlet_Identifier          8523 non-null   object \n",
            " 7   Outlet_Establishment_Year  8523 non-null   int64  \n",
            " 8   Outlet_Size                6113 non-null   object \n",
            " 9   Outlet_Location_Type       8523 non-null   object \n",
            " 10  Outlet_Type                8523 non-null   object \n",
            " 11  Item_Outlet_Sales          8523 non-null   float64\n",
            "dtypes: float64(4), int64(1), object(7)\n",
            "memory usage: 799.2+ KB\n"
          ]
        },
        {
          "output_type": "display_data",
          "data": {
            "text/plain": [
              "None"
            ]
          },
          "metadata": {}
        }
      ]
    },
    {
      "cell_type": "markdown",
      "source": [
        "  - There are missing data in float64 columns and object type columns. There are no missing data in int64 columns."
      ],
      "metadata": {
        "id": "TgloaTYJxFVP"
      }
    },
    {
      "cell_type": "code",
      "source": [
        "dtypes = ml_df.dtypes\n",
        "str_cols = dtypes[dtypes=='object'].index\n",
        "for col in str_cols:\n",
        "  print(f'Column= {col}')\n",
        "  print(ml_df[col].value_counts())\n",
        "  print('\\n')"
      ],
      "metadata": {
        "colab": {
          "base_uri": "https://localhost:8080/"
        },
        "id": "MI9sgAptw-rR",
        "outputId": "b4e1d386-1c31-4ce7-e71e-c59939c34deb"
      },
      "execution_count": 28,
      "outputs": [
        {
          "output_type": "stream",
          "name": "stdout",
          "text": [
            "Column= Item_Identifier\n",
            "FDW13    10\n",
            "FDG33    10\n",
            "NCY18     9\n",
            "FDD38     9\n",
            "DRE49     9\n",
            "         ..\n",
            "FDY43     1\n",
            "FDQ60     1\n",
            "FDO33     1\n",
            "DRF48     1\n",
            "FDC23     1\n",
            "Name: Item_Identifier, Length: 1559, dtype: int64\n",
            "\n",
            "\n",
            "Column= Item_Fat_Content\n",
            "Low Fat    5089\n",
            "Regular    2889\n",
            "LF          316\n",
            "reg         117\n",
            "low fat     112\n",
            "Name: Item_Fat_Content, dtype: int64\n",
            "\n",
            "\n",
            "Column= Item_Type\n",
            "Fruits and Vegetables    1232\n",
            "Snack Foods              1200\n",
            "Household                 910\n",
            "Frozen Foods              856\n",
            "Dairy                     682\n",
            "Canned                    649\n",
            "Baking Goods              648\n",
            "Health and Hygiene        520\n",
            "Soft Drinks               445\n",
            "Meat                      425\n",
            "Breads                    251\n",
            "Hard Drinks               214\n",
            "Others                    169\n",
            "Starchy Foods             148\n",
            "Breakfast                 110\n",
            "Seafood                    64\n",
            "Name: Item_Type, dtype: int64\n",
            "\n",
            "\n",
            "Column= Outlet_Identifier\n",
            "OUT027    935\n",
            "OUT013    932\n",
            "OUT049    930\n",
            "OUT046    930\n",
            "OUT035    930\n",
            "OUT045    929\n",
            "OUT018    928\n",
            "OUT017    926\n",
            "OUT010    555\n",
            "OUT019    528\n",
            "Name: Outlet_Identifier, dtype: int64\n",
            "\n",
            "\n",
            "Column= Outlet_Size\n",
            "Medium    2793\n",
            "Small     2388\n",
            "High       932\n",
            "Name: Outlet_Size, dtype: int64\n",
            "\n",
            "\n",
            "Column= Outlet_Location_Type\n",
            "Tier 3    3350\n",
            "Tier 2    2785\n",
            "Tier 1    2388\n",
            "Name: Outlet_Location_Type, dtype: int64\n",
            "\n",
            "\n",
            "Column= Outlet_Type\n",
            "Supermarket Type1    5577\n",
            "Grocery Store        1083\n",
            "Supermarket Type3     935\n",
            "Supermarket Type2     928\n",
            "Name: Outlet_Type, dtype: int64\n",
            "\n",
            "\n"
          ]
        }
      ]
    },
    {
      "cell_type": "markdown",
      "source": [
        "  - The column 'Outlet_Size' has ordinal categorical data.\n",
        "  - The column 'Item_Fat_Content' has inconsistencies in the data categories."
      ],
      "metadata": {
        "id": "BHdI6mKlxSQl"
      }
    },
    {
      "cell_type": "code",
      "source": [
        "ml_df.describe()"
      ],
      "metadata": {
        "colab": {
          "base_uri": "https://localhost:8080/",
          "height": 300
        },
        "id": "cvFt_EQvxQv3",
        "outputId": "f3abe109-e0cc-453d-e53c-3b4d5df67a3b"
      },
      "execution_count": 29,
      "outputs": [
        {
          "output_type": "execute_result",
          "data": {
            "text/plain": [
              "       Item_Weight  Item_Visibility     Item_MRP  Outlet_Establishment_Year  \\\n",
              "count  7060.000000      8523.000000  8523.000000                8523.000000   \n",
              "mean     12.857645         0.066132   140.992782                1997.831867   \n",
              "std       4.643456         0.051598    62.275067                   8.371760   \n",
              "min       4.555000         0.000000    31.290000                1985.000000   \n",
              "25%       8.773750         0.026989    93.826500                1987.000000   \n",
              "50%      12.600000         0.053931   143.012800                1999.000000   \n",
              "75%      16.850000         0.094585   185.643700                2004.000000   \n",
              "max      21.350000         0.328391   266.888400                2009.000000   \n",
              "\n",
              "       Item_Outlet_Sales  \n",
              "count        8523.000000  \n",
              "mean         2181.288914  \n",
              "std          1706.499616  \n",
              "min            33.290000  \n",
              "25%           834.247400  \n",
              "50%          1794.331000  \n",
              "75%          3101.296400  \n",
              "max         13086.964800  "
            ],
            "text/html": [
              "\n",
              "  <div id=\"df-9622916e-6396-4172-b984-02c38c0e532b\">\n",
              "    <div class=\"colab-df-container\">\n",
              "      <div>\n",
              "<style scoped>\n",
              "    .dataframe tbody tr th:only-of-type {\n",
              "        vertical-align: middle;\n",
              "    }\n",
              "\n",
              "    .dataframe tbody tr th {\n",
              "        vertical-align: top;\n",
              "    }\n",
              "\n",
              "    .dataframe thead th {\n",
              "        text-align: right;\n",
              "    }\n",
              "</style>\n",
              "<table border=\"1\" class=\"dataframe\">\n",
              "  <thead>\n",
              "    <tr style=\"text-align: right;\">\n",
              "      <th></th>\n",
              "      <th>Item_Weight</th>\n",
              "      <th>Item_Visibility</th>\n",
              "      <th>Item_MRP</th>\n",
              "      <th>Outlet_Establishment_Year</th>\n",
              "      <th>Item_Outlet_Sales</th>\n",
              "    </tr>\n",
              "  </thead>\n",
              "  <tbody>\n",
              "    <tr>\n",
              "      <th>count</th>\n",
              "      <td>7060.000000</td>\n",
              "      <td>8523.000000</td>\n",
              "      <td>8523.000000</td>\n",
              "      <td>8523.000000</td>\n",
              "      <td>8523.000000</td>\n",
              "    </tr>\n",
              "    <tr>\n",
              "      <th>mean</th>\n",
              "      <td>12.857645</td>\n",
              "      <td>0.066132</td>\n",
              "      <td>140.992782</td>\n",
              "      <td>1997.831867</td>\n",
              "      <td>2181.288914</td>\n",
              "    </tr>\n",
              "    <tr>\n",
              "      <th>std</th>\n",
              "      <td>4.643456</td>\n",
              "      <td>0.051598</td>\n",
              "      <td>62.275067</td>\n",
              "      <td>8.371760</td>\n",
              "      <td>1706.499616</td>\n",
              "    </tr>\n",
              "    <tr>\n",
              "      <th>min</th>\n",
              "      <td>4.555000</td>\n",
              "      <td>0.000000</td>\n",
              "      <td>31.290000</td>\n",
              "      <td>1985.000000</td>\n",
              "      <td>33.290000</td>\n",
              "    </tr>\n",
              "    <tr>\n",
              "      <th>25%</th>\n",
              "      <td>8.773750</td>\n",
              "      <td>0.026989</td>\n",
              "      <td>93.826500</td>\n",
              "      <td>1987.000000</td>\n",
              "      <td>834.247400</td>\n",
              "    </tr>\n",
              "    <tr>\n",
              "      <th>50%</th>\n",
              "      <td>12.600000</td>\n",
              "      <td>0.053931</td>\n",
              "      <td>143.012800</td>\n",
              "      <td>1999.000000</td>\n",
              "      <td>1794.331000</td>\n",
              "    </tr>\n",
              "    <tr>\n",
              "      <th>75%</th>\n",
              "      <td>16.850000</td>\n",
              "      <td>0.094585</td>\n",
              "      <td>185.643700</td>\n",
              "      <td>2004.000000</td>\n",
              "      <td>3101.296400</td>\n",
              "    </tr>\n",
              "    <tr>\n",
              "      <th>max</th>\n",
              "      <td>21.350000</td>\n",
              "      <td>0.328391</td>\n",
              "      <td>266.888400</td>\n",
              "      <td>2009.000000</td>\n",
              "      <td>13086.964800</td>\n",
              "    </tr>\n",
              "  </tbody>\n",
              "</table>\n",
              "</div>\n",
              "      <button class=\"colab-df-convert\" onclick=\"convertToInteractive('df-9622916e-6396-4172-b984-02c38c0e532b')\"\n",
              "              title=\"Convert this dataframe to an interactive table.\"\n",
              "              style=\"display:none;\">\n",
              "        \n",
              "  <svg xmlns=\"http://www.w3.org/2000/svg\" height=\"24px\"viewBox=\"0 0 24 24\"\n",
              "       width=\"24px\">\n",
              "    <path d=\"M0 0h24v24H0V0z\" fill=\"none\"/>\n",
              "    <path d=\"M18.56 5.44l.94 2.06.94-2.06 2.06-.94-2.06-.94-.94-2.06-.94 2.06-2.06.94zm-11 1L8.5 8.5l.94-2.06 2.06-.94-2.06-.94L8.5 2.5l-.94 2.06-2.06.94zm10 10l.94 2.06.94-2.06 2.06-.94-2.06-.94-.94-2.06-.94 2.06-2.06.94z\"/><path d=\"M17.41 7.96l-1.37-1.37c-.4-.4-.92-.59-1.43-.59-.52 0-1.04.2-1.43.59L10.3 9.45l-7.72 7.72c-.78.78-.78 2.05 0 2.83L4 21.41c.39.39.9.59 1.41.59.51 0 1.02-.2 1.41-.59l7.78-7.78 2.81-2.81c.8-.78.8-2.07 0-2.86zM5.41 20L4 18.59l7.72-7.72 1.47 1.35L5.41 20z\"/>\n",
              "  </svg>\n",
              "      </button>\n",
              "      \n",
              "  <style>\n",
              "    .colab-df-container {\n",
              "      display:flex;\n",
              "      flex-wrap:wrap;\n",
              "      gap: 12px;\n",
              "    }\n",
              "\n",
              "    .colab-df-convert {\n",
              "      background-color: #E8F0FE;\n",
              "      border: none;\n",
              "      border-radius: 50%;\n",
              "      cursor: pointer;\n",
              "      display: none;\n",
              "      fill: #1967D2;\n",
              "      height: 32px;\n",
              "      padding: 0 0 0 0;\n",
              "      width: 32px;\n",
              "    }\n",
              "\n",
              "    .colab-df-convert:hover {\n",
              "      background-color: #E2EBFA;\n",
              "      box-shadow: 0px 1px 2px rgba(60, 64, 67, 0.3), 0px 1px 3px 1px rgba(60, 64, 67, 0.15);\n",
              "      fill: #174EA6;\n",
              "    }\n",
              "\n",
              "    [theme=dark] .colab-df-convert {\n",
              "      background-color: #3B4455;\n",
              "      fill: #D2E3FC;\n",
              "    }\n",
              "\n",
              "    [theme=dark] .colab-df-convert:hover {\n",
              "      background-color: #434B5C;\n",
              "      box-shadow: 0px 1px 3px 1px rgba(0, 0, 0, 0.15);\n",
              "      filter: drop-shadow(0px 1px 2px rgba(0, 0, 0, 0.3));\n",
              "      fill: #FFFFFF;\n",
              "    }\n",
              "  </style>\n",
              "\n",
              "      <script>\n",
              "        const buttonEl =\n",
              "          document.querySelector('#df-9622916e-6396-4172-b984-02c38c0e532b button.colab-df-convert');\n",
              "        buttonEl.style.display =\n",
              "          google.colab.kernel.accessAllowed ? 'block' : 'none';\n",
              "\n",
              "        async function convertToInteractive(key) {\n",
              "          const element = document.querySelector('#df-9622916e-6396-4172-b984-02c38c0e532b');\n",
              "          const dataTable =\n",
              "            await google.colab.kernel.invokeFunction('convertToInteractive',\n",
              "                                                     [key], {});\n",
              "          if (!dataTable) return;\n",
              "\n",
              "          const docLinkHtml = 'Like what you see? Visit the ' +\n",
              "            '<a target=\"_blank\" href=https://colab.research.google.com/notebooks/data_table.ipynb>data table notebook</a>'\n",
              "            + ' to learn more about interactive tables.';\n",
              "          element.innerHTML = '';\n",
              "          dataTable['output_type'] = 'display_data';\n",
              "          await google.colab.output.renderOutput(dataTable, element);\n",
              "          const docLink = document.createElement('div');\n",
              "          docLink.innerHTML = docLinkHtml;\n",
              "          element.appendChild(docLink);\n",
              "        }\n",
              "      </script>\n",
              "    </div>\n",
              "  </div>\n",
              "  "
            ]
          },
          "metadata": {},
          "execution_count": 29
        }
      ]
    },
    {
      "cell_type": "markdown",
      "source": [
        "  - The numeric data columns have different scales."
      ],
      "metadata": {
        "id": "S5_PuWGKxjG-"
      }
    },
    {
      "cell_type": "code",
      "source": [
        "# drop unnecessary columns\n",
        "ml_df = ml_df.drop(columns = ['Item_Identifier', 'Outlet_Identifier'])\n",
        "ml_df.columns"
      ],
      "metadata": {
        "colab": {
          "base_uri": "https://localhost:8080/"
        },
        "id": "QhlqQ3Oxo18d",
        "outputId": "75c20a75-d8a9-48ee-a363-771ea50b3002"
      },
      "execution_count": 30,
      "outputs": [
        {
          "output_type": "execute_result",
          "data": {
            "text/plain": [
              "Index(['Item_Weight', 'Item_Fat_Content', 'Item_Visibility', 'Item_Type',\n",
              "       'Item_MRP', 'Outlet_Establishment_Year', 'Outlet_Size',\n",
              "       'Outlet_Location_Type', 'Outlet_Type', 'Item_Outlet_Sales'],\n",
              "      dtype='object')"
            ]
          },
          "metadata": {},
          "execution_count": 30
        }
      ]
    },
    {
      "cell_type": "markdown",
      "source": [
        "  - According to the data dictionary, the Item Identifier is a unique product ID and the Outlet Identifier is a unique store ID.  This information will not help with making predictions.\n"
      ],
      "metadata": {
        "id": "BCKs_kGUpYmh"
      }
    },
    {
      "cell_type": "code",
      "source": [
        "# drop duplicates\n",
        "display(ml_df.duplicated())\n",
        "ml_df.duplicated().sum()"
      ],
      "metadata": {
        "colab": {
          "base_uri": "https://localhost:8080/",
          "height": 249
        },
        "id": "GNzVDtpoxgQr",
        "outputId": "7acf2cbd-19a9-42e2-ff57-20df60b6a4be"
      },
      "execution_count": 31,
      "outputs": [
        {
          "output_type": "display_data",
          "data": {
            "text/plain": [
              "0       False\n",
              "1       False\n",
              "2       False\n",
              "3       False\n",
              "4       False\n",
              "        ...  \n",
              "8518    False\n",
              "8519    False\n",
              "8520    False\n",
              "8521    False\n",
              "8522    False\n",
              "Length: 8523, dtype: bool"
            ]
          },
          "metadata": {}
        },
        {
          "output_type": "execute_result",
          "data": {
            "text/plain": [
              "0"
            ]
          },
          "metadata": {},
          "execution_count": 31
        }
      ]
    },
    {
      "cell_type": "markdown",
      "source": [
        "  - There are 0 duplicates."
      ],
      "metadata": {
        "id": "m9fSgSsSyah2"
      }
    },
    {
      "cell_type": "code",
      "source": [
        "# Fix inconsistencies in categorical data\n",
        "#There are inconsistencies in the Item_Fat_Content column\n",
        "#Low Fat, LF, and low fat are probably the same category\n",
        "#Regular, reg are probably the same category\n",
        "ml_df['Item_Fat_Content'].replace({'LF': 'Low Fat', 'low fat': 'Low Fat', 'reg': 'Regular'}, inplace=True)\n",
        "print('Column = Item_Fat_Content')\n",
        "display(ml_df['Item_Fat_Content'].value_counts())"
      ],
      "metadata": {
        "colab": {
          "base_uri": "https://localhost:8080/",
          "height": 88
        },
        "id": "Q6VzAPaUy1Tr",
        "outputId": "8bca64ed-72bf-4a5c-cae2-7ef84b2c0de1"
      },
      "execution_count": 32,
      "outputs": [
        {
          "output_type": "stream",
          "name": "stdout",
          "text": [
            "Column = Item_Fat_Content\n"
          ]
        },
        {
          "output_type": "display_data",
          "data": {
            "text/plain": [
              "Low Fat    5517\n",
              "Regular    3006\n",
              "Name: Item_Fat_Content, dtype: int64"
            ]
          },
          "metadata": {}
        }
      ]
    },
    {
      "cell_type": "code",
      "source": [
        "#ordinal encoding\n",
        "ml_df['Outlet_Size'].value_counts()"
      ],
      "metadata": {
        "colab": {
          "base_uri": "https://localhost:8080/"
        },
        "id": "ZljhpWTEzDEt",
        "outputId": "7bba977c-4dd8-4c86-ac4f-fdbbc67432ed"
      },
      "execution_count": 33,
      "outputs": [
        {
          "output_type": "execute_result",
          "data": {
            "text/plain": [
              "Medium    2793\n",
              "Small     2388\n",
              "High       932\n",
              "Name: Outlet_Size, dtype: int64"
            ]
          },
          "metadata": {},
          "execution_count": 33
        }
      ]
    },
    {
      "cell_type": "code",
      "source": [
        "replacement_dictionary = {'High':2, 'Medium':1, 'Small':0}\n",
        "ml_df['Outlet_Size'].replace(replacement_dictionary, inplace=True)\n",
        "ml_df['Outlet_Size']"
      ],
      "metadata": {
        "colab": {
          "base_uri": "https://localhost:8080/"
        },
        "id": "QT14OKN3zTJS",
        "outputId": "a108d805-dc1d-4e5e-e3a3-af49ec1af878"
      },
      "execution_count": 34,
      "outputs": [
        {
          "output_type": "execute_result",
          "data": {
            "text/plain": [
              "0       1.0\n",
              "1       1.0\n",
              "2       1.0\n",
              "3       NaN\n",
              "4       2.0\n",
              "       ... \n",
              "8518    2.0\n",
              "8519    NaN\n",
              "8520    0.0\n",
              "8521    1.0\n",
              "8522    0.0\n",
              "Name: Outlet_Size, Length: 8523, dtype: float64"
            ]
          },
          "metadata": {},
          "execution_count": 34
        }
      ]
    },
    {
      "cell_type": "markdown",
      "source": [
        "### Split the data"
      ],
      "metadata": {
        "id": "AuBuMpN5zjiP"
      }
    },
    {
      "cell_type": "markdown",
      "source": [
        "  - Assign the \"Item_Outlet_Sales\" column as the target and the rest of the relevant variables as the features matrix."
      ],
      "metadata": {
        "id": "02Uh0xLb0CeO"
      }
    },
    {
      "cell_type": "code",
      "source": [
        "#assign X and y\n",
        "y = ml_df['Item_Outlet_Sales']\n",
        "X = ml_df.drop(columns = ['Item_Outlet_Sales'])"
      ],
      "metadata": {
        "id": "EBA3IMLyz9AN"
      },
      "execution_count": 35,
      "outputs": []
    },
    {
      "cell_type": "code",
      "source": [
        "X_train, X_test, y_train, y_test = train_test_split(X, y, random_state=42)\n",
        "display(len(X_train))\n",
        "display(len(X_test))\n",
        "display(len(y_train))\n",
        "display(len(y_test))"
      ],
      "metadata": {
        "colab": {
          "base_uri": "https://localhost:8080/",
          "height": 88
        },
        "id": "3LNhDsY10RQT",
        "outputId": "b9722400-b02a-4984-9cc9-bcf7a076f30c"
      },
      "execution_count": 36,
      "outputs": [
        {
          "output_type": "display_data",
          "data": {
            "text/plain": [
              "6392"
            ]
          },
          "metadata": {}
        },
        {
          "output_type": "display_data",
          "data": {
            "text/plain": [
              "2131"
            ]
          },
          "metadata": {}
        },
        {
          "output_type": "display_data",
          "data": {
            "text/plain": [
              "6392"
            ]
          },
          "metadata": {}
        },
        {
          "output_type": "display_data",
          "data": {
            "text/plain": [
              "2131"
            ]
          },
          "metadata": {}
        }
      ]
    },
    {
      "cell_type": "markdown",
      "source": [
        "### Linear Regression Model"
      ],
      "metadata": {
        "id": "36QQjAcN1FZi"
      }
    },
    {
      "cell_type": "markdown",
      "source": [
        "#### Create a preprocessing object "
      ],
      "metadata": {
        "id": "UitrxIp71O1t"
      }
    },
    {
      "cell_type": "markdown",
      "source": [
        "  - Mean imputation will be used in the float columns (because the average value would likely be closest to the correct value that is missing).\n",
        "  - Constant imputation will be used in the object columns (because there might be a pattern to the missing categorical data).\n",
        "  - Then the numeric data will be scaled and the categorical (object) columns will be one-hot encoded."
      ],
      "metadata": {
        "id": "D86MNac61Wg3"
      }
    },
    {
      "cell_type": "code",
      "source": [
        "#create a columntransformer for preprocessing\n",
        "#prepare the preprocessing object but do not preprocess the data yet--the data will be preprocessed inside the model pipeline\n",
        "#instantiate the transformers\n",
        "scaler = StandardScaler()\n",
        "mean_imputer = SimpleImputer(strategy = 'mean')\n",
        "constant_imputer = SimpleImputer(strategy = 'constant', fill_value = 'Missing')\n",
        "ohe = OneHotEncoder(sparse = False, handle_unknown = 'ignore')\n",
        "#prepare separate processing pipelines for numeric and categorical data\n",
        "num_pipe = make_pipeline(mean_imputer, scaler)\n",
        "cat_pipe = make_pipeline(constant_imputer, ohe)\n",
        "#create columnselectors for the numeric and categorical data\n",
        "cat_selector = make_column_selector(dtype_include='object')\n",
        "num_selector = make_column_selector(dtype_include='number')\n",
        "#combine the pipelines and columnselectors into tuples for the columntransformer\n",
        "cat_tuple = (cat_pipe, cat_selector)\n",
        "num_tuple = (num_pipe, num_selector)\n",
        "#create the preprocessing columntransformer\n",
        "preprocessor = make_column_transformer(cat_tuple, num_tuple, remainder='drop')\n",
        "preprocessor"
      ],
      "metadata": {
        "colab": {
          "base_uri": "https://localhost:8080/",
          "height": 152
        },
        "id": "5iSUpsHN2du-",
        "outputId": "3877a9a2-3484-4f58-8b3b-edd4a7036cad"
      },
      "execution_count": 37,
      "outputs": [
        {
          "output_type": "execute_result",
          "data": {
            "text/plain": [
              "ColumnTransformer(transformers=[('pipeline-1',\n",
              "                                 Pipeline(steps=[('simpleimputer',\n",
              "                                                  SimpleImputer(fill_value='Missing',\n",
              "                                                                strategy='constant')),\n",
              "                                                 ('onehotencoder',\n",
              "                                                  OneHotEncoder(handle_unknown='ignore',\n",
              "                                                                sparse=False))]),\n",
              "                                 <sklearn.compose._column_transformer.make_column_selector object at 0x7f24b00e0eb0>),\n",
              "                                ('pipeline-2',\n",
              "                                 Pipeline(steps=[('simpleimputer',\n",
              "                                                  SimpleImputer()),\n",
              "                                                 ('standardscaler',\n",
              "                                                  StandardScaler())]),\n",
              "                                 <sklearn.compose._column_transformer.make_column_selector object at 0x7f24b00e0d90>)])"
            ],
            "text/html": [
              "<style>#sk-7b4dc0eb-a7e9-447f-806c-a4c1e814b1fa {color: black;background-color: white;}#sk-7b4dc0eb-a7e9-447f-806c-a4c1e814b1fa pre{padding: 0;}#sk-7b4dc0eb-a7e9-447f-806c-a4c1e814b1fa div.sk-toggleable {background-color: white;}#sk-7b4dc0eb-a7e9-447f-806c-a4c1e814b1fa label.sk-toggleable__label {cursor: pointer;display: block;width: 100%;margin-bottom: 0;padding: 0.3em;box-sizing: border-box;text-align: center;}#sk-7b4dc0eb-a7e9-447f-806c-a4c1e814b1fa label.sk-toggleable__label-arrow:before {content: \"▸\";float: left;margin-right: 0.25em;color: #696969;}#sk-7b4dc0eb-a7e9-447f-806c-a4c1e814b1fa label.sk-toggleable__label-arrow:hover:before {color: black;}#sk-7b4dc0eb-a7e9-447f-806c-a4c1e814b1fa div.sk-estimator:hover label.sk-toggleable__label-arrow:before {color: black;}#sk-7b4dc0eb-a7e9-447f-806c-a4c1e814b1fa div.sk-toggleable__content {max-height: 0;max-width: 0;overflow: hidden;text-align: left;background-color: #f0f8ff;}#sk-7b4dc0eb-a7e9-447f-806c-a4c1e814b1fa div.sk-toggleable__content pre {margin: 0.2em;color: black;border-radius: 0.25em;background-color: #f0f8ff;}#sk-7b4dc0eb-a7e9-447f-806c-a4c1e814b1fa input.sk-toggleable__control:checked~div.sk-toggleable__content {max-height: 200px;max-width: 100%;overflow: auto;}#sk-7b4dc0eb-a7e9-447f-806c-a4c1e814b1fa input.sk-toggleable__control:checked~label.sk-toggleable__label-arrow:before {content: \"▾\";}#sk-7b4dc0eb-a7e9-447f-806c-a4c1e814b1fa div.sk-estimator input.sk-toggleable__control:checked~label.sk-toggleable__label {background-color: #d4ebff;}#sk-7b4dc0eb-a7e9-447f-806c-a4c1e814b1fa div.sk-label input.sk-toggleable__control:checked~label.sk-toggleable__label {background-color: #d4ebff;}#sk-7b4dc0eb-a7e9-447f-806c-a4c1e814b1fa input.sk-hidden--visually {border: 0;clip: rect(1px 1px 1px 1px);clip: rect(1px, 1px, 1px, 1px);height: 1px;margin: -1px;overflow: hidden;padding: 0;position: absolute;width: 1px;}#sk-7b4dc0eb-a7e9-447f-806c-a4c1e814b1fa div.sk-estimator {font-family: monospace;background-color: #f0f8ff;border: 1px dotted black;border-radius: 0.25em;box-sizing: border-box;margin-bottom: 0.5em;}#sk-7b4dc0eb-a7e9-447f-806c-a4c1e814b1fa div.sk-estimator:hover {background-color: #d4ebff;}#sk-7b4dc0eb-a7e9-447f-806c-a4c1e814b1fa div.sk-parallel-item::after {content: \"\";width: 100%;border-bottom: 1px solid gray;flex-grow: 1;}#sk-7b4dc0eb-a7e9-447f-806c-a4c1e814b1fa div.sk-label:hover label.sk-toggleable__label {background-color: #d4ebff;}#sk-7b4dc0eb-a7e9-447f-806c-a4c1e814b1fa div.sk-serial::before {content: \"\";position: absolute;border-left: 1px solid gray;box-sizing: border-box;top: 2em;bottom: 0;left: 50%;}#sk-7b4dc0eb-a7e9-447f-806c-a4c1e814b1fa div.sk-serial {display: flex;flex-direction: column;align-items: center;background-color: white;padding-right: 0.2em;padding-left: 0.2em;}#sk-7b4dc0eb-a7e9-447f-806c-a4c1e814b1fa div.sk-item {z-index: 1;}#sk-7b4dc0eb-a7e9-447f-806c-a4c1e814b1fa div.sk-parallel {display: flex;align-items: stretch;justify-content: center;background-color: white;}#sk-7b4dc0eb-a7e9-447f-806c-a4c1e814b1fa div.sk-parallel::before {content: \"\";position: absolute;border-left: 1px solid gray;box-sizing: border-box;top: 2em;bottom: 0;left: 50%;}#sk-7b4dc0eb-a7e9-447f-806c-a4c1e814b1fa div.sk-parallel-item {display: flex;flex-direction: column;position: relative;background-color: white;}#sk-7b4dc0eb-a7e9-447f-806c-a4c1e814b1fa div.sk-parallel-item:first-child::after {align-self: flex-end;width: 50%;}#sk-7b4dc0eb-a7e9-447f-806c-a4c1e814b1fa div.sk-parallel-item:last-child::after {align-self: flex-start;width: 50%;}#sk-7b4dc0eb-a7e9-447f-806c-a4c1e814b1fa div.sk-parallel-item:only-child::after {width: 0;}#sk-7b4dc0eb-a7e9-447f-806c-a4c1e814b1fa div.sk-dashed-wrapped {border: 1px dashed gray;margin: 0 0.4em 0.5em 0.4em;box-sizing: border-box;padding-bottom: 0.4em;background-color: white;position: relative;}#sk-7b4dc0eb-a7e9-447f-806c-a4c1e814b1fa div.sk-label label {font-family: monospace;font-weight: bold;background-color: white;display: inline-block;line-height: 1.2em;}#sk-7b4dc0eb-a7e9-447f-806c-a4c1e814b1fa div.sk-label-container {position: relative;z-index: 2;text-align: center;}#sk-7b4dc0eb-a7e9-447f-806c-a4c1e814b1fa div.sk-container {/* jupyter's `normalize.less` sets `[hidden] { display: none; }` but bootstrap.min.css set `[hidden] { display: none !important; }` so we also need the `!important` here to be able to override the default hidden behavior on the sphinx rendered scikit-learn.org. See: https://github.com/scikit-learn/scikit-learn/issues/21755 */display: inline-block !important;position: relative;}#sk-7b4dc0eb-a7e9-447f-806c-a4c1e814b1fa div.sk-text-repr-fallback {display: none;}</style><div id=\"sk-7b4dc0eb-a7e9-447f-806c-a4c1e814b1fa\" class=\"sk-top-container\"><div class=\"sk-text-repr-fallback\"><pre>ColumnTransformer(transformers=[(&#x27;pipeline-1&#x27;,\n",
              "                                 Pipeline(steps=[(&#x27;simpleimputer&#x27;,\n",
              "                                                  SimpleImputer(fill_value=&#x27;Missing&#x27;,\n",
              "                                                                strategy=&#x27;constant&#x27;)),\n",
              "                                                 (&#x27;onehotencoder&#x27;,\n",
              "                                                  OneHotEncoder(handle_unknown=&#x27;ignore&#x27;,\n",
              "                                                                sparse=False))]),\n",
              "                                 &lt;sklearn.compose._column_transformer.make_column_selector object at 0x7f24b00e0eb0&gt;),\n",
              "                                (&#x27;pipeline-2&#x27;,\n",
              "                                 Pipeline(steps=[(&#x27;simpleimputer&#x27;,\n",
              "                                                  SimpleImputer()),\n",
              "                                                 (&#x27;standardscaler&#x27;,\n",
              "                                                  StandardScaler())]),\n",
              "                                 &lt;sklearn.compose._column_transformer.make_column_selector object at 0x7f24b00e0d90&gt;)])</pre><b>Please rerun this cell to show the HTML repr or trust the notebook.</b></div><div class=\"sk-container\" hidden><div class=\"sk-item sk-dashed-wrapped\"><div class=\"sk-label-container\"><div class=\"sk-label sk-toggleable\"><input class=\"sk-toggleable__control sk-hidden--visually\" id=\"cd984a5d-4dfe-4eaa-bace-a2e6e75e1539\" type=\"checkbox\" ><label for=\"cd984a5d-4dfe-4eaa-bace-a2e6e75e1539\" class=\"sk-toggleable__label sk-toggleable__label-arrow\">ColumnTransformer</label><div class=\"sk-toggleable__content\"><pre>ColumnTransformer(transformers=[(&#x27;pipeline-1&#x27;,\n",
              "                                 Pipeline(steps=[(&#x27;simpleimputer&#x27;,\n",
              "                                                  SimpleImputer(fill_value=&#x27;Missing&#x27;,\n",
              "                                                                strategy=&#x27;constant&#x27;)),\n",
              "                                                 (&#x27;onehotencoder&#x27;,\n",
              "                                                  OneHotEncoder(handle_unknown=&#x27;ignore&#x27;,\n",
              "                                                                sparse=False))]),\n",
              "                                 &lt;sklearn.compose._column_transformer.make_column_selector object at 0x7f24b00e0eb0&gt;),\n",
              "                                (&#x27;pipeline-2&#x27;,\n",
              "                                 Pipeline(steps=[(&#x27;simpleimputer&#x27;,\n",
              "                                                  SimpleImputer()),\n",
              "                                                 (&#x27;standardscaler&#x27;,\n",
              "                                                  StandardScaler())]),\n",
              "                                 &lt;sklearn.compose._column_transformer.make_column_selector object at 0x7f24b00e0d90&gt;)])</pre></div></div></div><div class=\"sk-parallel\"><div class=\"sk-parallel-item\"><div class=\"sk-item\"><div class=\"sk-label-container\"><div class=\"sk-label sk-toggleable\"><input class=\"sk-toggleable__control sk-hidden--visually\" id=\"28cb39df-534a-4d5c-9a6a-839f106db524\" type=\"checkbox\" ><label for=\"28cb39df-534a-4d5c-9a6a-839f106db524\" class=\"sk-toggleable__label sk-toggleable__label-arrow\">pipeline-1</label><div class=\"sk-toggleable__content\"><pre>&lt;sklearn.compose._column_transformer.make_column_selector object at 0x7f24b00e0eb0&gt;</pre></div></div></div><div class=\"sk-serial\"><div class=\"sk-item\"><div class=\"sk-serial\"><div class=\"sk-item\"><div class=\"sk-estimator sk-toggleable\"><input class=\"sk-toggleable__control sk-hidden--visually\" id=\"468da1b7-a50f-410b-b9e3-2ce2c1b22abc\" type=\"checkbox\" ><label for=\"468da1b7-a50f-410b-b9e3-2ce2c1b22abc\" class=\"sk-toggleable__label sk-toggleable__label-arrow\">SimpleImputer</label><div class=\"sk-toggleable__content\"><pre>SimpleImputer(fill_value=&#x27;Missing&#x27;, strategy=&#x27;constant&#x27;)</pre></div></div></div><div class=\"sk-item\"><div class=\"sk-estimator sk-toggleable\"><input class=\"sk-toggleable__control sk-hidden--visually\" id=\"bd579e61-9356-4401-aa9d-2228e4e9f0b9\" type=\"checkbox\" ><label for=\"bd579e61-9356-4401-aa9d-2228e4e9f0b9\" class=\"sk-toggleable__label sk-toggleable__label-arrow\">OneHotEncoder</label><div class=\"sk-toggleable__content\"><pre>OneHotEncoder(handle_unknown=&#x27;ignore&#x27;, sparse=False)</pre></div></div></div></div></div></div></div></div><div class=\"sk-parallel-item\"><div class=\"sk-item\"><div class=\"sk-label-container\"><div class=\"sk-label sk-toggleable\"><input class=\"sk-toggleable__control sk-hidden--visually\" id=\"21ca5ffb-cff9-4322-8bd1-689513780eed\" type=\"checkbox\" ><label for=\"21ca5ffb-cff9-4322-8bd1-689513780eed\" class=\"sk-toggleable__label sk-toggleable__label-arrow\">pipeline-2</label><div class=\"sk-toggleable__content\"><pre>&lt;sklearn.compose._column_transformer.make_column_selector object at 0x7f24b00e0d90&gt;</pre></div></div></div><div class=\"sk-serial\"><div class=\"sk-item\"><div class=\"sk-serial\"><div class=\"sk-item\"><div class=\"sk-estimator sk-toggleable\"><input class=\"sk-toggleable__control sk-hidden--visually\" id=\"a5d75087-1f45-4507-92c7-82138d27536d\" type=\"checkbox\" ><label for=\"a5d75087-1f45-4507-92c7-82138d27536d\" class=\"sk-toggleable__label sk-toggleable__label-arrow\">SimpleImputer</label><div class=\"sk-toggleable__content\"><pre>SimpleImputer()</pre></div></div></div><div class=\"sk-item\"><div class=\"sk-estimator sk-toggleable\"><input class=\"sk-toggleable__control sk-hidden--visually\" id=\"f59e3b7a-fb6d-4d53-8741-06d3c0fdc656\" type=\"checkbox\" ><label for=\"f59e3b7a-fb6d-4d53-8741-06d3c0fdc656\" class=\"sk-toggleable__label sk-toggleable__label-arrow\">StandardScaler</label><div class=\"sk-toggleable__content\"><pre>StandardScaler()</pre></div></div></div></div></div></div></div></div></div></div></div></div>"
            ]
          },
          "metadata": {},
          "execution_count": 37
        }
      ]
    },
    {
      "cell_type": "markdown",
      "source": [
        "#### Create a model pipeline"
      ],
      "metadata": {
        "id": "stnCniPb3UcQ"
      }
    },
    {
      "cell_type": "code",
      "source": [
        "#instantiate a linear regression model\n",
        "linreg = LinearRegression()\n",
        "#combine the preprocessing columntransformer and the linear regression model in a pipeline\n",
        "linreg_pipe = make_pipeline(preprocessor, linreg)\n",
        "linreg_pipe"
      ],
      "metadata": {
        "colab": {
          "base_uri": "https://localhost:8080/",
          "height": 227
        },
        "id": "DOAmqQxt3MqV",
        "outputId": "5174284b-4a71-4a8f-ff4d-a7e0062e7083"
      },
      "execution_count": 38,
      "outputs": [
        {
          "output_type": "execute_result",
          "data": {
            "text/plain": [
              "Pipeline(steps=[('columntransformer',\n",
              "                 ColumnTransformer(transformers=[('pipeline-1',\n",
              "                                                  Pipeline(steps=[('simpleimputer',\n",
              "                                                                   SimpleImputer(fill_value='Missing',\n",
              "                                                                                 strategy='constant')),\n",
              "                                                                  ('onehotencoder',\n",
              "                                                                   OneHotEncoder(handle_unknown='ignore',\n",
              "                                                                                 sparse=False))]),\n",
              "                                                  <sklearn.compose._column_transformer.make_column_selector object at 0x7f24b00e0eb0>),\n",
              "                                                 ('pipeline-2',\n",
              "                                                  Pipeline(steps=[('simpleimputer',\n",
              "                                                                   SimpleImputer()),\n",
              "                                                                  ('standardscaler',\n",
              "                                                                   StandardScaler())]),\n",
              "                                                  <sklearn.compose._column_transformer.make_column_selector object at 0x7f24b00e0d90>)])),\n",
              "                ('linearregression', LinearRegression())])"
            ],
            "text/html": [
              "<style>#sk-0f57504e-9e99-4c48-bd6b-26e49e76b7db {color: black;background-color: white;}#sk-0f57504e-9e99-4c48-bd6b-26e49e76b7db pre{padding: 0;}#sk-0f57504e-9e99-4c48-bd6b-26e49e76b7db div.sk-toggleable {background-color: white;}#sk-0f57504e-9e99-4c48-bd6b-26e49e76b7db label.sk-toggleable__label {cursor: pointer;display: block;width: 100%;margin-bottom: 0;padding: 0.3em;box-sizing: border-box;text-align: center;}#sk-0f57504e-9e99-4c48-bd6b-26e49e76b7db label.sk-toggleable__label-arrow:before {content: \"▸\";float: left;margin-right: 0.25em;color: #696969;}#sk-0f57504e-9e99-4c48-bd6b-26e49e76b7db label.sk-toggleable__label-arrow:hover:before {color: black;}#sk-0f57504e-9e99-4c48-bd6b-26e49e76b7db div.sk-estimator:hover label.sk-toggleable__label-arrow:before {color: black;}#sk-0f57504e-9e99-4c48-bd6b-26e49e76b7db div.sk-toggleable__content {max-height: 0;max-width: 0;overflow: hidden;text-align: left;background-color: #f0f8ff;}#sk-0f57504e-9e99-4c48-bd6b-26e49e76b7db div.sk-toggleable__content pre {margin: 0.2em;color: black;border-radius: 0.25em;background-color: #f0f8ff;}#sk-0f57504e-9e99-4c48-bd6b-26e49e76b7db input.sk-toggleable__control:checked~div.sk-toggleable__content {max-height: 200px;max-width: 100%;overflow: auto;}#sk-0f57504e-9e99-4c48-bd6b-26e49e76b7db input.sk-toggleable__control:checked~label.sk-toggleable__label-arrow:before {content: \"▾\";}#sk-0f57504e-9e99-4c48-bd6b-26e49e76b7db div.sk-estimator input.sk-toggleable__control:checked~label.sk-toggleable__label {background-color: #d4ebff;}#sk-0f57504e-9e99-4c48-bd6b-26e49e76b7db div.sk-label input.sk-toggleable__control:checked~label.sk-toggleable__label {background-color: #d4ebff;}#sk-0f57504e-9e99-4c48-bd6b-26e49e76b7db input.sk-hidden--visually {border: 0;clip: rect(1px 1px 1px 1px);clip: rect(1px, 1px, 1px, 1px);height: 1px;margin: -1px;overflow: hidden;padding: 0;position: absolute;width: 1px;}#sk-0f57504e-9e99-4c48-bd6b-26e49e76b7db div.sk-estimator {font-family: monospace;background-color: #f0f8ff;border: 1px dotted black;border-radius: 0.25em;box-sizing: border-box;margin-bottom: 0.5em;}#sk-0f57504e-9e99-4c48-bd6b-26e49e76b7db div.sk-estimator:hover {background-color: #d4ebff;}#sk-0f57504e-9e99-4c48-bd6b-26e49e76b7db div.sk-parallel-item::after {content: \"\";width: 100%;border-bottom: 1px solid gray;flex-grow: 1;}#sk-0f57504e-9e99-4c48-bd6b-26e49e76b7db div.sk-label:hover label.sk-toggleable__label {background-color: #d4ebff;}#sk-0f57504e-9e99-4c48-bd6b-26e49e76b7db div.sk-serial::before {content: \"\";position: absolute;border-left: 1px solid gray;box-sizing: border-box;top: 2em;bottom: 0;left: 50%;}#sk-0f57504e-9e99-4c48-bd6b-26e49e76b7db div.sk-serial {display: flex;flex-direction: column;align-items: center;background-color: white;padding-right: 0.2em;padding-left: 0.2em;}#sk-0f57504e-9e99-4c48-bd6b-26e49e76b7db div.sk-item {z-index: 1;}#sk-0f57504e-9e99-4c48-bd6b-26e49e76b7db div.sk-parallel {display: flex;align-items: stretch;justify-content: center;background-color: white;}#sk-0f57504e-9e99-4c48-bd6b-26e49e76b7db div.sk-parallel::before {content: \"\";position: absolute;border-left: 1px solid gray;box-sizing: border-box;top: 2em;bottom: 0;left: 50%;}#sk-0f57504e-9e99-4c48-bd6b-26e49e76b7db div.sk-parallel-item {display: flex;flex-direction: column;position: relative;background-color: white;}#sk-0f57504e-9e99-4c48-bd6b-26e49e76b7db div.sk-parallel-item:first-child::after {align-self: flex-end;width: 50%;}#sk-0f57504e-9e99-4c48-bd6b-26e49e76b7db div.sk-parallel-item:last-child::after {align-self: flex-start;width: 50%;}#sk-0f57504e-9e99-4c48-bd6b-26e49e76b7db div.sk-parallel-item:only-child::after {width: 0;}#sk-0f57504e-9e99-4c48-bd6b-26e49e76b7db div.sk-dashed-wrapped {border: 1px dashed gray;margin: 0 0.4em 0.5em 0.4em;box-sizing: border-box;padding-bottom: 0.4em;background-color: white;position: relative;}#sk-0f57504e-9e99-4c48-bd6b-26e49e76b7db div.sk-label label {font-family: monospace;font-weight: bold;background-color: white;display: inline-block;line-height: 1.2em;}#sk-0f57504e-9e99-4c48-bd6b-26e49e76b7db div.sk-label-container {position: relative;z-index: 2;text-align: center;}#sk-0f57504e-9e99-4c48-bd6b-26e49e76b7db div.sk-container {/* jupyter's `normalize.less` sets `[hidden] { display: none; }` but bootstrap.min.css set `[hidden] { display: none !important; }` so we also need the `!important` here to be able to override the default hidden behavior on the sphinx rendered scikit-learn.org. See: https://github.com/scikit-learn/scikit-learn/issues/21755 */display: inline-block !important;position: relative;}#sk-0f57504e-9e99-4c48-bd6b-26e49e76b7db div.sk-text-repr-fallback {display: none;}</style><div id=\"sk-0f57504e-9e99-4c48-bd6b-26e49e76b7db\" class=\"sk-top-container\"><div class=\"sk-text-repr-fallback\"><pre>Pipeline(steps=[(&#x27;columntransformer&#x27;,\n",
              "                 ColumnTransformer(transformers=[(&#x27;pipeline-1&#x27;,\n",
              "                                                  Pipeline(steps=[(&#x27;simpleimputer&#x27;,\n",
              "                                                                   SimpleImputer(fill_value=&#x27;Missing&#x27;,\n",
              "                                                                                 strategy=&#x27;constant&#x27;)),\n",
              "                                                                  (&#x27;onehotencoder&#x27;,\n",
              "                                                                   OneHotEncoder(handle_unknown=&#x27;ignore&#x27;,\n",
              "                                                                                 sparse=False))]),\n",
              "                                                  &lt;sklearn.compose._column_transformer.make_column_selector object at 0x7f24b00e0eb0&gt;),\n",
              "                                                 (&#x27;pipeline-2&#x27;,\n",
              "                                                  Pipeline(steps=[(&#x27;simpleimputer&#x27;,\n",
              "                                                                   SimpleImputer()),\n",
              "                                                                  (&#x27;standardscaler&#x27;,\n",
              "                                                                   StandardScaler())]),\n",
              "                                                  &lt;sklearn.compose._column_transformer.make_column_selector object at 0x7f24b00e0d90&gt;)])),\n",
              "                (&#x27;linearregression&#x27;, LinearRegression())])</pre><b>Please rerun this cell to show the HTML repr or trust the notebook.</b></div><div class=\"sk-container\" hidden><div class=\"sk-item sk-dashed-wrapped\"><div class=\"sk-label-container\"><div class=\"sk-label sk-toggleable\"><input class=\"sk-toggleable__control sk-hidden--visually\" id=\"35160690-3582-42d1-b679-2f8bf794ceca\" type=\"checkbox\" ><label for=\"35160690-3582-42d1-b679-2f8bf794ceca\" class=\"sk-toggleable__label sk-toggleable__label-arrow\">Pipeline</label><div class=\"sk-toggleable__content\"><pre>Pipeline(steps=[(&#x27;columntransformer&#x27;,\n",
              "                 ColumnTransformer(transformers=[(&#x27;pipeline-1&#x27;,\n",
              "                                                  Pipeline(steps=[(&#x27;simpleimputer&#x27;,\n",
              "                                                                   SimpleImputer(fill_value=&#x27;Missing&#x27;,\n",
              "                                                                                 strategy=&#x27;constant&#x27;)),\n",
              "                                                                  (&#x27;onehotencoder&#x27;,\n",
              "                                                                   OneHotEncoder(handle_unknown=&#x27;ignore&#x27;,\n",
              "                                                                                 sparse=False))]),\n",
              "                                                  &lt;sklearn.compose._column_transformer.make_column_selector object at 0x7f24b00e0eb0&gt;),\n",
              "                                                 (&#x27;pipeline-2&#x27;,\n",
              "                                                  Pipeline(steps=[(&#x27;simpleimputer&#x27;,\n",
              "                                                                   SimpleImputer()),\n",
              "                                                                  (&#x27;standardscaler&#x27;,\n",
              "                                                                   StandardScaler())]),\n",
              "                                                  &lt;sklearn.compose._column_transformer.make_column_selector object at 0x7f24b00e0d90&gt;)])),\n",
              "                (&#x27;linearregression&#x27;, LinearRegression())])</pre></div></div></div><div class=\"sk-serial\"><div class=\"sk-item sk-dashed-wrapped\"><div class=\"sk-label-container\"><div class=\"sk-label sk-toggleable\"><input class=\"sk-toggleable__control sk-hidden--visually\" id=\"6b470dcb-91b4-454b-b3d2-437ab9f8da0d\" type=\"checkbox\" ><label for=\"6b470dcb-91b4-454b-b3d2-437ab9f8da0d\" class=\"sk-toggleable__label sk-toggleable__label-arrow\">columntransformer: ColumnTransformer</label><div class=\"sk-toggleable__content\"><pre>ColumnTransformer(transformers=[(&#x27;pipeline-1&#x27;,\n",
              "                                 Pipeline(steps=[(&#x27;simpleimputer&#x27;,\n",
              "                                                  SimpleImputer(fill_value=&#x27;Missing&#x27;,\n",
              "                                                                strategy=&#x27;constant&#x27;)),\n",
              "                                                 (&#x27;onehotencoder&#x27;,\n",
              "                                                  OneHotEncoder(handle_unknown=&#x27;ignore&#x27;,\n",
              "                                                                sparse=False))]),\n",
              "                                 &lt;sklearn.compose._column_transformer.make_column_selector object at 0x7f24b00e0eb0&gt;),\n",
              "                                (&#x27;pipeline-2&#x27;,\n",
              "                                 Pipeline(steps=[(&#x27;simpleimputer&#x27;,\n",
              "                                                  SimpleImputer()),\n",
              "                                                 (&#x27;standardscaler&#x27;,\n",
              "                                                  StandardScaler())]),\n",
              "                                 &lt;sklearn.compose._column_transformer.make_column_selector object at 0x7f24b00e0d90&gt;)])</pre></div></div></div><div class=\"sk-parallel\"><div class=\"sk-parallel-item\"><div class=\"sk-item\"><div class=\"sk-label-container\"><div class=\"sk-label sk-toggleable\"><input class=\"sk-toggleable__control sk-hidden--visually\" id=\"483d8e20-2d12-4c04-a8e1-b3b449f94e52\" type=\"checkbox\" ><label for=\"483d8e20-2d12-4c04-a8e1-b3b449f94e52\" class=\"sk-toggleable__label sk-toggleable__label-arrow\">pipeline-1</label><div class=\"sk-toggleable__content\"><pre>&lt;sklearn.compose._column_transformer.make_column_selector object at 0x7f24b00e0eb0&gt;</pre></div></div></div><div class=\"sk-serial\"><div class=\"sk-item\"><div class=\"sk-serial\"><div class=\"sk-item\"><div class=\"sk-estimator sk-toggleable\"><input class=\"sk-toggleable__control sk-hidden--visually\" id=\"7c0e476b-b6c6-45f0-8a77-9e6d68e030d1\" type=\"checkbox\" ><label for=\"7c0e476b-b6c6-45f0-8a77-9e6d68e030d1\" class=\"sk-toggleable__label sk-toggleable__label-arrow\">SimpleImputer</label><div class=\"sk-toggleable__content\"><pre>SimpleImputer(fill_value=&#x27;Missing&#x27;, strategy=&#x27;constant&#x27;)</pre></div></div></div><div class=\"sk-item\"><div class=\"sk-estimator sk-toggleable\"><input class=\"sk-toggleable__control sk-hidden--visually\" id=\"e5205698-dc0e-4240-8e25-9f7efa12a2ca\" type=\"checkbox\" ><label for=\"e5205698-dc0e-4240-8e25-9f7efa12a2ca\" class=\"sk-toggleable__label sk-toggleable__label-arrow\">OneHotEncoder</label><div class=\"sk-toggleable__content\"><pre>OneHotEncoder(handle_unknown=&#x27;ignore&#x27;, sparse=False)</pre></div></div></div></div></div></div></div></div><div class=\"sk-parallel-item\"><div class=\"sk-item\"><div class=\"sk-label-container\"><div class=\"sk-label sk-toggleable\"><input class=\"sk-toggleable__control sk-hidden--visually\" id=\"32faab85-309e-46fa-92c7-8c8fa1caaa8d\" type=\"checkbox\" ><label for=\"32faab85-309e-46fa-92c7-8c8fa1caaa8d\" class=\"sk-toggleable__label sk-toggleable__label-arrow\">pipeline-2</label><div class=\"sk-toggleable__content\"><pre>&lt;sklearn.compose._column_transformer.make_column_selector object at 0x7f24b00e0d90&gt;</pre></div></div></div><div class=\"sk-serial\"><div class=\"sk-item\"><div class=\"sk-serial\"><div class=\"sk-item\"><div class=\"sk-estimator sk-toggleable\"><input class=\"sk-toggleable__control sk-hidden--visually\" id=\"aae5abcf-be32-4bcb-a606-f26e816d0381\" type=\"checkbox\" ><label for=\"aae5abcf-be32-4bcb-a606-f26e816d0381\" class=\"sk-toggleable__label sk-toggleable__label-arrow\">SimpleImputer</label><div class=\"sk-toggleable__content\"><pre>SimpleImputer()</pre></div></div></div><div class=\"sk-item\"><div class=\"sk-estimator sk-toggleable\"><input class=\"sk-toggleable__control sk-hidden--visually\" id=\"f216f626-3a03-40bf-a909-acfef451d7e3\" type=\"checkbox\" ><label for=\"f216f626-3a03-40bf-a909-acfef451d7e3\" class=\"sk-toggleable__label sk-toggleable__label-arrow\">StandardScaler</label><div class=\"sk-toggleable__content\"><pre>StandardScaler()</pre></div></div></div></div></div></div></div></div></div></div><div class=\"sk-item\"><div class=\"sk-estimator sk-toggleable\"><input class=\"sk-toggleable__control sk-hidden--visually\" id=\"266b51d9-a3df-4eb8-a635-5e319fe97e85\" type=\"checkbox\" ><label for=\"266b51d9-a3df-4eb8-a635-5e319fe97e85\" class=\"sk-toggleable__label sk-toggleable__label-arrow\">LinearRegression</label><div class=\"sk-toggleable__content\"><pre>LinearRegression()</pre></div></div></div></div></div></div></div>"
            ]
          },
          "metadata": {},
          "execution_count": 38
        }
      ]
    },
    {
      "cell_type": "markdown",
      "source": [
        "#### Fit the model pipeline on the training data and make predictions"
      ],
      "metadata": {
        "id": "ZfkNIz8O4qDq"
      }
    },
    {
      "cell_type": "code",
      "source": [
        "#fit the model pipeline on the training data\n",
        "linreg_pipe.fit(X_train, y_train)\n",
        "#make predictions using the training and testing data\n",
        "training_predictions = linreg_pipe.predict(X_train)\n",
        "test_predictions = linreg_pipe.predict(X_test)"
      ],
      "metadata": {
        "id": "O7cSDoZz4nUL"
      },
      "execution_count": 39,
      "outputs": []
    },
    {
      "cell_type": "markdown",
      "source": [
        "#### Evaluate the performance of the model based on R^2"
      ],
      "metadata": {
        "id": "_Xp8GW9X5-i-"
      }
    },
    {
      "cell_type": "code",
      "source": [
        "#evaluate the model\n",
        "train_r2 = r2_score(y_train, training_predictions)\n",
        "test_r2 = r2_score(y_test, test_predictions)\n",
        "print(f'Linear Regression Model Training R2: {train_r2}')\n",
        "print(f'Linear Regression Model Testing R2: {test_r2}')"
      ],
      "metadata": {
        "colab": {
          "base_uri": "https://localhost:8080/"
        },
        "id": "4fHaj2z75e7B",
        "outputId": "652a86a2-4f44-4d7f-9950-17a5f7fd8d76"
      },
      "execution_count": 40,
      "outputs": [
        {
          "output_type": "stream",
          "name": "stdout",
          "text": [
            "Linear Regression Model Training R2: 0.5597456799341995\n",
            "Linear Regression Model Testing R2: 0.5665635905949876\n"
          ]
        }
      ]
    },
    {
      "cell_type": "markdown",
      "source": [
        "  - The linear regression model used the features to explain 56% of the variation in the target for the training data.\n",
        "  - However, the linear regression model used the features to explain 57% of the variation in the target for the testing data.\n"
      ],
      "metadata": {
        "id": "cy4UKzye7ny7"
      }
    },
    {
      "cell_type": "markdown",
      "source": [
        "#### Evaluate the performance of the model based on RMSE"
      ],
      "metadata": {
        "id": "IpCieLdb6Hyo"
      }
    },
    {
      "cell_type": "code",
      "source": [
        "#evaluate the model\n",
        "train_MAE = mean_absolute_error(y_train, training_predictions)\n",
        "test_MAE = mean_absolute_error(y_test, test_predictions)\n",
        "print(train_MAE)\n",
        "print(test_MAE)\n",
        "train_MSE = mean_squared_error(y_train, training_predictions)\n",
        "test_MSE = mean_squared_error(y_test, test_predictions)\n",
        "train_RMSE = np.sqrt(train_MSE)\n",
        "test_RMSE = np.sqrt(test_MSE)\n",
        "print(f'Linear Regression Model Training RMSE: {train_RMSE}')\n",
        "print(f'Linear Regression Model Testing RMSE: {test_RMSE}')"
      ],
      "metadata": {
        "colab": {
          "base_uri": "https://localhost:8080/"
        },
        "id": "dVtfuBSe8n-q",
        "outputId": "abbd19af-7767-470a-8aac-27b62eb44995"
      },
      "execution_count": 41,
      "outputs": [
        {
          "output_type": "stream",
          "name": "stdout",
          "text": [
            "847.570261764706\n",
            "804.6181711872362\n",
            "Linear Regression Model Training RMSE: 1141.4522149267548\n",
            "Linear Regression Model Testing RMSE: 1093.545247923878\n"
          ]
        }
      ]
    },
    {
      "cell_type": "markdown",
      "source": [
        "  - The RMSE is larger than the MAE--while the model is making an average error of 804.62 on the test data, it is making some larger errors.\n",
        "  - Additionally, the RMSE is larger on the training data than on the test data--the model is overfitting."
      ],
      "metadata": {
        "id": "lCFBI3qw9S-e"
      }
    },
    {
      "cell_type": "markdown",
      "source": [
        "### Regression Tree Model"
      ],
      "metadata": {
        "id": "Al7uTlV3_n9E"
      }
    },
    {
      "cell_type": "markdown",
      "source": [
        "#### Preprocessing"
      ],
      "metadata": {
        "id": "ciwBvW4dBIPh"
      }
    },
    {
      "cell_type": "markdown",
      "source": [
        "  - Mean imputation will be used in the float columns (because the average value would likely be closest to the correct value that is missing).\n",
        "  - Constant imputation will be used in the object columns (because there might be a pattern to the missing categorical data).\n",
        "  - Then the categorical (object) columns will be one-hot encoded."
      ],
      "metadata": {
        "id": "dUEbVxT2Bddj"
      }
    },
    {
      "cell_type": "code",
      "source": [
        "#create a columntransformer for preprocessing\n",
        "#prepare the preprocessing object but do not preprocess the data yet--the data will be preprocessed inside the model pipeline\n",
        "#instantiate the transformers\n",
        "mean_imputer = SimpleImputer(strategy = 'mean')\n",
        "constant_imputer = SimpleImputer(strategy = 'constant', fill_value = 'Missing')\n",
        "ohe = OneHotEncoder(sparse = False, handle_unknown = 'ignore')\n",
        "#prepare separate processing pipelines for numeric and categorical data\n",
        "num_pipe = make_pipeline(mean_imputer)\n",
        "cat_pipe = make_pipeline(constant_imputer, ohe)\n",
        "#create columnselectors for the numeric and categorical data\n",
        "cat_selector = make_column_selector(dtype_include='object')\n",
        "num_selector = make_column_selector(dtype_include='number')\n",
        "#combine the pipelines and columnselectors into tuples for the columntransformer\n",
        "cat_tuple = (cat_pipe, cat_selector)\n",
        "num_tuple = (num_pipe, num_selector)\n",
        "#create the preprocessing columntransformer\n",
        "preprocessor = make_column_transformer(cat_tuple, num_tuple, remainder='drop')\n",
        "preprocessor"
      ],
      "metadata": {
        "colab": {
          "base_uri": "https://localhost:8080/",
          "height": 152
        },
        "id": "rX_SKvdxBrWG",
        "outputId": "5b1045c6-8986-438e-dcba-d0abab8d36ce"
      },
      "execution_count": 42,
      "outputs": [
        {
          "output_type": "execute_result",
          "data": {
            "text/plain": [
              "ColumnTransformer(transformers=[('pipeline-1',\n",
              "                                 Pipeline(steps=[('simpleimputer',\n",
              "                                                  SimpleImputer(fill_value='Missing',\n",
              "                                                                strategy='constant')),\n",
              "                                                 ('onehotencoder',\n",
              "                                                  OneHotEncoder(handle_unknown='ignore',\n",
              "                                                                sparse=False))]),\n",
              "                                 <sklearn.compose._column_transformer.make_column_selector object at 0x7f24b0066670>),\n",
              "                                ('pipeline-2',\n",
              "                                 Pipeline(steps=[('simpleimputer',\n",
              "                                                  SimpleImputer())]),\n",
              "                                 <sklearn.compose._column_transformer.make_column_selector object at 0x7f24b0066700>)])"
            ],
            "text/html": [
              "<style>#sk-c9a3b430-f1b5-4711-98d8-3ae4d8efe1be {color: black;background-color: white;}#sk-c9a3b430-f1b5-4711-98d8-3ae4d8efe1be pre{padding: 0;}#sk-c9a3b430-f1b5-4711-98d8-3ae4d8efe1be div.sk-toggleable {background-color: white;}#sk-c9a3b430-f1b5-4711-98d8-3ae4d8efe1be label.sk-toggleable__label {cursor: pointer;display: block;width: 100%;margin-bottom: 0;padding: 0.3em;box-sizing: border-box;text-align: center;}#sk-c9a3b430-f1b5-4711-98d8-3ae4d8efe1be label.sk-toggleable__label-arrow:before {content: \"▸\";float: left;margin-right: 0.25em;color: #696969;}#sk-c9a3b430-f1b5-4711-98d8-3ae4d8efe1be label.sk-toggleable__label-arrow:hover:before {color: black;}#sk-c9a3b430-f1b5-4711-98d8-3ae4d8efe1be div.sk-estimator:hover label.sk-toggleable__label-arrow:before {color: black;}#sk-c9a3b430-f1b5-4711-98d8-3ae4d8efe1be div.sk-toggleable__content {max-height: 0;max-width: 0;overflow: hidden;text-align: left;background-color: #f0f8ff;}#sk-c9a3b430-f1b5-4711-98d8-3ae4d8efe1be div.sk-toggleable__content pre {margin: 0.2em;color: black;border-radius: 0.25em;background-color: #f0f8ff;}#sk-c9a3b430-f1b5-4711-98d8-3ae4d8efe1be input.sk-toggleable__control:checked~div.sk-toggleable__content {max-height: 200px;max-width: 100%;overflow: auto;}#sk-c9a3b430-f1b5-4711-98d8-3ae4d8efe1be input.sk-toggleable__control:checked~label.sk-toggleable__label-arrow:before {content: \"▾\";}#sk-c9a3b430-f1b5-4711-98d8-3ae4d8efe1be div.sk-estimator input.sk-toggleable__control:checked~label.sk-toggleable__label {background-color: #d4ebff;}#sk-c9a3b430-f1b5-4711-98d8-3ae4d8efe1be div.sk-label input.sk-toggleable__control:checked~label.sk-toggleable__label {background-color: #d4ebff;}#sk-c9a3b430-f1b5-4711-98d8-3ae4d8efe1be input.sk-hidden--visually {border: 0;clip: rect(1px 1px 1px 1px);clip: rect(1px, 1px, 1px, 1px);height: 1px;margin: -1px;overflow: hidden;padding: 0;position: absolute;width: 1px;}#sk-c9a3b430-f1b5-4711-98d8-3ae4d8efe1be div.sk-estimator {font-family: monospace;background-color: #f0f8ff;border: 1px dotted black;border-radius: 0.25em;box-sizing: border-box;margin-bottom: 0.5em;}#sk-c9a3b430-f1b5-4711-98d8-3ae4d8efe1be div.sk-estimator:hover {background-color: #d4ebff;}#sk-c9a3b430-f1b5-4711-98d8-3ae4d8efe1be div.sk-parallel-item::after {content: \"\";width: 100%;border-bottom: 1px solid gray;flex-grow: 1;}#sk-c9a3b430-f1b5-4711-98d8-3ae4d8efe1be div.sk-label:hover label.sk-toggleable__label {background-color: #d4ebff;}#sk-c9a3b430-f1b5-4711-98d8-3ae4d8efe1be div.sk-serial::before {content: \"\";position: absolute;border-left: 1px solid gray;box-sizing: border-box;top: 2em;bottom: 0;left: 50%;}#sk-c9a3b430-f1b5-4711-98d8-3ae4d8efe1be div.sk-serial {display: flex;flex-direction: column;align-items: center;background-color: white;padding-right: 0.2em;padding-left: 0.2em;}#sk-c9a3b430-f1b5-4711-98d8-3ae4d8efe1be div.sk-item {z-index: 1;}#sk-c9a3b430-f1b5-4711-98d8-3ae4d8efe1be div.sk-parallel {display: flex;align-items: stretch;justify-content: center;background-color: white;}#sk-c9a3b430-f1b5-4711-98d8-3ae4d8efe1be div.sk-parallel::before {content: \"\";position: absolute;border-left: 1px solid gray;box-sizing: border-box;top: 2em;bottom: 0;left: 50%;}#sk-c9a3b430-f1b5-4711-98d8-3ae4d8efe1be div.sk-parallel-item {display: flex;flex-direction: column;position: relative;background-color: white;}#sk-c9a3b430-f1b5-4711-98d8-3ae4d8efe1be div.sk-parallel-item:first-child::after {align-self: flex-end;width: 50%;}#sk-c9a3b430-f1b5-4711-98d8-3ae4d8efe1be div.sk-parallel-item:last-child::after {align-self: flex-start;width: 50%;}#sk-c9a3b430-f1b5-4711-98d8-3ae4d8efe1be div.sk-parallel-item:only-child::after {width: 0;}#sk-c9a3b430-f1b5-4711-98d8-3ae4d8efe1be div.sk-dashed-wrapped {border: 1px dashed gray;margin: 0 0.4em 0.5em 0.4em;box-sizing: border-box;padding-bottom: 0.4em;background-color: white;position: relative;}#sk-c9a3b430-f1b5-4711-98d8-3ae4d8efe1be div.sk-label label {font-family: monospace;font-weight: bold;background-color: white;display: inline-block;line-height: 1.2em;}#sk-c9a3b430-f1b5-4711-98d8-3ae4d8efe1be div.sk-label-container {position: relative;z-index: 2;text-align: center;}#sk-c9a3b430-f1b5-4711-98d8-3ae4d8efe1be div.sk-container {/* jupyter's `normalize.less` sets `[hidden] { display: none; }` but bootstrap.min.css set `[hidden] { display: none !important; }` so we also need the `!important` here to be able to override the default hidden behavior on the sphinx rendered scikit-learn.org. See: https://github.com/scikit-learn/scikit-learn/issues/21755 */display: inline-block !important;position: relative;}#sk-c9a3b430-f1b5-4711-98d8-3ae4d8efe1be div.sk-text-repr-fallback {display: none;}</style><div id=\"sk-c9a3b430-f1b5-4711-98d8-3ae4d8efe1be\" class=\"sk-top-container\"><div class=\"sk-text-repr-fallback\"><pre>ColumnTransformer(transformers=[(&#x27;pipeline-1&#x27;,\n",
              "                                 Pipeline(steps=[(&#x27;simpleimputer&#x27;,\n",
              "                                                  SimpleImputer(fill_value=&#x27;Missing&#x27;,\n",
              "                                                                strategy=&#x27;constant&#x27;)),\n",
              "                                                 (&#x27;onehotencoder&#x27;,\n",
              "                                                  OneHotEncoder(handle_unknown=&#x27;ignore&#x27;,\n",
              "                                                                sparse=False))]),\n",
              "                                 &lt;sklearn.compose._column_transformer.make_column_selector object at 0x7f24b0066670&gt;),\n",
              "                                (&#x27;pipeline-2&#x27;,\n",
              "                                 Pipeline(steps=[(&#x27;simpleimputer&#x27;,\n",
              "                                                  SimpleImputer())]),\n",
              "                                 &lt;sklearn.compose._column_transformer.make_column_selector object at 0x7f24b0066700&gt;)])</pre><b>Please rerun this cell to show the HTML repr or trust the notebook.</b></div><div class=\"sk-container\" hidden><div class=\"sk-item sk-dashed-wrapped\"><div class=\"sk-label-container\"><div class=\"sk-label sk-toggleable\"><input class=\"sk-toggleable__control sk-hidden--visually\" id=\"2b1be7c0-b4f0-4db1-b7de-5ca0401f8640\" type=\"checkbox\" ><label for=\"2b1be7c0-b4f0-4db1-b7de-5ca0401f8640\" class=\"sk-toggleable__label sk-toggleable__label-arrow\">ColumnTransformer</label><div class=\"sk-toggleable__content\"><pre>ColumnTransformer(transformers=[(&#x27;pipeline-1&#x27;,\n",
              "                                 Pipeline(steps=[(&#x27;simpleimputer&#x27;,\n",
              "                                                  SimpleImputer(fill_value=&#x27;Missing&#x27;,\n",
              "                                                                strategy=&#x27;constant&#x27;)),\n",
              "                                                 (&#x27;onehotencoder&#x27;,\n",
              "                                                  OneHotEncoder(handle_unknown=&#x27;ignore&#x27;,\n",
              "                                                                sparse=False))]),\n",
              "                                 &lt;sklearn.compose._column_transformer.make_column_selector object at 0x7f24b0066670&gt;),\n",
              "                                (&#x27;pipeline-2&#x27;,\n",
              "                                 Pipeline(steps=[(&#x27;simpleimputer&#x27;,\n",
              "                                                  SimpleImputer())]),\n",
              "                                 &lt;sklearn.compose._column_transformer.make_column_selector object at 0x7f24b0066700&gt;)])</pre></div></div></div><div class=\"sk-parallel\"><div class=\"sk-parallel-item\"><div class=\"sk-item\"><div class=\"sk-label-container\"><div class=\"sk-label sk-toggleable\"><input class=\"sk-toggleable__control sk-hidden--visually\" id=\"9617a8ba-5b4a-4b82-ba40-e904aab7373d\" type=\"checkbox\" ><label for=\"9617a8ba-5b4a-4b82-ba40-e904aab7373d\" class=\"sk-toggleable__label sk-toggleable__label-arrow\">pipeline-1</label><div class=\"sk-toggleable__content\"><pre>&lt;sklearn.compose._column_transformer.make_column_selector object at 0x7f24b0066670&gt;</pre></div></div></div><div class=\"sk-serial\"><div class=\"sk-item\"><div class=\"sk-serial\"><div class=\"sk-item\"><div class=\"sk-estimator sk-toggleable\"><input class=\"sk-toggleable__control sk-hidden--visually\" id=\"d1d500a7-0cc0-4f56-909c-025acb6aa446\" type=\"checkbox\" ><label for=\"d1d500a7-0cc0-4f56-909c-025acb6aa446\" class=\"sk-toggleable__label sk-toggleable__label-arrow\">SimpleImputer</label><div class=\"sk-toggleable__content\"><pre>SimpleImputer(fill_value=&#x27;Missing&#x27;, strategy=&#x27;constant&#x27;)</pre></div></div></div><div class=\"sk-item\"><div class=\"sk-estimator sk-toggleable\"><input class=\"sk-toggleable__control sk-hidden--visually\" id=\"bb511525-e103-48fb-a597-8c4fa72a2d65\" type=\"checkbox\" ><label for=\"bb511525-e103-48fb-a597-8c4fa72a2d65\" class=\"sk-toggleable__label sk-toggleable__label-arrow\">OneHotEncoder</label><div class=\"sk-toggleable__content\"><pre>OneHotEncoder(handle_unknown=&#x27;ignore&#x27;, sparse=False)</pre></div></div></div></div></div></div></div></div><div class=\"sk-parallel-item\"><div class=\"sk-item\"><div class=\"sk-label-container\"><div class=\"sk-label sk-toggleable\"><input class=\"sk-toggleable__control sk-hidden--visually\" id=\"17b29a48-2a85-4ee4-8f3e-ed953169f2bd\" type=\"checkbox\" ><label for=\"17b29a48-2a85-4ee4-8f3e-ed953169f2bd\" class=\"sk-toggleable__label sk-toggleable__label-arrow\">pipeline-2</label><div class=\"sk-toggleable__content\"><pre>&lt;sklearn.compose._column_transformer.make_column_selector object at 0x7f24b0066700&gt;</pre></div></div></div><div class=\"sk-serial\"><div class=\"sk-item\"><div class=\"sk-serial\"><div class=\"sk-item\"><div class=\"sk-estimator sk-toggleable\"><input class=\"sk-toggleable__control sk-hidden--visually\" id=\"3c1e3804-fb9d-404a-8cb1-b6b7c1ce89a3\" type=\"checkbox\" ><label for=\"3c1e3804-fb9d-404a-8cb1-b6b7c1ce89a3\" class=\"sk-toggleable__label sk-toggleable__label-arrow\">SimpleImputer</label><div class=\"sk-toggleable__content\"><pre>SimpleImputer()</pre></div></div></div></div></div></div></div></div></div></div></div></div>"
            ]
          },
          "metadata": {},
          "execution_count": 42
        }
      ]
    },
    {
      "cell_type": "markdown",
      "source": [
        "#### Create a model pipeline"
      ],
      "metadata": {
        "id": "4HPTR5L9rW9a"
      }
    },
    {
      "cell_type": "code",
      "source": [
        "#instantiate a regression tree model\n",
        "dec_tree = DecisionTreeRegressor(random_state = 42)\n",
        "#combine the preprocessing columntransformer and the linear regression model in a pipeline\n",
        "dec_tree_pipe = make_pipeline(preprocessor, dec_tree)\n",
        "dec_tree_pipe"
      ],
      "metadata": {
        "colab": {
          "base_uri": "https://localhost:8080/",
          "height": 227
        },
        "id": "iDI897Iyrc1M",
        "outputId": "0610f9bc-eb26-40d5-ddcd-32c132fb4356"
      },
      "execution_count": 43,
      "outputs": [
        {
          "output_type": "execute_result",
          "data": {
            "text/plain": [
              "Pipeline(steps=[('columntransformer',\n",
              "                 ColumnTransformer(transformers=[('pipeline-1',\n",
              "                                                  Pipeline(steps=[('simpleimputer',\n",
              "                                                                   SimpleImputer(fill_value='Missing',\n",
              "                                                                                 strategy='constant')),\n",
              "                                                                  ('onehotencoder',\n",
              "                                                                   OneHotEncoder(handle_unknown='ignore',\n",
              "                                                                                 sparse=False))]),\n",
              "                                                  <sklearn.compose._column_transformer.make_column_selector object at 0x7f24b0066670>),\n",
              "                                                 ('pipeline-2',\n",
              "                                                  Pipeline(steps=[('simpleimputer',\n",
              "                                                                   SimpleImputer())]),\n",
              "                                                  <sklearn.compose._column_transformer.make_column_selector object at 0x7f24b0066700>)])),\n",
              "                ('decisiontreeregressor',\n",
              "                 DecisionTreeRegressor(random_state=42))])"
            ],
            "text/html": [
              "<style>#sk-8ac71a4f-0d97-478f-961f-649fc5a102d7 {color: black;background-color: white;}#sk-8ac71a4f-0d97-478f-961f-649fc5a102d7 pre{padding: 0;}#sk-8ac71a4f-0d97-478f-961f-649fc5a102d7 div.sk-toggleable {background-color: white;}#sk-8ac71a4f-0d97-478f-961f-649fc5a102d7 label.sk-toggleable__label {cursor: pointer;display: block;width: 100%;margin-bottom: 0;padding: 0.3em;box-sizing: border-box;text-align: center;}#sk-8ac71a4f-0d97-478f-961f-649fc5a102d7 label.sk-toggleable__label-arrow:before {content: \"▸\";float: left;margin-right: 0.25em;color: #696969;}#sk-8ac71a4f-0d97-478f-961f-649fc5a102d7 label.sk-toggleable__label-arrow:hover:before {color: black;}#sk-8ac71a4f-0d97-478f-961f-649fc5a102d7 div.sk-estimator:hover label.sk-toggleable__label-arrow:before {color: black;}#sk-8ac71a4f-0d97-478f-961f-649fc5a102d7 div.sk-toggleable__content {max-height: 0;max-width: 0;overflow: hidden;text-align: left;background-color: #f0f8ff;}#sk-8ac71a4f-0d97-478f-961f-649fc5a102d7 div.sk-toggleable__content pre {margin: 0.2em;color: black;border-radius: 0.25em;background-color: #f0f8ff;}#sk-8ac71a4f-0d97-478f-961f-649fc5a102d7 input.sk-toggleable__control:checked~div.sk-toggleable__content {max-height: 200px;max-width: 100%;overflow: auto;}#sk-8ac71a4f-0d97-478f-961f-649fc5a102d7 input.sk-toggleable__control:checked~label.sk-toggleable__label-arrow:before {content: \"▾\";}#sk-8ac71a4f-0d97-478f-961f-649fc5a102d7 div.sk-estimator input.sk-toggleable__control:checked~label.sk-toggleable__label {background-color: #d4ebff;}#sk-8ac71a4f-0d97-478f-961f-649fc5a102d7 div.sk-label input.sk-toggleable__control:checked~label.sk-toggleable__label {background-color: #d4ebff;}#sk-8ac71a4f-0d97-478f-961f-649fc5a102d7 input.sk-hidden--visually {border: 0;clip: rect(1px 1px 1px 1px);clip: rect(1px, 1px, 1px, 1px);height: 1px;margin: -1px;overflow: hidden;padding: 0;position: absolute;width: 1px;}#sk-8ac71a4f-0d97-478f-961f-649fc5a102d7 div.sk-estimator {font-family: monospace;background-color: #f0f8ff;border: 1px dotted black;border-radius: 0.25em;box-sizing: border-box;margin-bottom: 0.5em;}#sk-8ac71a4f-0d97-478f-961f-649fc5a102d7 div.sk-estimator:hover {background-color: #d4ebff;}#sk-8ac71a4f-0d97-478f-961f-649fc5a102d7 div.sk-parallel-item::after {content: \"\";width: 100%;border-bottom: 1px solid gray;flex-grow: 1;}#sk-8ac71a4f-0d97-478f-961f-649fc5a102d7 div.sk-label:hover label.sk-toggleable__label {background-color: #d4ebff;}#sk-8ac71a4f-0d97-478f-961f-649fc5a102d7 div.sk-serial::before {content: \"\";position: absolute;border-left: 1px solid gray;box-sizing: border-box;top: 2em;bottom: 0;left: 50%;}#sk-8ac71a4f-0d97-478f-961f-649fc5a102d7 div.sk-serial {display: flex;flex-direction: column;align-items: center;background-color: white;padding-right: 0.2em;padding-left: 0.2em;}#sk-8ac71a4f-0d97-478f-961f-649fc5a102d7 div.sk-item {z-index: 1;}#sk-8ac71a4f-0d97-478f-961f-649fc5a102d7 div.sk-parallel {display: flex;align-items: stretch;justify-content: center;background-color: white;}#sk-8ac71a4f-0d97-478f-961f-649fc5a102d7 div.sk-parallel::before {content: \"\";position: absolute;border-left: 1px solid gray;box-sizing: border-box;top: 2em;bottom: 0;left: 50%;}#sk-8ac71a4f-0d97-478f-961f-649fc5a102d7 div.sk-parallel-item {display: flex;flex-direction: column;position: relative;background-color: white;}#sk-8ac71a4f-0d97-478f-961f-649fc5a102d7 div.sk-parallel-item:first-child::after {align-self: flex-end;width: 50%;}#sk-8ac71a4f-0d97-478f-961f-649fc5a102d7 div.sk-parallel-item:last-child::after {align-self: flex-start;width: 50%;}#sk-8ac71a4f-0d97-478f-961f-649fc5a102d7 div.sk-parallel-item:only-child::after {width: 0;}#sk-8ac71a4f-0d97-478f-961f-649fc5a102d7 div.sk-dashed-wrapped {border: 1px dashed gray;margin: 0 0.4em 0.5em 0.4em;box-sizing: border-box;padding-bottom: 0.4em;background-color: white;position: relative;}#sk-8ac71a4f-0d97-478f-961f-649fc5a102d7 div.sk-label label {font-family: monospace;font-weight: bold;background-color: white;display: inline-block;line-height: 1.2em;}#sk-8ac71a4f-0d97-478f-961f-649fc5a102d7 div.sk-label-container {position: relative;z-index: 2;text-align: center;}#sk-8ac71a4f-0d97-478f-961f-649fc5a102d7 div.sk-container {/* jupyter's `normalize.less` sets `[hidden] { display: none; }` but bootstrap.min.css set `[hidden] { display: none !important; }` so we also need the `!important` here to be able to override the default hidden behavior on the sphinx rendered scikit-learn.org. See: https://github.com/scikit-learn/scikit-learn/issues/21755 */display: inline-block !important;position: relative;}#sk-8ac71a4f-0d97-478f-961f-649fc5a102d7 div.sk-text-repr-fallback {display: none;}</style><div id=\"sk-8ac71a4f-0d97-478f-961f-649fc5a102d7\" class=\"sk-top-container\"><div class=\"sk-text-repr-fallback\"><pre>Pipeline(steps=[(&#x27;columntransformer&#x27;,\n",
              "                 ColumnTransformer(transformers=[(&#x27;pipeline-1&#x27;,\n",
              "                                                  Pipeline(steps=[(&#x27;simpleimputer&#x27;,\n",
              "                                                                   SimpleImputer(fill_value=&#x27;Missing&#x27;,\n",
              "                                                                                 strategy=&#x27;constant&#x27;)),\n",
              "                                                                  (&#x27;onehotencoder&#x27;,\n",
              "                                                                   OneHotEncoder(handle_unknown=&#x27;ignore&#x27;,\n",
              "                                                                                 sparse=False))]),\n",
              "                                                  &lt;sklearn.compose._column_transformer.make_column_selector object at 0x7f24b0066670&gt;),\n",
              "                                                 (&#x27;pipeline-2&#x27;,\n",
              "                                                  Pipeline(steps=[(&#x27;simpleimputer&#x27;,\n",
              "                                                                   SimpleImputer())]),\n",
              "                                                  &lt;sklearn.compose._column_transformer.make_column_selector object at 0x7f24b0066700&gt;)])),\n",
              "                (&#x27;decisiontreeregressor&#x27;,\n",
              "                 DecisionTreeRegressor(random_state=42))])</pre><b>Please rerun this cell to show the HTML repr or trust the notebook.</b></div><div class=\"sk-container\" hidden><div class=\"sk-item sk-dashed-wrapped\"><div class=\"sk-label-container\"><div class=\"sk-label sk-toggleable\"><input class=\"sk-toggleable__control sk-hidden--visually\" id=\"283c2797-2cd6-4a2a-9174-511d9af5cbda\" type=\"checkbox\" ><label for=\"283c2797-2cd6-4a2a-9174-511d9af5cbda\" class=\"sk-toggleable__label sk-toggleable__label-arrow\">Pipeline</label><div class=\"sk-toggleable__content\"><pre>Pipeline(steps=[(&#x27;columntransformer&#x27;,\n",
              "                 ColumnTransformer(transformers=[(&#x27;pipeline-1&#x27;,\n",
              "                                                  Pipeline(steps=[(&#x27;simpleimputer&#x27;,\n",
              "                                                                   SimpleImputer(fill_value=&#x27;Missing&#x27;,\n",
              "                                                                                 strategy=&#x27;constant&#x27;)),\n",
              "                                                                  (&#x27;onehotencoder&#x27;,\n",
              "                                                                   OneHotEncoder(handle_unknown=&#x27;ignore&#x27;,\n",
              "                                                                                 sparse=False))]),\n",
              "                                                  &lt;sklearn.compose._column_transformer.make_column_selector object at 0x7f24b0066670&gt;),\n",
              "                                                 (&#x27;pipeline-2&#x27;,\n",
              "                                                  Pipeline(steps=[(&#x27;simpleimputer&#x27;,\n",
              "                                                                   SimpleImputer())]),\n",
              "                                                  &lt;sklearn.compose._column_transformer.make_column_selector object at 0x7f24b0066700&gt;)])),\n",
              "                (&#x27;decisiontreeregressor&#x27;,\n",
              "                 DecisionTreeRegressor(random_state=42))])</pre></div></div></div><div class=\"sk-serial\"><div class=\"sk-item sk-dashed-wrapped\"><div class=\"sk-label-container\"><div class=\"sk-label sk-toggleable\"><input class=\"sk-toggleable__control sk-hidden--visually\" id=\"5c3b65bc-230f-406b-8216-e3110befab6e\" type=\"checkbox\" ><label for=\"5c3b65bc-230f-406b-8216-e3110befab6e\" class=\"sk-toggleable__label sk-toggleable__label-arrow\">columntransformer: ColumnTransformer</label><div class=\"sk-toggleable__content\"><pre>ColumnTransformer(transformers=[(&#x27;pipeline-1&#x27;,\n",
              "                                 Pipeline(steps=[(&#x27;simpleimputer&#x27;,\n",
              "                                                  SimpleImputer(fill_value=&#x27;Missing&#x27;,\n",
              "                                                                strategy=&#x27;constant&#x27;)),\n",
              "                                                 (&#x27;onehotencoder&#x27;,\n",
              "                                                  OneHotEncoder(handle_unknown=&#x27;ignore&#x27;,\n",
              "                                                                sparse=False))]),\n",
              "                                 &lt;sklearn.compose._column_transformer.make_column_selector object at 0x7f24b0066670&gt;),\n",
              "                                (&#x27;pipeline-2&#x27;,\n",
              "                                 Pipeline(steps=[(&#x27;simpleimputer&#x27;,\n",
              "                                                  SimpleImputer())]),\n",
              "                                 &lt;sklearn.compose._column_transformer.make_column_selector object at 0x7f24b0066700&gt;)])</pre></div></div></div><div class=\"sk-parallel\"><div class=\"sk-parallel-item\"><div class=\"sk-item\"><div class=\"sk-label-container\"><div class=\"sk-label sk-toggleable\"><input class=\"sk-toggleable__control sk-hidden--visually\" id=\"f531bb1a-07ba-449f-a547-7d67064b8837\" type=\"checkbox\" ><label for=\"f531bb1a-07ba-449f-a547-7d67064b8837\" class=\"sk-toggleable__label sk-toggleable__label-arrow\">pipeline-1</label><div class=\"sk-toggleable__content\"><pre>&lt;sklearn.compose._column_transformer.make_column_selector object at 0x7f24b0066670&gt;</pre></div></div></div><div class=\"sk-serial\"><div class=\"sk-item\"><div class=\"sk-serial\"><div class=\"sk-item\"><div class=\"sk-estimator sk-toggleable\"><input class=\"sk-toggleable__control sk-hidden--visually\" id=\"aadefa36-1c01-41d4-9c90-63507235a533\" type=\"checkbox\" ><label for=\"aadefa36-1c01-41d4-9c90-63507235a533\" class=\"sk-toggleable__label sk-toggleable__label-arrow\">SimpleImputer</label><div class=\"sk-toggleable__content\"><pre>SimpleImputer(fill_value=&#x27;Missing&#x27;, strategy=&#x27;constant&#x27;)</pre></div></div></div><div class=\"sk-item\"><div class=\"sk-estimator sk-toggleable\"><input class=\"sk-toggleable__control sk-hidden--visually\" id=\"e7f6d8b2-54c0-4f12-85d2-0f9b9555c3ac\" type=\"checkbox\" ><label for=\"e7f6d8b2-54c0-4f12-85d2-0f9b9555c3ac\" class=\"sk-toggleable__label sk-toggleable__label-arrow\">OneHotEncoder</label><div class=\"sk-toggleable__content\"><pre>OneHotEncoder(handle_unknown=&#x27;ignore&#x27;, sparse=False)</pre></div></div></div></div></div></div></div></div><div class=\"sk-parallel-item\"><div class=\"sk-item\"><div class=\"sk-label-container\"><div class=\"sk-label sk-toggleable\"><input class=\"sk-toggleable__control sk-hidden--visually\" id=\"396b9e7f-ba51-4d8d-9fa3-cafdbe1f44e3\" type=\"checkbox\" ><label for=\"396b9e7f-ba51-4d8d-9fa3-cafdbe1f44e3\" class=\"sk-toggleable__label sk-toggleable__label-arrow\">pipeline-2</label><div class=\"sk-toggleable__content\"><pre>&lt;sklearn.compose._column_transformer.make_column_selector object at 0x7f24b0066700&gt;</pre></div></div></div><div class=\"sk-serial\"><div class=\"sk-item\"><div class=\"sk-serial\"><div class=\"sk-item\"><div class=\"sk-estimator sk-toggleable\"><input class=\"sk-toggleable__control sk-hidden--visually\" id=\"07f1323f-10f5-47e6-b781-485d24b983c0\" type=\"checkbox\" ><label for=\"07f1323f-10f5-47e6-b781-485d24b983c0\" class=\"sk-toggleable__label sk-toggleable__label-arrow\">SimpleImputer</label><div class=\"sk-toggleable__content\"><pre>SimpleImputer()</pre></div></div></div></div></div></div></div></div></div></div><div class=\"sk-item\"><div class=\"sk-estimator sk-toggleable\"><input class=\"sk-toggleable__control sk-hidden--visually\" id=\"df220206-cbc0-4bf5-8b41-fdb296937e23\" type=\"checkbox\" ><label for=\"df220206-cbc0-4bf5-8b41-fdb296937e23\" class=\"sk-toggleable__label sk-toggleable__label-arrow\">DecisionTreeRegressor</label><div class=\"sk-toggleable__content\"><pre>DecisionTreeRegressor(random_state=42)</pre></div></div></div></div></div></div></div>"
            ]
          },
          "metadata": {},
          "execution_count": 43
        }
      ]
    },
    {
      "cell_type": "markdown",
      "source": [
        "#### Fit the model pipeline on the training data and make predictions"
      ],
      "metadata": {
        "id": "e3MT78KfsHao"
      }
    },
    {
      "cell_type": "code",
      "source": [
        "#fit the model pipeline on the training data\n",
        "dec_tree_pipe.fit(X_train, y_train)\n",
        "#make predictions using the training and testing data\n",
        "train_preds = dec_tree_pipe.predict(X_train)\n",
        "test_preds = dec_tree_pipe.predict(X_test)"
      ],
      "metadata": {
        "id": "5tgyXWqVsYFF"
      },
      "execution_count": 44,
      "outputs": []
    },
    {
      "cell_type": "markdown",
      "source": [
        "#### Evaluate the default model"
      ],
      "metadata": {
        "id": "mOdWMb8wEKDE"
      }
    },
    {
      "cell_type": "code",
      "source": [
        "train_score = dec_tree_pipe.score(X_train, y_train)\n",
        "test_score = dec_tree_pipe.score(X_test, y_test)\n",
        "print(train_score)\n",
        "print(test_score)"
      ],
      "metadata": {
        "colab": {
          "base_uri": "https://localhost:8080/"
        },
        "id": "BlCV9Mu9EVzM",
        "outputId": "64bfcd25-dcd2-49d1-a11f-a487ab8bc85a"
      },
      "execution_count": 45,
      "outputs": [
        {
          "output_type": "stream",
          "name": "stdout",
          "text": [
            "1.0\n",
            "0.18315478822009812\n"
          ]
        }
      ]
    },
    {
      "cell_type": "markdown",
      "source": [
        "  - The default decision tree had a much higher R^2 score on the training data than it did on the test data—the model is overfitting."
      ],
      "metadata": {
        "id": "WKnJ8AfvEjfP"
      }
    },
    {
      "cell_type": "markdown",
      "source": [
        "#### Tune the model to optimize performance on the test set."
      ],
      "metadata": {
        "id": "oZEQpFBbIiho"
      }
    },
    {
      "cell_type": "code",
      "source": [
        "#determine the depth of the default tree\n",
        "dec_tree.get_depth()"
      ],
      "metadata": {
        "colab": {
          "base_uri": "https://localhost:8080/"
        },
        "id": "3hWwsabDEuRF",
        "outputId": "4020cfb2-aaa3-4ce5-e3fb-5523a75a06c4"
      },
      "execution_count": 46,
      "outputs": [
        {
          "output_type": "execute_result",
          "data": {
            "text/plain": [
              "40"
            ]
          },
          "metadata": {},
          "execution_count": 46
        }
      ]
    },
    {
      "cell_type": "markdown",
      "source": [
        "  - The default tree had a depth of 40."
      ],
      "metadata": {
        "id": "XmFV7DZ0IKtq"
      }
    },
    {
      "cell_type": "code",
      "source": [
        "#use a for loop to try many values at once and compare them\n",
        "depths = list(range(2, 40))\n",
        "scores = pd.DataFrame(index=depths, columns = ['Test Score', 'Train Score'])\n",
        "for depth in depths:\n",
        "  dec_tree = DecisionTreeRegressor(max_depth=depth, random_state=42)\n",
        "  dec_tree_pipe = make_pipeline(preprocessor, dec_tree)\n",
        "  dec_tree_pipe.fit(X_train, y_train)\n",
        "  train_score = dec_tree_pipe.score(X_train, y_train)\n",
        "  test_score = dec_tree_pipe.score(X_test, y_test)\n",
        "  scores.loc[depth, 'Train Score'] = train_score\n",
        "  scores.loc[depth, 'Test Score'] = test_score\n",
        "scores.head()"
      ],
      "metadata": {
        "colab": {
          "base_uri": "https://localhost:8080/",
          "height": 206
        },
        "id": "0wJ-AksdIRiY",
        "outputId": "39cf881b-e102-4a9a-81e1-f23cddc1c478"
      },
      "execution_count": 47,
      "outputs": [
        {
          "output_type": "execute_result",
          "data": {
            "text/plain": [
              "  Test Score Train Score\n",
              "2   0.433778    0.431641\n",
              "3   0.524222    0.524218\n",
              "4   0.584005    0.582625\n",
              "5    0.59471     0.60394\n",
              "6   0.582587    0.615072"
            ],
            "text/html": [
              "\n",
              "  <div id=\"df-147d8274-eb33-44e5-aa11-4a115c400db3\">\n",
              "    <div class=\"colab-df-container\">\n",
              "      <div>\n",
              "<style scoped>\n",
              "    .dataframe tbody tr th:only-of-type {\n",
              "        vertical-align: middle;\n",
              "    }\n",
              "\n",
              "    .dataframe tbody tr th {\n",
              "        vertical-align: top;\n",
              "    }\n",
              "\n",
              "    .dataframe thead th {\n",
              "        text-align: right;\n",
              "    }\n",
              "</style>\n",
              "<table border=\"1\" class=\"dataframe\">\n",
              "  <thead>\n",
              "    <tr style=\"text-align: right;\">\n",
              "      <th></th>\n",
              "      <th>Test Score</th>\n",
              "      <th>Train Score</th>\n",
              "    </tr>\n",
              "  </thead>\n",
              "  <tbody>\n",
              "    <tr>\n",
              "      <th>2</th>\n",
              "      <td>0.433778</td>\n",
              "      <td>0.431641</td>\n",
              "    </tr>\n",
              "    <tr>\n",
              "      <th>3</th>\n",
              "      <td>0.524222</td>\n",
              "      <td>0.524218</td>\n",
              "    </tr>\n",
              "    <tr>\n",
              "      <th>4</th>\n",
              "      <td>0.584005</td>\n",
              "      <td>0.582625</td>\n",
              "    </tr>\n",
              "    <tr>\n",
              "      <th>5</th>\n",
              "      <td>0.59471</td>\n",
              "      <td>0.60394</td>\n",
              "    </tr>\n",
              "    <tr>\n",
              "      <th>6</th>\n",
              "      <td>0.582587</td>\n",
              "      <td>0.615072</td>\n",
              "    </tr>\n",
              "  </tbody>\n",
              "</table>\n",
              "</div>\n",
              "      <button class=\"colab-df-convert\" onclick=\"convertToInteractive('df-147d8274-eb33-44e5-aa11-4a115c400db3')\"\n",
              "              title=\"Convert this dataframe to an interactive table.\"\n",
              "              style=\"display:none;\">\n",
              "        \n",
              "  <svg xmlns=\"http://www.w3.org/2000/svg\" height=\"24px\"viewBox=\"0 0 24 24\"\n",
              "       width=\"24px\">\n",
              "    <path d=\"M0 0h24v24H0V0z\" fill=\"none\"/>\n",
              "    <path d=\"M18.56 5.44l.94 2.06.94-2.06 2.06-.94-2.06-.94-.94-2.06-.94 2.06-2.06.94zm-11 1L8.5 8.5l.94-2.06 2.06-.94-2.06-.94L8.5 2.5l-.94 2.06-2.06.94zm10 10l.94 2.06.94-2.06 2.06-.94-2.06-.94-.94-2.06-.94 2.06-2.06.94z\"/><path d=\"M17.41 7.96l-1.37-1.37c-.4-.4-.92-.59-1.43-.59-.52 0-1.04.2-1.43.59L10.3 9.45l-7.72 7.72c-.78.78-.78 2.05 0 2.83L4 21.41c.39.39.9.59 1.41.59.51 0 1.02-.2 1.41-.59l7.78-7.78 2.81-2.81c.8-.78.8-2.07 0-2.86zM5.41 20L4 18.59l7.72-7.72 1.47 1.35L5.41 20z\"/>\n",
              "  </svg>\n",
              "      </button>\n",
              "      \n",
              "  <style>\n",
              "    .colab-df-container {\n",
              "      display:flex;\n",
              "      flex-wrap:wrap;\n",
              "      gap: 12px;\n",
              "    }\n",
              "\n",
              "    .colab-df-convert {\n",
              "      background-color: #E8F0FE;\n",
              "      border: none;\n",
              "      border-radius: 50%;\n",
              "      cursor: pointer;\n",
              "      display: none;\n",
              "      fill: #1967D2;\n",
              "      height: 32px;\n",
              "      padding: 0 0 0 0;\n",
              "      width: 32px;\n",
              "    }\n",
              "\n",
              "    .colab-df-convert:hover {\n",
              "      background-color: #E2EBFA;\n",
              "      box-shadow: 0px 1px 2px rgba(60, 64, 67, 0.3), 0px 1px 3px 1px rgba(60, 64, 67, 0.15);\n",
              "      fill: #174EA6;\n",
              "    }\n",
              "\n",
              "    [theme=dark] .colab-df-convert {\n",
              "      background-color: #3B4455;\n",
              "      fill: #D2E3FC;\n",
              "    }\n",
              "\n",
              "    [theme=dark] .colab-df-convert:hover {\n",
              "      background-color: #434B5C;\n",
              "      box-shadow: 0px 1px 3px 1px rgba(0, 0, 0, 0.15);\n",
              "      filter: drop-shadow(0px 1px 2px rgba(0, 0, 0, 0.3));\n",
              "      fill: #FFFFFF;\n",
              "    }\n",
              "  </style>\n",
              "\n",
              "      <script>\n",
              "        const buttonEl =\n",
              "          document.querySelector('#df-147d8274-eb33-44e5-aa11-4a115c400db3 button.colab-df-convert');\n",
              "        buttonEl.style.display =\n",
              "          google.colab.kernel.accessAllowed ? 'block' : 'none';\n",
              "\n",
              "        async function convertToInteractive(key) {\n",
              "          const element = document.querySelector('#df-147d8274-eb33-44e5-aa11-4a115c400db3');\n",
              "          const dataTable =\n",
              "            await google.colab.kernel.invokeFunction('convertToInteractive',\n",
              "                                                     [key], {});\n",
              "          if (!dataTable) return;\n",
              "\n",
              "          const docLinkHtml = 'Like what you see? Visit the ' +\n",
              "            '<a target=\"_blank\" href=https://colab.research.google.com/notebooks/data_table.ipynb>data table notebook</a>'\n",
              "            + ' to learn more about interactive tables.';\n",
              "          element.innerHTML = '';\n",
              "          dataTable['output_type'] = 'display_data';\n",
              "          await google.colab.output.renderOutput(dataTable, element);\n",
              "          const docLink = document.createElement('div');\n",
              "          docLink.innerHTML = docLinkHtml;\n",
              "          element.appendChild(docLink);\n",
              "        }\n",
              "      </script>\n",
              "    </div>\n",
              "  </div>\n",
              "  "
            ]
          },
          "metadata": {},
          "execution_count": 47
        }
      ]
    },
    {
      "cell_type": "code",
      "source": [
        "#Check best score for the model by sorting dataframe to find the depth for the best score\n",
        "#looking for the index of the best test score\n",
        "sorted_scores = scores.sort_values(by='Test Score', ascending=False)\n",
        "sorted_scores.head()"
      ],
      "metadata": {
        "colab": {
          "base_uri": "https://localhost:8080/",
          "height": 206
        },
        "id": "hcbtXHTTIqhW",
        "outputId": "f2b34424-1b53-438f-9c77-82869d229b55"
      },
      "execution_count": 48,
      "outputs": [
        {
          "output_type": "execute_result",
          "data": {
            "text/plain": [
              "  Test Score Train Score\n",
              "5    0.59471     0.60394\n",
              "4   0.584005    0.582625\n",
              "6   0.582587    0.615072\n",
              "7   0.576841    0.626454\n",
              "8   0.560709    0.642714"
            ],
            "text/html": [
              "\n",
              "  <div id=\"df-609ad9b0-81ce-4e8f-9d79-00d8b23e32db\">\n",
              "    <div class=\"colab-df-container\">\n",
              "      <div>\n",
              "<style scoped>\n",
              "    .dataframe tbody tr th:only-of-type {\n",
              "        vertical-align: middle;\n",
              "    }\n",
              "\n",
              "    .dataframe tbody tr th {\n",
              "        vertical-align: top;\n",
              "    }\n",
              "\n",
              "    .dataframe thead th {\n",
              "        text-align: right;\n",
              "    }\n",
              "</style>\n",
              "<table border=\"1\" class=\"dataframe\">\n",
              "  <thead>\n",
              "    <tr style=\"text-align: right;\">\n",
              "      <th></th>\n",
              "      <th>Test Score</th>\n",
              "      <th>Train Score</th>\n",
              "    </tr>\n",
              "  </thead>\n",
              "  <tbody>\n",
              "    <tr>\n",
              "      <th>5</th>\n",
              "      <td>0.59471</td>\n",
              "      <td>0.60394</td>\n",
              "    </tr>\n",
              "    <tr>\n",
              "      <th>4</th>\n",
              "      <td>0.584005</td>\n",
              "      <td>0.582625</td>\n",
              "    </tr>\n",
              "    <tr>\n",
              "      <th>6</th>\n",
              "      <td>0.582587</td>\n",
              "      <td>0.615072</td>\n",
              "    </tr>\n",
              "    <tr>\n",
              "      <th>7</th>\n",
              "      <td>0.576841</td>\n",
              "      <td>0.626454</td>\n",
              "    </tr>\n",
              "    <tr>\n",
              "      <th>8</th>\n",
              "      <td>0.560709</td>\n",
              "      <td>0.642714</td>\n",
              "    </tr>\n",
              "  </tbody>\n",
              "</table>\n",
              "</div>\n",
              "      <button class=\"colab-df-convert\" onclick=\"convertToInteractive('df-609ad9b0-81ce-4e8f-9d79-00d8b23e32db')\"\n",
              "              title=\"Convert this dataframe to an interactive table.\"\n",
              "              style=\"display:none;\">\n",
              "        \n",
              "  <svg xmlns=\"http://www.w3.org/2000/svg\" height=\"24px\"viewBox=\"0 0 24 24\"\n",
              "       width=\"24px\">\n",
              "    <path d=\"M0 0h24v24H0V0z\" fill=\"none\"/>\n",
              "    <path d=\"M18.56 5.44l.94 2.06.94-2.06 2.06-.94-2.06-.94-.94-2.06-.94 2.06-2.06.94zm-11 1L8.5 8.5l.94-2.06 2.06-.94-2.06-.94L8.5 2.5l-.94 2.06-2.06.94zm10 10l.94 2.06.94-2.06 2.06-.94-2.06-.94-.94-2.06-.94 2.06-2.06.94z\"/><path d=\"M17.41 7.96l-1.37-1.37c-.4-.4-.92-.59-1.43-.59-.52 0-1.04.2-1.43.59L10.3 9.45l-7.72 7.72c-.78.78-.78 2.05 0 2.83L4 21.41c.39.39.9.59 1.41.59.51 0 1.02-.2 1.41-.59l7.78-7.78 2.81-2.81c.8-.78.8-2.07 0-2.86zM5.41 20L4 18.59l7.72-7.72 1.47 1.35L5.41 20z\"/>\n",
              "  </svg>\n",
              "      </button>\n",
              "      \n",
              "  <style>\n",
              "    .colab-df-container {\n",
              "      display:flex;\n",
              "      flex-wrap:wrap;\n",
              "      gap: 12px;\n",
              "    }\n",
              "\n",
              "    .colab-df-convert {\n",
              "      background-color: #E8F0FE;\n",
              "      border: none;\n",
              "      border-radius: 50%;\n",
              "      cursor: pointer;\n",
              "      display: none;\n",
              "      fill: #1967D2;\n",
              "      height: 32px;\n",
              "      padding: 0 0 0 0;\n",
              "      width: 32px;\n",
              "    }\n",
              "\n",
              "    .colab-df-convert:hover {\n",
              "      background-color: #E2EBFA;\n",
              "      box-shadow: 0px 1px 2px rgba(60, 64, 67, 0.3), 0px 1px 3px 1px rgba(60, 64, 67, 0.15);\n",
              "      fill: #174EA6;\n",
              "    }\n",
              "\n",
              "    [theme=dark] .colab-df-convert {\n",
              "      background-color: #3B4455;\n",
              "      fill: #D2E3FC;\n",
              "    }\n",
              "\n",
              "    [theme=dark] .colab-df-convert:hover {\n",
              "      background-color: #434B5C;\n",
              "      box-shadow: 0px 1px 3px 1px rgba(0, 0, 0, 0.15);\n",
              "      filter: drop-shadow(0px 1px 2px rgba(0, 0, 0, 0.3));\n",
              "      fill: #FFFFFF;\n",
              "    }\n",
              "  </style>\n",
              "\n",
              "      <script>\n",
              "        const buttonEl =\n",
              "          document.querySelector('#df-609ad9b0-81ce-4e8f-9d79-00d8b23e32db button.colab-df-convert');\n",
              "        buttonEl.style.display =\n",
              "          google.colab.kernel.accessAllowed ? 'block' : 'none';\n",
              "\n",
              "        async function convertToInteractive(key) {\n",
              "          const element = document.querySelector('#df-609ad9b0-81ce-4e8f-9d79-00d8b23e32db');\n",
              "          const dataTable =\n",
              "            await google.colab.kernel.invokeFunction('convertToInteractive',\n",
              "                                                     [key], {});\n",
              "          if (!dataTable) return;\n",
              "\n",
              "          const docLinkHtml = 'Like what you see? Visit the ' +\n",
              "            '<a target=\"_blank\" href=https://colab.research.google.com/notebooks/data_table.ipynb>data table notebook</a>'\n",
              "            + ' to learn more about interactive tables.';\n",
              "          element.innerHTML = '';\n",
              "          dataTable['output_type'] = 'display_data';\n",
              "          await google.colab.output.renderOutput(dataTable, element);\n",
              "          const docLink = document.createElement('div');\n",
              "          docLink.innerHTML = docLinkHtml;\n",
              "          element.appendChild(docLink);\n",
              "        }\n",
              "      </script>\n",
              "    </div>\n",
              "  </div>\n",
              "  "
            ]
          },
          "metadata": {},
          "execution_count": 48
        }
      ]
    },
    {
      "cell_type": "markdown",
      "source": [
        "  - The optimal max_depth is 5."
      ],
      "metadata": {
        "id": "Ps78-mTwIwTI"
      }
    },
    {
      "cell_type": "code",
      "source": [
        "# run the model with the optimized value for max_depth\n",
        "dec_tree_5 = DecisionTreeRegressor(max_depth = 5, random_state = 42)\n",
        "dec_tree_5_pipe = make_pipeline(preprocessor, dec_tree_5)\n",
        "dec_tree_5_pipe.fit(X_train, y_train)\n",
        "train_preds = dec_tree_5_pipe.predict(X_train)\n",
        "test_preds = dec_tree_5_pipe.predict(X_test)\n",
        "train_5_score = dec_tree_5_pipe.score(X_train, y_train)\n",
        "test_5_score = dec_tree_5_pipe.score(X_test, y_test)\n",
        "print(train_5_score)\n",
        "print(test_5_score)"
      ],
      "metadata": {
        "colab": {
          "base_uri": "https://localhost:8080/"
        },
        "id": "JGRcvSy3I2YM",
        "outputId": "9457737d-0b1d-4083-972f-d75f0137b1b2"
      },
      "execution_count": 49,
      "outputs": [
        {
          "output_type": "stream",
          "name": "stdout",
          "text": [
            "0.6039397477322958\n",
            "0.5947099753159972\n"
          ]
        }
      ]
    },
    {
      "cell_type": "markdown",
      "source": [
        "  - The r2 of the final model is .60 on the training set, and the r2 of the final model is .59 on the test set.\n",
        "  - The training and test results have moved closer to each other (a sign that overfitting was reduced). Most importantly, the testing score is higher."
      ],
      "metadata": {
        "id": "ik2slgoGJJWS"
      }
    },
    {
      "cell_type": "markdown",
      "source": [
        "#### Evaluate the performance of the model based on R^2"
      ],
      "metadata": {
        "id": "dRU-BF5gJe7x"
      }
    },
    {
      "cell_type": "code",
      "source": [
        "#evaluate the model\n",
        "print(f'Regression Tree Model Training R2: {train_5_score}')\n",
        "print(f'Regression Tree Model Testing R2: {test_5_score}')"
      ],
      "metadata": {
        "colab": {
          "base_uri": "https://localhost:8080/"
        },
        "id": "jfHI31N6Jk0l",
        "outputId": "7b4cbcdb-f0df-4792-e26d-b13bb0888e82"
      },
      "execution_count": 50,
      "outputs": [
        {
          "output_type": "stream",
          "name": "stdout",
          "text": [
            "Regression Tree Model Training R2: 0.6039397477322958\n",
            "Regression Tree Model Testing R2: 0.5947099753159972\n"
          ]
        }
      ]
    },
    {
      "cell_type": "markdown",
      "source": [
        "  - The regression tree model used the features to explain 60% of the variation in the target for the training data.\n",
        "  - The regression tree model used the features to explain 59% of the variation in the target for the testing data."
      ],
      "metadata": {
        "id": "PjhoLiGhKbtm"
      }
    },
    {
      "cell_type": "markdown",
      "source": [
        "#### Evaluate the performance of the model based on RMSE"
      ],
      "metadata": {
        "id": "H_zbOFh7K_fd"
      }
    },
    {
      "cell_type": "code",
      "source": [
        "#evaluate the model\n",
        "train_MAE = mean_absolute_error(y_train, train_preds)\n",
        "test_MAE = mean_absolute_error(y_test, test_preds)\n",
        "print(train_MAE)\n",
        "print(test_MAE)\n",
        "train_MSE = mean_squared_error(y_train, train_preds)\n",
        "test_MSE = mean_squared_error(y_test, test_preds)\n",
        "train_RMSE = np.sqrt(train_MSE)\n",
        "test_RMSE = np.sqrt(test_MSE)\n",
        "print(f'Regression Tree Model Training RMSE: {train_RMSE}')\n",
        "print(f'Regression Tree Model Testing RMSE: {test_RMSE}')"
      ],
      "metadata": {
        "colab": {
          "base_uri": "https://localhost:8080/"
        },
        "id": "Ssd7Cn5dK9iM",
        "outputId": "2a1951c8-6b3c-462a-80a6-91031f7039af"
      },
      "execution_count": 51,
      "outputs": [
        {
          "output_type": "stream",
          "name": "stdout",
          "text": [
            "762.6101695559578\n",
            "738.3173097797824\n",
            "Regression Tree Model Training RMSE: 1082.6461900869947\n",
            "Regression Tree Model Testing RMSE: 1057.4431299496734\n"
          ]
        }
      ]
    },
    {
      "cell_type": "markdown",
      "source": [
        "  - The RMSE is larger than the MAE--while the model is making an average error of 738.32 on the test data, it is making some larger errors.\n",
        "  - Additionally, the RMSE is larger on the training data than on the test data--the model is overfitting."
      ],
      "metadata": {
        "id": "kdOx3uT1MPMy"
      }
    },
    {
      "cell_type": "markdown",
      "source": [
        "## Overall, which model do you recommend?\n",
        "- Justify your recommendation."
      ],
      "metadata": {
        "id": "Jhl-BEuMx6TW"
      }
    },
    {
      "cell_type": "code",
      "source": [
        "# Create a function to take the true and predicted values\n",
        "# and print MAE, MSE, RMSE, and R2 metrics\n",
        "def evaluation_model(pipe, model_name='', \n",
        "                     x_train='X_train', x_test='X_test'):\n",
        "  # Train\n",
        "  mae = round(mean_absolute_error(y_train, pipe.predict(x_train)),4)\n",
        "  mse = round(mean_squared_error(y_train, pipe.predict(x_train)),4)\n",
        "  rmse = round(np.sqrt(mean_squared_error(y_train, pipe.predict(x_train))),4)\n",
        "  r2 = round(r2_score(y_train, pipe.predict(x_train)),7)\n",
        "  print(f'{model_name} Train Scores')\n",
        "  print(f'MAE: {mae:,.4f} \\nMSE: {mse:,.4f} \\nRMSE: {rmse:,.4f} \\nR2: {r2:.4f}\\n')\n",
        "\n",
        "  # Test\n",
        "  mae = round(mean_absolute_error(y_test, pipe.predict(x_test)),4)\n",
        "  mse = round(mean_squared_error(y_test, pipe.predict(x_test)),4)\n",
        "  rmse = round(np.sqrt(mean_squared_error(y_test, pipe.predict(x_test))),4)\n",
        "  r2 = round(r2_score(y_test, pipe.predict(x_test)),7)\n",
        "\n",
        "  # Display the metrics for the model\n",
        "  print(f'{model_name} Test Scores')\n",
        "  print(f'MAE: {mae:,.4f} \\nMSE: {mse:,.4f} \\nRMSE: {rmse:,.4f} \\nR2: {r2:.4f}\\n')"
      ],
      "metadata": {
        "id": "uAO8PYtGNHMC"
      },
      "execution_count": 52,
      "outputs": []
    },
    {
      "cell_type": "code",
      "source": [
        "evaluation_model(pipe=linreg_pipe, model_name='Linear Regression Model', x_train=X_train, x_test=X_test)\n",
        "evaluation_model(pipe=dec_tree_5_pipe, model_name='Regression Tree Model', x_train=X_train, x_test=X_test)"
      ],
      "metadata": {
        "colab": {
          "base_uri": "https://localhost:8080/"
        },
        "id": "pTbV6x55NNrQ",
        "outputId": "884f9653-e3aa-4c9f-f81c-bc688f842b96"
      },
      "execution_count": 53,
      "outputs": [
        {
          "output_type": "stream",
          "name": "stdout",
          "text": [
            "Linear Regression Model Train Scores\n",
            "MAE: 847.5703 \n",
            "MSE: 1,302,913.1590 \n",
            "RMSE: 1,141.4522 \n",
            "R2: 0.5597\n",
            "\n",
            "Linear Regression Model Test Scores\n",
            "MAE: 804.6182 \n",
            "MSE: 1,195,841.2093 \n",
            "RMSE: 1,093.5452 \n",
            "R2: 0.5666\n",
            "\n",
            "Regression Tree Model Train Scores\n",
            "MAE: 762.6102 \n",
            "MSE: 1,172,122.7729 \n",
            "RMSE: 1,082.6462 \n",
            "R2: 0.6039\n",
            "\n",
            "Regression Tree Model Test Scores\n",
            "MAE: 738.3173 \n",
            "MSE: 1,118,185.9731 \n",
            "RMSE: 1,057.4431 \n",
            "R2: 0.5947\n",
            "\n"
          ]
        }
      ]
    },
    {
      "cell_type": "markdown",
      "source": [
        "  - Good performance on the testing data is the most important consideration for choosing a model--therefore the two models will be compared based on their Test Scores.\n",
        "  - The Regression Tree Model had the lowest MAE and RMSE for the testing data.  The Regression Tree Model also had the highest R2 score.\n",
        "  - ***The Regression Tree Model was the best model, based on the regression metrics for the testing data.***"
      ],
      "metadata": {
        "id": "hmhc3jGuM1e0"
      }
    },
    {
      "cell_type": "markdown",
      "source": [
        "  - Mean Absolute Error:  \n",
        "  The average that the Regression Tree Model was off on its predictions was 762.61 for the training set and 738.32 for the test set. Since the average of the sales was 2181.29, the model was off by about 34% on average.  \n",
        "  - Root Mean Squared Error:\n",
        "  The RMSE is larger than MAE calculated previously. This tells us that while the Regression Tree Model is making an average error of 738.32 on the test data it is making some larger errors.\n",
        "  - R-Squared Score:  \n",
        "  The Regression Tree Model can account for about 59% of the variation in sales using the features (item identifier, item weight, item fat content, item visibility, item type, item maximum price, outlet identifier, outlet establishment year, outlet size, outlet location type, and outlet type).  Given new data for the features (item identifier, item weight, item fat content, item visibility, item type, item maximum price, outlet identifier, outlet establishment year, outlet size, outlet location type, and outlet type), the Regression Tree Model can be applied in order to predict the future sales. The predictions might be off by about 34%, with some larger errors--however, the model would account for about 59% of the variation in sales."
      ],
      "metadata": {
        "id": "H6XsEpNZOUQw"
      }
    },
    {
      "cell_type": "code",
      "source": [],
      "metadata": {
        "id": "DDsDQY6kxxA-"
      },
      "execution_count": 53,
      "outputs": []
    }
  ]
}